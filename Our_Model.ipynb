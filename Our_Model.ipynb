{
  "nbformat": 4,
  "nbformat_minor": 0,
  "metadata": {
    "colab": {
      "name": "Our_Model.ipynb",
      "provenance": [],
      "collapsed_sections": [],
      "include_colab_link": true
    },
    "kernelspec": {
      "display_name": "Python 3",
      "language": "python",
      "name": "python3"
    },
    "language_info": {
      "codemirror_mode": {
        "name": "ipython",
        "version": 3
      },
      "file_extension": ".py",
      "mimetype": "text/x-python",
      "name": "python",
      "nbconvert_exporter": "python",
      "pygments_lexer": "ipython3",
      "version": "3.8.3"
    }
  },
  "cells": [
    {
      "cell_type": "markdown",
      "metadata": {
        "id": "view-in-github",
        "colab_type": "text"
      },
      "source": [
        "<a href=\"https://colab.research.google.com/github/AshuMaths1729/COVID_jobs/blob/main/Our_Model.ipynb\" target=\"_parent\"><img src=\"https://colab.research.google.com/assets/colab-badge.svg\" alt=\"Open In Colab\"/></a>"
      ]
    },
    {
      "cell_type": "markdown",
      "metadata": {
        "id": "Z6RKBqFrnpCs"
      },
      "source": [
        "**COVID Jobs Paper**\n",
        "\n",
        "By:\n",
        "1. Ashutosh Agrahari\n",
        "2. Ankur Veer\n",
        "3. Pawan Singh\n",
        "4. Anshuman Singh"
      ]
    },
    {
      "cell_type": "markdown",
      "metadata": {
        "id": "3jfhClK0Ifys"
      },
      "source": [
        "\n",
        "1. Make two data - 1) 1991-2019 and 2) 1991- Jul 2020\n",
        "2. Train model on two data. Let trained models be M1 and M2.\n",
        "3. Make a dataframe with one column 'ds' with values from Jun 2019 to Jul 2020.\n",
        "4. Generate predictions from the two trained models on this dataframe. Let them be P1 and P2.\n",
        "5. The actual values for Jun 2019 to Jul 2020 are with us. Let it be C.\n",
        "6. Combine the preds of two models as, \n",
        "    aP1 + bP2\n",
        "7. Minimize the difference between actual and predicted values.\n",
        "8. Minimize the expression, aP1 + bP2 - C, and find values of a and b using least squares approximation.\n",
        "9. Use the calculated a and b to combine predictions on further timelines, from Aug 2020 onwards.\n",
        "\n",
        "\n",
        "---\n",
        "\n"
      ]
    },
    {
      "cell_type": "code",
      "metadata": {
        "id": "AaXrs9EJCkQl"
      },
      "source": [
        "import pandas as pd\n",
        "import datetime\n",
        "from fbprophet import Prophet\n",
        "import os\n",
        "# os.chdir('/content/drive/MyDrive/COVID_Jobs')"
      ],
      "execution_count": null,
      "outputs": []
    },
    {
      "cell_type": "code",
      "metadata": {
        "colab": {
          "base_uri": "https://localhost:8080/",
          "height": 52
        },
        "id": "dKxVckPAUkJb",
        "outputId": "04993ef7-8361-4617-8887-4cf60f1ff21e"
      },
      "source": [
        "# Make future dataframe\n",
        "\"\"\"\n",
        "fd = ['30-06-2019','31-07-2019','31-08-2019','30-09-2019','31-10-2019',\\\n",
        "  '30-11-2019','31-12-2019','31-01-2020','29-02-2020','31-03-2020','30-04-2020',\\\n",
        "    '31-05-2020','30-06-2020','31-07-2020','31-08-2020','30-09-2020','31-10-2020','30-11-2020']\n",
        "\"\"\"\n"
      ],
      "execution_count": null,
      "outputs": [
        {
          "output_type": "execute_result",
          "data": {
            "application/vnd.google.colaboratory.intrinsic+json": {
              "type": "string"
            },
            "text/plain": [
              "\"\\nfd = ['30-06-2019','31-07-2019','31-08-2019','30-09-2019','31-10-2019',  '30-11-2019','31-12-2019','31-01-2020','29-02-2020','31-03-2020','30-04-2020',    '31-05-2020','30-06-2020','31-07-2020','31-08-2020','30-09-2020','31-10-2020','30-11-2020']\\n\""
            ]
          },
          "metadata": {},
          "execution_count": 29
        }
      ]
    },
    {
      "cell_type": "markdown",
      "metadata": {
        "id": "NaKRjJixnAvj"
      },
      "source": [
        "**Model 2** without COVID pattern"
      ]
    },
    {
      "cell_type": "code",
      "metadata": {
        "colab": {
          "base_uri": "https://localhost:8080/"
        },
        "id": "hHTV9FGSC4IZ",
        "outputId": "0c0ac9da-4f3e-4b61-94ee-8800f19082d0"
      },
      "source": [
        "### Model 2\n",
        "new_df2 = pd.read_csv('Monthly_Unemployment_1991-2020.csv')\n",
        "new_df2['ds'] = pd.to_datetime(new_df2['ds'], yearfirst=True)\n",
        "\n",
        "# Train M2\n",
        "m2 = Prophet(seasonality_mode='multiplicative', mcmc_samples=len(new_df2))\n",
        "m2.fit(new_df2)\n",
        "\n",
        "future = m2.make_future_dataframe(periods=0, freq='M')\n",
        "\n",
        "# Preds 2\n",
        "P2 = m2.predict(future)[['ds', 'yhat']]\n"
      ],
      "execution_count": null,
      "outputs": [
        {
          "output_type": "stream",
          "text": [
            "INFO:fbprophet:Disabling weekly seasonality. Run prophet with weekly_seasonality=True to override this.\n",
            "INFO:fbprophet:Disabling daily seasonality. Run prophet with daily_seasonality=True to override this.\n"
          ],
          "name": "stderr"
        }
      ]
    },
    {
      "cell_type": "code",
      "metadata": {
        "colab": {
          "base_uri": "https://localhost:8080/",
          "height": 419
        },
        "id": "SWgVYnAkVONJ",
        "outputId": "c2a2847a-a7fb-47df-d725-b43231d7e817"
      },
      "source": [
        "future"
      ],
      "execution_count": null,
      "outputs": [
        {
          "output_type": "execute_result",
          "data": {
            "text/html": [
              "<div>\n",
              "<style scoped>\n",
              "    .dataframe tbody tr th:only-of-type {\n",
              "        vertical-align: middle;\n",
              "    }\n",
              "\n",
              "    .dataframe tbody tr th {\n",
              "        vertical-align: top;\n",
              "    }\n",
              "\n",
              "    .dataframe thead th {\n",
              "        text-align: right;\n",
              "    }\n",
              "</style>\n",
              "<table border=\"1\" class=\"dataframe\">\n",
              "  <thead>\n",
              "    <tr style=\"text-align: right;\">\n",
              "      <th></th>\n",
              "      <th>ds</th>\n",
              "    </tr>\n",
              "  </thead>\n",
              "  <tbody>\n",
              "    <tr>\n",
              "      <th>0</th>\n",
              "      <td>1991-12-31</td>\n",
              "    </tr>\n",
              "    <tr>\n",
              "      <th>1</th>\n",
              "      <td>1992-01-31</td>\n",
              "    </tr>\n",
              "    <tr>\n",
              "      <th>2</th>\n",
              "      <td>1992-02-29</td>\n",
              "    </tr>\n",
              "    <tr>\n",
              "      <th>3</th>\n",
              "      <td>1992-03-31</td>\n",
              "    </tr>\n",
              "    <tr>\n",
              "      <th>4</th>\n",
              "      <td>1992-04-30</td>\n",
              "    </tr>\n",
              "    <tr>\n",
              "      <th>...</th>\n",
              "      <td>...</td>\n",
              "    </tr>\n",
              "    <tr>\n",
              "      <th>339</th>\n",
              "      <td>2020-03-31</td>\n",
              "    </tr>\n",
              "    <tr>\n",
              "      <th>340</th>\n",
              "      <td>2020-04-30</td>\n",
              "    </tr>\n",
              "    <tr>\n",
              "      <th>341</th>\n",
              "      <td>2020-05-31</td>\n",
              "    </tr>\n",
              "    <tr>\n",
              "      <th>342</th>\n",
              "      <td>2020-06-30</td>\n",
              "    </tr>\n",
              "    <tr>\n",
              "      <th>343</th>\n",
              "      <td>2020-07-31</td>\n",
              "    </tr>\n",
              "  </tbody>\n",
              "</table>\n",
              "<p>344 rows × 1 columns</p>\n",
              "</div>"
            ],
            "text/plain": [
              "            ds\n",
              "0   1991-12-31\n",
              "1   1992-01-31\n",
              "2   1992-02-29\n",
              "3   1992-03-31\n",
              "4   1992-04-30\n",
              "..         ...\n",
              "339 2020-03-31\n",
              "340 2020-04-30\n",
              "341 2020-05-31\n",
              "342 2020-06-30\n",
              "343 2020-07-31\n",
              "\n",
              "[344 rows x 1 columns]"
            ]
          },
          "metadata": {},
          "execution_count": 105
        }
      ]
    },
    {
      "cell_type": "markdown",
      "metadata": {
        "id": "4bTIBUw0nGCp"
      },
      "source": [
        "**Model 1** with COVID pattern"
      ]
    },
    {
      "cell_type": "code",
      "metadata": {
        "colab": {
          "base_uri": "https://localhost:8080/"
        },
        "id": "9zNTZzEMC7Tc",
        "outputId": "6cfe9602-d93e-4491-dfff-4d1076eab7b8"
      },
      "source": [
        "### Model 1\n",
        "d1 = pd.read_excel('Unemployment_Rate_India_1991-2019.xlsx')\n",
        "df1 = d1.rename(columns = {\"Year\": \"ds\", \"Unemployment Rate\":\"y\"})\n",
        "df1['ds'] = pd.to_datetime(df1['ds'], yearfirst=True)\n",
        "\n",
        "# interpolate data to get it for months\n",
        "new_df1 = df1.set_index('ds').resample('M').interpolate(method='linear', axis=0, limit=None, inplace=False,\\\n",
        "         limit_direction='forward', limit_area=None, downcast=None).reset_index()\n",
        "\n",
        "# Train M1\n",
        "m1 = Prophet(seasonality_mode='multiplicative', mcmc_samples=len(d1))\n",
        "m1.fit(new_df1)\n",
        "\n",
        "# Preds 1\n",
        "P1 = m1.predict(future)[['ds', 'yhat']]"
      ],
      "execution_count": null,
      "outputs": [
        {
          "output_type": "stream",
          "text": [
            "INFO:fbprophet:Disabling weekly seasonality. Run prophet with weekly_seasonality=True to override this.\n",
            "INFO:fbprophet:Disabling daily seasonality. Run prophet with daily_seasonality=True to override this.\n",
            "WARNING:pystan:n_eff / iter below 0.001 indicates that the effective sample size has likely been overestimated\n",
            "WARNING:pystan:Rhat above 1.1 or below 0.9 indicates that the chains very likely have not mixed\n",
            "WARNING:pystan:59 of 60 iterations ended with a divergence (98.3 %).\n",
            "WARNING:pystan:Try running with adapt_delta larger than 0.8 to remove the divergences.\n"
          ],
          "name": "stderr"
        }
      ]
    },
    {
      "cell_type": "code",
      "metadata": {
        "colab": {
          "base_uri": "https://localhost:8080/"
        },
        "id": "TJ8r7NBs34wW",
        "outputId": "fce56b57-72f5-44c0-aa9a-5246fd24d2b5"
      },
      "source": [
        "p, q = new_df1.shape[0], new_df2.shape[0]\n",
        "p_ratio = p/(p+q)\n",
        "q_ratio = q/(p + q)\n",
        "p_ratio, q_ratio"
      ],
      "execution_count": null,
      "outputs": [
        {
          "output_type": "execute_result",
          "data": {
            "text/plain": [
              "(0.4948604992657856, 0.5051395007342144)"
            ]
          },
          "metadata": {},
          "execution_count": 107
        }
      ]
    },
    {
      "cell_type": "code",
      "metadata": {
        "id": "nj_SJ3kxDBVM"
      },
      "source": [
        "### Original Values (C)\n",
        "C = new_df2['y']"
      ],
      "execution_count": null,
      "outputs": []
    },
    {
      "cell_type": "code",
      "metadata": {
        "id": "oDIXMBLLDeO-"
      },
      "source": [
        "# Import modules\n",
        "import sys\n",
        "import numpy as np\n",
        "import matplotlib.pyplot as plt\n",
        "%matplotlib inline"
      ],
      "execution_count": null,
      "outputs": []
    },
    {
      "cell_type": "markdown",
      "metadata": {
        "id": "sYS4sfzgnTxS"
      },
      "source": [
        "**Least Squares Approximation**\n",
        "\n",
        "to estimate a and b, so as to combine results from models trained on both patterns."
      ]
    },
    {
      "cell_type": "code",
      "metadata": {
        "id": "1fTKt3KJaqPW"
      },
      "source": [
        "## Now implementing Least Squares Approximation\n",
        "from scipy.optimize import leastsq\n",
        "\n",
        "xdata = np.transpose(np.array([P1['yhat'],P2['yhat']]))\n",
        "ydata = np.transpose(np.array(C))"
      ],
      "execution_count": null,
      "outputs": []
    },
    {
      "cell_type": "code",
      "metadata": {
        "id": "pcgROvRUleMS"
      },
      "source": [
        "def func(params, xdata, ydata):\n",
        "    return (ydata - np.dot(xdata, params))"
      ],
      "execution_count": null,
      "outputs": []
    },
    {
      "cell_type": "code",
      "metadata": {
        "colab": {
          "base_uri": "https://localhost:8080/"
        },
        "id": "E51ullKGl0Lx",
        "outputId": "09e2d53e-7920-4119-9853-490fd2e90aa3"
      },
      "source": [
        "params = leastsq(func, [0,0], args=(xdata, ydata))\n",
        "a, b = params[0]\n",
        "a_, b_ = a*p_ratio, b*q_ratio\n",
        "a_1, b_1 = a*q_ratio, b*p_ratio\n",
        "params1, params2, params3 = (a, b) , (a_, b_), (a_1, b_1)\n",
        "params1, params2, params3"
      ],
      "execution_count": null,
      "outputs": [
        {
          "output_type": "execute_result",
          "data": {
            "text/plain": [
              "((-0.009347898336120597, 1.0128869656589612),\n",
              " (-0.004625905637698446, 0.5116492161331611),\n",
              " (-0.004721992698422152, 0.5012377495258002))"
            ]
          },
          "metadata": {},
          "execution_count": 112
        }
      ]
    },
    {
      "cell_type": "code",
      "metadata": {
        "id": "ufHFLrSJytyB"
      },
      "source": [
        "params1 = (-0.1113,1.1055)\n",
        "params2 = (-0.0547, 0.5616)\n",
        "params3 = (-0.0565, 0.5438)"
      ],
      "execution_count": null,
      "outputs": []
    },
    {
      "cell_type": "markdown",
      "metadata": {
        "id": "q3kBtdR_nlrw"
      },
      "source": [
        "so now **a = -13.344894120968593** and **b = 10.07420211311749**, as calculated using least squares approximation\n",
        "\n",
        "Now we can use equation, aP1 + bP2 to combine predictions from both models.\n",
        "\n",
        "\n",
        "---\n",
        "\n",
        "\n",
        "\n",
        "---\n",
        "\n"
      ]
    },
    {
      "cell_type": "code",
      "metadata": {
        "colab": {
          "base_uri": "https://localhost:8080/",
          "height": 419
        },
        "id": "jy3A4J0hqdRh",
        "outputId": "805482e1-3eeb-4299-c5c3-297a873a3d64"
      },
      "source": [
        "# Combined Predictions as per LSA and params1\n",
        "res = np.dot(xdata, params1)\n",
        "res_df = pd.DataFrame(res, columns=['yhat'])\n",
        "LSA_preds1 = pd.concat([future, res_df], axis=1)\n",
        "LSA_preds1"
      ],
      "execution_count": null,
      "outputs": [
        {
          "output_type": "execute_result",
          "data": {
            "text/html": [
              "<div>\n",
              "<style scoped>\n",
              "    .dataframe tbody tr th:only-of-type {\n",
              "        vertical-align: middle;\n",
              "    }\n",
              "\n",
              "    .dataframe tbody tr th {\n",
              "        vertical-align: top;\n",
              "    }\n",
              "\n",
              "    .dataframe thead th {\n",
              "        text-align: right;\n",
              "    }\n",
              "</style>\n",
              "<table border=\"1\" class=\"dataframe\">\n",
              "  <thead>\n",
              "    <tr style=\"text-align: right;\">\n",
              "      <th></th>\n",
              "      <th>ds</th>\n",
              "      <th>yhat</th>\n",
              "    </tr>\n",
              "  </thead>\n",
              "  <tbody>\n",
              "    <tr>\n",
              "      <th>0</th>\n",
              "      <td>1991-12-31</td>\n",
              "      <td>5.076114</td>\n",
              "    </tr>\n",
              "    <tr>\n",
              "      <th>1</th>\n",
              "      <td>1992-01-31</td>\n",
              "      <td>5.454841</td>\n",
              "    </tr>\n",
              "    <tr>\n",
              "      <th>2</th>\n",
              "      <td>1992-02-29</td>\n",
              "      <td>5.062472</td>\n",
              "    </tr>\n",
              "    <tr>\n",
              "      <th>3</th>\n",
              "      <td>1992-03-31</td>\n",
              "      <td>4.993910</td>\n",
              "    </tr>\n",
              "    <tr>\n",
              "      <th>4</th>\n",
              "      <td>1992-04-30</td>\n",
              "      <td>6.615523</td>\n",
              "    </tr>\n",
              "    <tr>\n",
              "      <th>...</th>\n",
              "      <td>...</td>\n",
              "      <td>...</td>\n",
              "    </tr>\n",
              "    <tr>\n",
              "      <th>339</th>\n",
              "      <td>2020-03-31</td>\n",
              "      <td>7.852872</td>\n",
              "    </tr>\n",
              "    <tr>\n",
              "      <th>340</th>\n",
              "      <td>2020-04-30</td>\n",
              "      <td>10.339535</td>\n",
              "    </tr>\n",
              "    <tr>\n",
              "      <th>341</th>\n",
              "      <td>2020-05-31</td>\n",
              "      <td>10.558125</td>\n",
              "    </tr>\n",
              "    <tr>\n",
              "      <th>342</th>\n",
              "      <td>2020-06-30</td>\n",
              "      <td>8.105134</td>\n",
              "    </tr>\n",
              "    <tr>\n",
              "      <th>343</th>\n",
              "      <td>2020-07-31</td>\n",
              "      <td>7.657027</td>\n",
              "    </tr>\n",
              "  </tbody>\n",
              "</table>\n",
              "<p>344 rows × 2 columns</p>\n",
              "</div>"
            ],
            "text/plain": [
              "            ds       yhat\n",
              "0   1991-12-31   5.076114\n",
              "1   1992-01-31   5.454841\n",
              "2   1992-02-29   5.062472\n",
              "3   1992-03-31   4.993910\n",
              "4   1992-04-30   6.615523\n",
              "..         ...        ...\n",
              "339 2020-03-31   7.852872\n",
              "340 2020-04-30  10.339535\n",
              "341 2020-05-31  10.558125\n",
              "342 2020-06-30   8.105134\n",
              "343 2020-07-31   7.657027\n",
              "\n",
              "[344 rows x 2 columns]"
            ]
          },
          "metadata": {},
          "execution_count": 124
        }
      ]
    },
    {
      "cell_type": "code",
      "metadata": {
        "colab": {
          "base_uri": "https://localhost:8080/",
          "height": 419
        },
        "id": "PevYH3p55EeG",
        "outputId": "ab0d2bf3-8ca5-4a2c-99de-a0593e2ac61a"
      },
      "source": [
        "# Combined Predictions as per LSA and params2\n",
        "res = np.dot(xdata, params2)\n",
        "res_df = pd.DataFrame(res, columns=['yhat'])\n",
        "LSA_preds2 = pd.concat([future, res_df], axis=1)\n",
        "LSA_preds2"
      ],
      "execution_count": null,
      "outputs": [
        {
          "output_type": "execute_result",
          "data": {
            "text/html": [
              "<div>\n",
              "<style scoped>\n",
              "    .dataframe tbody tr th:only-of-type {\n",
              "        vertical-align: middle;\n",
              "    }\n",
              "\n",
              "    .dataframe tbody tr th {\n",
              "        vertical-align: top;\n",
              "    }\n",
              "\n",
              "    .dataframe thead th {\n",
              "        text-align: right;\n",
              "    }\n",
              "</style>\n",
              "<table border=\"1\" class=\"dataframe\">\n",
              "  <thead>\n",
              "    <tr style=\"text-align: right;\">\n",
              "      <th></th>\n",
              "      <th>ds</th>\n",
              "      <th>yhat</th>\n",
              "    </tr>\n",
              "  </thead>\n",
              "  <tbody>\n",
              "    <tr>\n",
              "      <th>0</th>\n",
              "      <td>1991-12-31</td>\n",
              "      <td>2.588806</td>\n",
              "    </tr>\n",
              "    <tr>\n",
              "      <th>1</th>\n",
              "      <td>1992-01-31</td>\n",
              "      <td>2.781233</td>\n",
              "    </tr>\n",
              "    <tr>\n",
              "      <th>2</th>\n",
              "      <td>1992-02-29</td>\n",
              "      <td>2.581879</td>\n",
              "    </tr>\n",
              "    <tr>\n",
              "      <th>3</th>\n",
              "      <td>1992-03-31</td>\n",
              "      <td>2.547068</td>\n",
              "    </tr>\n",
              "    <tr>\n",
              "      <th>4</th>\n",
              "      <td>1992-04-30</td>\n",
              "      <td>3.370892</td>\n",
              "    </tr>\n",
              "    <tr>\n",
              "      <th>...</th>\n",
              "      <td>...</td>\n",
              "      <td>...</td>\n",
              "    </tr>\n",
              "    <tr>\n",
              "      <th>339</th>\n",
              "      <td>2020-03-31</td>\n",
              "      <td>3.999082</td>\n",
              "    </tr>\n",
              "    <tr>\n",
              "      <th>340</th>\n",
              "      <td>2020-04-30</td>\n",
              "      <td>5.262343</td>\n",
              "    </tr>\n",
              "    <tr>\n",
              "      <th>341</th>\n",
              "      <td>2020-05-31</td>\n",
              "      <td>5.373395</td>\n",
              "    </tr>\n",
              "    <tr>\n",
              "      <th>342</th>\n",
              "      <td>2020-06-30</td>\n",
              "      <td>4.127213</td>\n",
              "    </tr>\n",
              "    <tr>\n",
              "      <th>343</th>\n",
              "      <td>2020-07-31</td>\n",
              "      <td>3.899579</td>\n",
              "    </tr>\n",
              "  </tbody>\n",
              "</table>\n",
              "<p>344 rows × 2 columns</p>\n",
              "</div>"
            ],
            "text/plain": [
              "            ds      yhat\n",
              "0   1991-12-31  2.588806\n",
              "1   1992-01-31  2.781233\n",
              "2   1992-02-29  2.581879\n",
              "3   1992-03-31  2.547068\n",
              "4   1992-04-30  3.370892\n",
              "..         ...       ...\n",
              "339 2020-03-31  3.999082\n",
              "340 2020-04-30  5.262343\n",
              "341 2020-05-31  5.373395\n",
              "342 2020-06-30  4.127213\n",
              "343 2020-07-31  3.899579\n",
              "\n",
              "[344 rows x 2 columns]"
            ]
          },
          "metadata": {},
          "execution_count": 125
        }
      ]
    },
    {
      "cell_type": "code",
      "metadata": {
        "colab": {
          "base_uri": "https://localhost:8080/",
          "height": 419
        },
        "id": "kxa2xNK3Ti4r",
        "outputId": "d45dd776-308d-4a34-ca54-3024440c588d"
      },
      "source": [
        "# Combined Predictions as per LSA and params2\n",
        "res = np.dot(xdata, params3)\n",
        "res_df = pd.DataFrame(res, columns=['yhat'])\n",
        "LSA_preds3 = pd.concat([future, res_df], axis=1)\n",
        "LSA_preds3"
      ],
      "execution_count": null,
      "outputs": [
        {
          "output_type": "execute_result",
          "data": {
            "text/html": [
              "<div>\n",
              "<style scoped>\n",
              "    .dataframe tbody tr th:only-of-type {\n",
              "        vertical-align: middle;\n",
              "    }\n",
              "\n",
              "    .dataframe tbody tr th {\n",
              "        vertical-align: top;\n",
              "    }\n",
              "\n",
              "    .dataframe thead th {\n",
              "        text-align: right;\n",
              "    }\n",
              "</style>\n",
              "<table border=\"1\" class=\"dataframe\">\n",
              "  <thead>\n",
              "    <tr style=\"text-align: right;\">\n",
              "      <th></th>\n",
              "      <th>ds</th>\n",
              "      <th>yhat</th>\n",
              "    </tr>\n",
              "  </thead>\n",
              "  <tbody>\n",
              "    <tr>\n",
              "      <th>0</th>\n",
              "      <td>1991-12-31</td>\n",
              "      <td>2.487343</td>\n",
              "    </tr>\n",
              "    <tr>\n",
              "      <th>1</th>\n",
              "      <td>1992-01-31</td>\n",
              "      <td>2.673610</td>\n",
              "    </tr>\n",
              "    <tr>\n",
              "      <th>2</th>\n",
              "      <td>1992-02-29</td>\n",
              "      <td>2.480629</td>\n",
              "    </tr>\n",
              "    <tr>\n",
              "      <th>3</th>\n",
              "      <td>1992-03-31</td>\n",
              "      <td>2.446885</td>\n",
              "    </tr>\n",
              "    <tr>\n",
              "      <th>4</th>\n",
              "      <td>1992-04-30</td>\n",
              "      <td>3.244529</td>\n",
              "    </tr>\n",
              "    <tr>\n",
              "      <th>...</th>\n",
              "      <td>...</td>\n",
              "      <td>...</td>\n",
              "    </tr>\n",
              "    <tr>\n",
              "      <th>339</th>\n",
              "      <td>2020-03-31</td>\n",
              "      <td>3.853558</td>\n",
              "    </tr>\n",
              "    <tr>\n",
              "      <th>340</th>\n",
              "      <td>2020-04-30</td>\n",
              "      <td>5.076736</td>\n",
              "    </tr>\n",
              "    <tr>\n",
              "      <th>341</th>\n",
              "      <td>2020-05-31</td>\n",
              "      <td>5.184253</td>\n",
              "    </tr>\n",
              "    <tr>\n",
              "      <th>342</th>\n",
              "      <td>2020-06-30</td>\n",
              "      <td>3.977665</td>\n",
              "    </tr>\n",
              "    <tr>\n",
              "      <th>343</th>\n",
              "      <td>2020-07-31</td>\n",
              "      <td>3.757232</td>\n",
              "    </tr>\n",
              "  </tbody>\n",
              "</table>\n",
              "<p>344 rows × 2 columns</p>\n",
              "</div>"
            ],
            "text/plain": [
              "            ds      yhat\n",
              "0   1991-12-31  2.487343\n",
              "1   1992-01-31  2.673610\n",
              "2   1992-02-29  2.480629\n",
              "3   1992-03-31  2.446885\n",
              "4   1992-04-30  3.244529\n",
              "..         ...       ...\n",
              "339 2020-03-31  3.853558\n",
              "340 2020-04-30  5.076736\n",
              "341 2020-05-31  5.184253\n",
              "342 2020-06-30  3.977665\n",
              "343 2020-07-31  3.757232\n",
              "\n",
              "[344 rows x 2 columns]"
            ]
          },
          "metadata": {},
          "execution_count": 126
        }
      ]
    },
    {
      "cell_type": "code",
      "metadata": {
        "id": "yOyoAqSqmZsv"
      },
      "source": [
        "dfC = pd.DataFrame(ydata, columns=['Actuals'])\n",
        "comp_Res1 = pd.concat([LSA_preds1, dfC], axis=1)\n",
        "comp_Res2 = pd.concat([LSA_preds2, dfC], axis=1)\n",
        "comp_Res3 = pd.concat([LSA_preds3, dfC], axis=1)"
      ],
      "execution_count": null,
      "outputs": []
    },
    {
      "cell_type": "code",
      "metadata": {
        "colab": {
          "base_uri": "https://localhost:8080/",
          "height": 316
        },
        "id": "xN-WBWeipvZQ",
        "outputId": "611efb6b-61e9-4f2e-d9a7-b7294ed4ecfc"
      },
      "source": [
        "plt.plot(comp_Res1['ds'], comp_Res1['yhat'], '-r')\n",
        "plt.plot(comp_Res1['ds'], comp_Res1['Actuals'], '-k', linestyle='dashed')\n",
        "plt.xticks(rotation=75)\n",
        "plt.legend(['LSA Preds', 'Actuals'])\n",
        "plt.title('Comparison of results of LSA predictions and params1')"
      ],
      "execution_count": null,
      "outputs": [
        {
          "output_type": "execute_result",
          "data": {
            "text/plain": [
              "Text(0.5, 1.0, 'Comparison of results of LSA predictions and params1')"
            ]
          },
          "metadata": {},
          "execution_count": 62
        },
        {
          "output_type": "display_data",
          "data": {
            "image/png": "[encoded data removed]",
            "text/plain": [
              "<Figure size 432x288 with 1 Axes>"
            ]
          },
          "metadata": {
            "needs_background": "light"
          }
        }
      ]
    },
    {
      "cell_type": "code",
      "metadata": {
        "colab": {
          "base_uri": "https://localhost:8080/",
          "height": 316
        },
        "id": "_yrwdulO5haQ",
        "outputId": "fa5689a8-9b38-4cf5-e31e-2a7d88844d47"
      },
      "source": [
        "plt.plot(comp_Res2['ds'], comp_Res2['yhat'], '-r')\n",
        "plt.plot(comp_Res2['ds'], comp_Res2['Actuals'], '-k', linestyle='dashed')\n",
        "plt.xticks(rotation=75)\n",
        "plt.legend(['LSA Preds', 'Actuals'])\n",
        "plt.title('Comparison of results of LSA predictions and params2')"
      ],
      "execution_count": null,
      "outputs": [
        {
          "output_type": "execute_result",
          "data": {
            "text/plain": [
              "Text(0.5, 1.0, 'Comparison of results of LSA predictions and params2')"
            ]
          },
          "metadata": {},
          "execution_count": 63
        },
        {
          "output_type": "display_data",
          "data": {
            "image/png": "[encoded data removed]",
            "text/plain": [
              "<Figure size 432x288 with 1 Axes>"
            ]
          },
          "metadata": {
            "needs_background": "light"
          }
        }
      ]
    },
    {
      "cell_type": "code",
      "metadata": {
        "colab": {
          "base_uri": "https://localhost:8080/",
          "height": 316
        },
        "id": "fYVtx_7wTrpY",
        "outputId": "d73c3b19-fa6a-4bde-f8ec-96e43f439f9d"
      },
      "source": [
        "plt.plot(comp_Res3['ds'], comp_Res3['yhat'], '-r')\n",
        "plt.plot(comp_Res3['ds'], comp_Res3['Actuals'], '-k', linestyle='dashed')\n",
        "plt.xticks(rotation=75)\n",
        "plt.legend(['LSA Preds', 'Actuals'])\n",
        "plt.title('Comparison of results of LSA predictions and params3')"
      ],
      "execution_count": null,
      "outputs": [
        {
          "output_type": "execute_result",
          "data": {
            "text/plain": [
              "Text(0.5, 1.0, 'Comparison of results of LSA predictions and params3')"
            ]
          },
          "metadata": {},
          "execution_count": 64
        },
        {
          "output_type": "display_data",
          "data": {
            "image/png": "[encoded data removed]",
            "text/plain": [
              "<Figure size 432x288 with 1 Axes>"
            ]
          },
          "metadata": {
            "needs_background": "light"
          }
        }
      ]
    },
    {
      "cell_type": "markdown",
      "metadata": {
        "id": "C988Daq1s1Vm"
      },
      "source": [
        "**Predicting on future timelines**\n",
        "\n",
        "\n",
        "---\n",
        "\n"
      ]
    },
    {
      "cell_type": "code",
      "metadata": {
        "colab": {
          "base_uri": "https://localhost:8080/"
        },
        "id": "eOGzRYY7sYXb",
        "outputId": "1983a211-8d0e-4897-afde-48b8ef0bd14b"
      },
      "source": [
        "len(dfC)"
      ],
      "execution_count": null,
      "outputs": [
        {
          "output_type": "execute_result",
          "data": {
            "text/plain": [
              "344"
            ]
          },
          "metadata": {},
          "execution_count": 96
        }
      ]
    },
    {
      "cell_type": "code",
      "metadata": {
        "id": "dhsr6an7dgQU"
      },
      "source": [
        "n_mths = 17\n",
        "future_timeline = m2.make_future_dataframe(periods=n_mths, freq='M', include_history=False)"
      ],
      "execution_count": null,
      "outputs": []
    },
    {
      "cell_type": "code",
      "metadata": {
        "colab": {
          "base_uri": "https://localhost:8080/",
          "height": 576
        },
        "id": "Jhf0SFpgdhnZ",
        "outputId": "af4663a7-cc55-42bb-f655-b54caccecd9e"
      },
      "source": [
        "future_timeline"
      ],
      "execution_count": null,
      "outputs": [
        {
          "output_type": "execute_result",
          "data": {
            "text/html": [
              "<div>\n",
              "<style scoped>\n",
              "    .dataframe tbody tr th:only-of-type {\n",
              "        vertical-align: middle;\n",
              "    }\n",
              "\n",
              "    .dataframe tbody tr th {\n",
              "        vertical-align: top;\n",
              "    }\n",
              "\n",
              "    .dataframe thead th {\n",
              "        text-align: right;\n",
              "    }\n",
              "</style>\n",
              "<table border=\"1\" class=\"dataframe\">\n",
              "  <thead>\n",
              "    <tr style=\"text-align: right;\">\n",
              "      <th></th>\n",
              "      <th>ds</th>\n",
              "    </tr>\n",
              "  </thead>\n",
              "  <tbody>\n",
              "    <tr>\n",
              "      <th>0</th>\n",
              "      <td>2020-08-31</td>\n",
              "    </tr>\n",
              "    <tr>\n",
              "      <th>1</th>\n",
              "      <td>2020-09-30</td>\n",
              "    </tr>\n",
              "    <tr>\n",
              "      <th>2</th>\n",
              "      <td>2020-10-31</td>\n",
              "    </tr>\n",
              "    <tr>\n",
              "      <th>3</th>\n",
              "      <td>2020-11-30</td>\n",
              "    </tr>\n",
              "    <tr>\n",
              "      <th>4</th>\n",
              "      <td>2020-12-31</td>\n",
              "    </tr>\n",
              "    <tr>\n",
              "      <th>5</th>\n",
              "      <td>2021-01-31</td>\n",
              "    </tr>\n",
              "    <tr>\n",
              "      <th>6</th>\n",
              "      <td>2021-02-28</td>\n",
              "    </tr>\n",
              "    <tr>\n",
              "      <th>7</th>\n",
              "      <td>2021-03-31</td>\n",
              "    </tr>\n",
              "    <tr>\n",
              "      <th>8</th>\n",
              "      <td>2021-04-30</td>\n",
              "    </tr>\n",
              "    <tr>\n",
              "      <th>9</th>\n",
              "      <td>2021-05-31</td>\n",
              "    </tr>\n",
              "    <tr>\n",
              "      <th>10</th>\n",
              "      <td>2021-06-30</td>\n",
              "    </tr>\n",
              "    <tr>\n",
              "      <th>11</th>\n",
              "      <td>2021-07-31</td>\n",
              "    </tr>\n",
              "    <tr>\n",
              "      <th>12</th>\n",
              "      <td>2021-08-31</td>\n",
              "    </tr>\n",
              "    <tr>\n",
              "      <th>13</th>\n",
              "      <td>2021-09-30</td>\n",
              "    </tr>\n",
              "    <tr>\n",
              "      <th>14</th>\n",
              "      <td>2021-10-31</td>\n",
              "    </tr>\n",
              "    <tr>\n",
              "      <th>15</th>\n",
              "      <td>2021-11-30</td>\n",
              "    </tr>\n",
              "    <tr>\n",
              "      <th>16</th>\n",
              "      <td>2021-12-31</td>\n",
              "    </tr>\n",
              "  </tbody>\n",
              "</table>\n",
              "</div>"
            ],
            "text/plain": [
              "           ds\n",
              "0  2020-08-31\n",
              "1  2020-09-30\n",
              "2  2020-10-31\n",
              "3  2020-11-30\n",
              "4  2020-12-31\n",
              "5  2021-01-31\n",
              "6  2021-02-28\n",
              "7  2021-03-31\n",
              "8  2021-04-30\n",
              "9  2021-05-31\n",
              "10 2021-06-30\n",
              "11 2021-07-31\n",
              "12 2021-08-31\n",
              "13 2021-09-30\n",
              "14 2021-10-31\n",
              "15 2021-11-30\n",
              "16 2021-12-31"
            ]
          },
          "metadata": {},
          "execution_count": 129
        }
      ]
    },
    {
      "cell_type": "code",
      "metadata": {
        "colab": {
          "base_uri": "https://localhost:8080/",
          "height": 620
        },
        "id": "eKvrDan1rgFO",
        "outputId": "3201b1e5-2afc-4539-f648-01a7bf4ad0be"
      },
      "source": [
        "# Make future dataframe\n",
        "# n_mths = 17\n",
        "# future_timeline = m2.make_future_dataframe(periods=n_mths, freq='M', include_history=False)\n",
        "\n",
        "p1 = m1.predict(future_timeline)[['ds', 'yhat']]\n",
        "p2 = m2.predict(future_timeline)[['ds', 'yhat']]\n",
        "\n",
        "x = np.transpose(np.array([p1['yhat'],p2['yhat']]))\n",
        "res = np.dot(x, params1)\n",
        "final_preds1 = pd.DataFrame(res, columns=['yhat'])\n",
        "final_preds1 = pd.concat([future_timeline, final_preds1], axis=1)\n",
        "print(final_preds1)\n",
        "\n",
        "plt.plot(final_preds1['ds'], final_preds1['yhat'], '.-k', linestyle='dashed')\n",
        "plt.xticks(rotation=75)\n",
        "plt.title('Predictions for next %d months from Dec\\'20 v1'%(n_mths))\n",
        "plt.savefig(\"v1.pdf\")"
      ],
      "execution_count": null,
      "outputs": [
        {
          "output_type": "stream",
          "text": [
            "           ds       yhat\n",
            "0  2020-08-31   8.417445\n",
            "1  2020-09-30   8.734133\n",
            "2  2020-10-31   8.841325\n",
            "3  2020-11-30   8.848144\n",
            "4  2020-12-31   8.894914\n",
            "5  2021-01-31   8.470014\n",
            "6  2021-02-28   8.724796\n",
            "7  2021-03-31   8.719021\n",
            "8  2021-04-30  10.337501\n",
            "9  2021-05-31  10.415379\n",
            "10 2021-06-30   9.013054\n",
            "11 2021-07-31   8.578332\n",
            "12 2021-08-31   9.047608\n",
            "13 2021-09-30   9.123270\n",
            "14 2021-10-31   9.194500\n",
            "15 2021-11-30   9.111131\n",
            "16 2021-12-31   9.190456\n"
          ],
          "name": "stdout"
        },
        {
          "output_type": "display_data",
          "data": {
            "image/png": "[encoded data removed]",
            "text/plain": [
              "<Figure size 432x288 with 1 Axes>"
            ]
          },
          "metadata": {
            "needs_background": "light"
          }
        }
      ]
    },
    {
      "cell_type": "code",
      "metadata": {
        "colab": {
          "base_uri": "https://localhost:8080/",
          "height": 537
        },
        "id": "kkN4668luMqY",
        "outputId": "69596765-1b35-4ef7-d8c7-208f7dc7cee6"
      },
      "source": [
        "# Make future dataframe\n",
        "# n_mths = 17\n",
        "# future_timeline = m2.make_future_dataframe(periods=n_mths, freq='M', include_history=False)\n",
        "\n",
        "p1 = m1.predict(future_timeline)[['ds', 'yhat']]\n",
        "p2 = m2.predict(future_timeline)[['ds', 'yhat']]\n",
        "\n",
        "x = np.transpose(np.array([p1['yhat'],p2['yhat']]))\n",
        "res = np.dot(x, params2)\n",
        "final_preds2 = pd.DataFrame(res, columns=['yhat'])\n",
        "final_preds2 = pd.concat([future_timeline, final_preds2], axis=1)\n",
        "print(final_preds2)\n",
        "\n",
        "plt.plot(final_preds2['ds'], final_preds2['yhat'], '.-k', linestyle='dashed')\n",
        "plt.xticks(rotation=75)\n",
        "plt.title('Predictions for next %d months from Dec\\'20 v2'%(n_mths))\n",
        "plt.savefig(\"v2.pdf\")"
      ],
      "execution_count": null,
      "outputs": [
        {
          "output_type": "stream",
          "text": [
            "            ds      yhat\n",
            "0   1991-12-31  2.637522\n",
            "1   1992-01-31  2.869319\n",
            "2   1992-02-29  2.669679\n",
            "3   1992-03-31  2.628459\n",
            "4   1992-04-30  3.257701\n",
            "..         ...       ...\n",
            "356 2021-08-31  4.429983\n",
            "357 2021-09-30  4.444713\n",
            "358 2021-10-31  4.466316\n",
            "359 2021-11-30  4.470333\n",
            "360 2021-12-31  4.467717\n",
            "\n",
            "[361 rows x 2 columns]\n"
          ],
          "name": "stdout"
        },
        {
          "output_type": "display_data",
          "data": {
            "image/png": "[encoded data removed]",
            "text/plain": [
              "<Figure size 432x288 with 1 Axes>"
            ]
          },
          "metadata": {
            "needs_background": "light"
          }
        }
      ]
    },
    {
      "cell_type": "code",
      "metadata": {
        "colab": {
          "base_uri": "https://localhost:8080/",
          "height": 537
        },
        "id": "abWyOute58Li",
        "outputId": "2b677908-d1ce-4969-f818-dc39d30c5cd5"
      },
      "source": [
        "# Make future dataframe\n",
        "# n_mths = 17\n",
        "# future_timeline = m2.make_future_dataframe(periods=n_mths, freq='M', include_history=False)\n",
        "\n",
        "p1 = m1.predict(future_timeline)[['ds', 'yhat']]\n",
        "p2 = m2.predict(future_timeline)[['ds', 'yhat']]\n",
        "\n",
        "x = np.transpose(np.array([p1['yhat'],p2['yhat']]))\n",
        "res = np.dot(x, params3)\n",
        "final_preds3 = pd.DataFrame(res, columns=['yhat'])\n",
        "final_preds3 = pd.concat([future_timeline, final_preds3], axis=1)\n",
        "print(final_preds3)\n",
        "\n",
        "plt.plot(final_preds3['ds'], final_preds3['yhat'], '.-k', linestyle='dashed')\n",
        "plt.xticks(rotation=75)\n",
        "plt.title('Predictions for next %d months from Dec\\'20 v3'%(n_mths))\n",
        "plt.savefig(\"v3.pdf\")"
      ],
      "execution_count": null,
      "outputs": [
        {
          "output_type": "stream",
          "text": [
            "            ds      yhat\n",
            "0   1991-12-31  2.574946\n",
            "1   1992-01-31  2.802040\n",
            "2   1992-02-29  2.606436\n",
            "3   1992-03-31  2.565993\n",
            "4   1992-04-30  3.182427\n",
            "..         ...       ...\n",
            "356 2021-08-31  4.331284\n",
            "357 2021-09-30  4.345704\n",
            "358 2021-10-31  4.366846\n",
            "359 2021-11-30  4.370803\n",
            "360 2021-12-31  4.368249\n",
            "\n",
            "[361 rows x 2 columns]\n"
          ],
          "name": "stdout"
        },
        {
          "output_type": "display_data",
          "data": {
            "image/png": "[encoded data removed]",
            "text/plain": [
              "<Figure size 432x288 with 1 Axes>"
            ]
          },
          "metadata": {
            "needs_background": "light"
          }
        }
      ]
    },
    {
      "cell_type": "code",
      "metadata": {
        "id": "bL1K6jzQVjSD"
      },
      "source": [
        "final_preds1.to_csv('Preds_1.csv')\n",
        "final_preds2.to_csv('Preds_2.csv')\n",
        "final_preds3.to_csv('Preds_3.csv')"
      ],
      "execution_count": null,
      "outputs": []
    },
    {
      "cell_type": "code",
      "metadata": {
        "id": "D1Jf_f6kd1pd"
      },
      "source": [
        ""
      ],
      "execution_count": null,
      "outputs": []
    }
  ]
}