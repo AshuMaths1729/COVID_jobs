{
  "nbformat": 4,
  "nbformat_minor": 0,
  "metadata": {
    "kernelspec": {
      "name": "python3",
      "display_name": "Python 3.8.5 64-bit ('base': conda)"
    },
    "language_info": {
      "codemirror_mode": {
        "name": "ipython",
        "version": 3
      },
      "file_extension": ".py",
      "mimetype": "text/x-python",
      "name": "python",
      "nbconvert_exporter": "python",
      "pygments_lexer": "ipython3",
      "version": "3.8.5"
    },
    "colab": {
      "name": "LSTM.ipynb",
      "provenance": [],
      "collapsed_sections": [],
      "include_colab_link": true
    },
    "interpreter": {
      "hash": "96eb50e1d44aed467dc8f759cb08c32fbfa9babcf79c554e2d0e5feb04653a10"
    }
  },
  "cells": [
    {
      "cell_type": "markdown",
      "metadata": {
        "id": "view-in-github",
        "colab_type": "text"
      },
      "source": [
        "<a href=\"https://colab.research.google.com/github/AshuMaths1729/COVID_jobs/blob/main/LSTM.ipynb\" target=\"_parent\"><img src=\"https://colab.research.google.com/assets/colab-badge.svg\" alt=\"Open In Colab\"/></a>"
      ]
    },
    {
      "cell_type": "code",
      "metadata": {
        "id": "lYy1ysUi1dcB"
      },
      "source": [
        "import keras\n",
        "from keras.layers import Dense\n",
        "from keras.layers import LSTM\n",
        "from keras.layers import Dropout\n",
        "from sklearn.preprocessing import MinMaxScaler\n",
        "import pandas as pd \n",
        "import datetime\n",
        "import numpy as np \n",
        "from matplotlib import style\n",
        "import matplotlib.dates as mdates\n",
        "import matplotlib.pyplot as plt\n",
        "import os\n",
        "import io\n",
        "%matplotlib inline\n",
        "\n",
        "#os.chdir('D:/Scholastic/Projects/COVID-19_Jobs_Paper/LSTM_Predictor')"
      ],
      "execution_count": null,
      "outputs": []
    },
    {
      "cell_type": "code",
      "metadata": {
        "id": "skqEAP5e1dcR"
      },
      "source": [
        "def create_dataset(dataset, look_back):\n",
        "    dataX, dataY = [], []\n",
        "    for i in range(len(dataset)-look_back):\n",
        "        a = dataset[i:(i + look_back), 0]\n",
        "        dataX.append(a)\n",
        "        dataY.append(dataset[i + look_back, 0])\n",
        "    return np.array(dataX), np.array(dataY)\n"
      ],
      "execution_count": null,
      "outputs": []
    },
    {
      "cell_type": "code",
      "metadata": {
        "colab": {
          "base_uri": "https://localhost:8080/",
          "height": 204
        },
        "id": "9O4QuUTl0n4H",
        "outputId": "763b927a-eef1-4b70-edbe-5dd3cc507b43"
      },
      "source": [
        "# from google.colab import files\n",
        "# uploaded = files.upload()\n",
        "\n",
        "new_df2 = pd.read_csv('Monthly_Unemployment_1991-2020.csv')\n",
        "new_df2.head()"
      ],
      "execution_count": null,
      "outputs": [
        {
          "output_type": "execute_result",
          "data": {
            "text/html": [
              "<div>\n",
              "<style scoped>\n",
              "    .dataframe tbody tr th:only-of-type {\n",
              "        vertical-align: middle;\n",
              "    }\n",
              "\n",
              "    .dataframe tbody tr th {\n",
              "        vertical-align: top;\n",
              "    }\n",
              "\n",
              "    .dataframe thead th {\n",
              "        text-align: right;\n",
              "    }\n",
              "</style>\n",
              "<table border=\"1\" class=\"dataframe\">\n",
              "  <thead>\n",
              "    <tr style=\"text-align: right;\">\n",
              "      <th></th>\n",
              "      <th>ds</th>\n",
              "      <th>y</th>\n",
              "    </tr>\n",
              "  </thead>\n",
              "  <tbody>\n",
              "    <tr>\n",
              "      <th>0</th>\n",
              "      <td>31-12-1991</td>\n",
              "      <td>5.450000</td>\n",
              "    </tr>\n",
              "    <tr>\n",
              "      <th>1</th>\n",
              "      <td>31-01-1992</td>\n",
              "      <td>5.454167</td>\n",
              "    </tr>\n",
              "    <tr>\n",
              "      <th>2</th>\n",
              "      <td>29-02-1992</td>\n",
              "      <td>5.458333</td>\n",
              "    </tr>\n",
              "    <tr>\n",
              "      <th>3</th>\n",
              "      <td>31-03-1992</td>\n",
              "      <td>5.462500</td>\n",
              "    </tr>\n",
              "    <tr>\n",
              "      <th>4</th>\n",
              "      <td>30-04-1992</td>\n",
              "      <td>5.466667</td>\n",
              "    </tr>\n",
              "  </tbody>\n",
              "</table>\n",
              "</div>"
            ],
            "text/plain": [
              "           ds         y\n",
              "0  31-12-1991  5.450000\n",
              "1  31-01-1992  5.454167\n",
              "2  29-02-1992  5.458333\n",
              "3  31-03-1992  5.462500\n",
              "4  30-04-1992  5.466667"
            ]
          },
          "metadata": {},
          "execution_count": 3
        }
      ]
    },
    {
      "cell_type": "code",
      "metadata": {
        "colab": {
          "base_uri": "https://localhost:8080/",
          "height": 204
        },
        "id": "LzoZcCtLYZZ2",
        "outputId": "15e964f5-a29a-45fc-b38d-7a4911a387c5"
      },
      "source": [
        "new_df2.tail()"
      ],
      "execution_count": null,
      "outputs": [
        {
          "output_type": "execute_result",
          "data": {
            "text/html": [
              "<div>\n",
              "<style scoped>\n",
              "    .dataframe tbody tr th:only-of-type {\n",
              "        vertical-align: middle;\n",
              "    }\n",
              "\n",
              "    .dataframe tbody tr th {\n",
              "        vertical-align: top;\n",
              "    }\n",
              "\n",
              "    .dataframe thead th {\n",
              "        text-align: right;\n",
              "    }\n",
              "</style>\n",
              "<table border=\"1\" class=\"dataframe\">\n",
              "  <thead>\n",
              "    <tr style=\"text-align: right;\">\n",
              "      <th></th>\n",
              "      <th>ds</th>\n",
              "      <th>y</th>\n",
              "    </tr>\n",
              "  </thead>\n",
              "  <tbody>\n",
              "    <tr>\n",
              "      <th>339</th>\n",
              "      <td>31-03-2020</td>\n",
              "      <td>8.75</td>\n",
              "    </tr>\n",
              "    <tr>\n",
              "      <th>340</th>\n",
              "      <td>30-04-2020</td>\n",
              "      <td>23.52</td>\n",
              "    </tr>\n",
              "    <tr>\n",
              "      <th>341</th>\n",
              "      <td>31-05-2020</td>\n",
              "      <td>23.48</td>\n",
              "    </tr>\n",
              "    <tr>\n",
              "      <th>342</th>\n",
              "      <td>30-06-2020</td>\n",
              "      <td>10.99</td>\n",
              "    </tr>\n",
              "    <tr>\n",
              "      <th>343</th>\n",
              "      <td>31-07-2020</td>\n",
              "      <td>7.43</td>\n",
              "    </tr>\n",
              "  </tbody>\n",
              "</table>\n",
              "</div>"
            ],
            "text/plain": [
              "             ds      y\n",
              "339  31-03-2020   8.75\n",
              "340  30-04-2020  23.52\n",
              "341  31-05-2020  23.48\n",
              "342  30-06-2020  10.99\n",
              "343  31-07-2020   7.43"
            ]
          },
          "metadata": {},
          "execution_count": 4
        }
      ]
    },
    {
      "cell_type": "code",
      "metadata": {
        "id": "RtnJeI6P1dcV",
        "colab": {
          "base_uri": "https://localhost:8080/",
          "height": 1000
        },
        "outputId": "6b59da5d-c953-4144-e493-15bda891c4c2"
      },
      "source": [
        "### Model 2\n",
        "#new_df2 = pd.read_csv('Data/Monthly_Unemployment_1991-2020.csv')\n",
        "new_df2['ds'] = pd.to_datetime(new_df2['ds'], yearfirst=True)\n",
        "\n",
        "train_data = new_df2.loc[:,'y'].values\n",
        "train_data = train_data.reshape(-1,1)\n",
        "\n",
        "time_steps = 6\n",
        "X_train, y_train = create_dataset(train_data, time_steps)\n",
        "\n",
        "# reshape it [samples, time steps, features]\n",
        "X_train = np.reshape(X_train, (X_train.shape[0], 6, 1))\n",
        "\n",
        "print(X_train.shape)\n",
        "\n",
        "# Build the model \n",
        "model2 = keras.Sequential()\n",
        "model2.add(LSTM(units = 100, return_sequences = True, input_shape = (X_train.shape[1], 1)))\n",
        "model2.add(Dropout(0.2))\n",
        "model2.add(LSTM(units = 100))\n",
        "model2.add(Dropout(0.2))\n",
        "# Output layer\n",
        "model2.add(Dense(units = 1))\n",
        "# Compiling the model\n",
        "model2.compile(optimizer = 'adam', loss = 'mean_squared_error')\n",
        "\n",
        "# Fitting the model to the Training set\n",
        "history = model2.fit(X_train, y_train, epochs = 25, batch_size = 10, validation_split=0.1)\n",
        "\n",
        "# Plot training & validation loss values\n",
        "plt.plot(history.history['loss'])\n",
        "plt.plot(history.history['val_loss'])\n",
        "plt.title('Model loss')\n",
        "plt.ylabel('Loss')\n",
        "plt.xlabel('Epoch')\n",
        "plt.legend(['Train', 'Test'], loc='best')\n",
        "plt.show()"
      ],
      "execution_count": null,
      "outputs": [
        {
          "output_type": "stream",
          "text": [
            "(338, 6, 1)\n",
            "Epoch 1/25\n",
            "31/31 [==============================] - 4s 30ms/step - loss: 6.5501 - val_loss: 23.0350\n",
            "Epoch 2/25\n",
            "31/31 [==============================] - 0s 9ms/step - loss: 0.6286 - val_loss: 21.2978\n",
            "Epoch 3/25\n",
            "31/31 [==============================] - 0s 9ms/step - loss: 0.5903 - val_loss: 21.0057\n",
            "Epoch 4/25\n",
            "31/31 [==============================] - 0s 10ms/step - loss: 0.5475 - val_loss: 20.1229\n",
            "Epoch 5/25\n",
            "31/31 [==============================] - 0s 10ms/step - loss: 0.5738 - val_loss: 20.2002\n",
            "Epoch 6/25\n",
            "31/31 [==============================] - 0s 9ms/step - loss: 0.4959 - val_loss: 20.3201\n",
            "Epoch 7/25\n",
            "31/31 [==============================] - 0s 9ms/step - loss: 0.4663 - val_loss: 20.0350\n",
            "Epoch 8/25\n",
            "31/31 [==============================] - 0s 9ms/step - loss: 0.4421 - val_loss: 18.4276\n",
            "Epoch 9/25\n",
            "31/31 [==============================] - 0s 9ms/step - loss: 0.4263 - val_loss: 19.0288\n",
            "Epoch 10/25\n",
            "31/31 [==============================] - 0s 9ms/step - loss: 0.4180 - val_loss: 17.6176\n",
            "Epoch 11/25\n",
            "31/31 [==============================] - 0s 9ms/step - loss: 0.3665 - val_loss: 15.9432\n",
            "Epoch 12/25\n",
            "31/31 [==============================] - 0s 9ms/step - loss: 0.3736 - val_loss: 17.0932\n",
            "Epoch 13/25\n",
            "31/31 [==============================] - 0s 10ms/step - loss: 0.3272 - val_loss: 16.4204\n",
            "Epoch 14/25\n",
            "31/31 [==============================] - 0s 9ms/step - loss: 0.2943 - val_loss: 15.2547\n",
            "Epoch 15/25\n",
            "31/31 [==============================] - 0s 9ms/step - loss: 0.2802 - val_loss: 14.9455\n",
            "Epoch 16/25\n",
            "31/31 [==============================] - 0s 9ms/step - loss: 0.2276 - val_loss: 14.2650\n",
            "Epoch 17/25\n",
            "31/31 [==============================] - 0s 9ms/step - loss: 0.2615 - val_loss: 14.7732\n",
            "Epoch 18/25\n",
            "31/31 [==============================] - 0s 10ms/step - loss: 0.2199 - val_loss: 14.6021\n",
            "Epoch 19/25\n",
            "31/31 [==============================] - 0s 10ms/step - loss: 0.2243 - val_loss: 14.5617\n",
            "Epoch 20/25\n",
            "31/31 [==============================] - 0s 10ms/step - loss: 0.2954 - val_loss: 14.0279\n",
            "Epoch 21/25\n",
            "31/31 [==============================] - 0s 10ms/step - loss: 0.2245 - val_loss: 13.8619\n",
            "Epoch 22/25\n",
            "31/31 [==============================] - 0s 10ms/step - loss: 0.2435 - val_loss: 13.6059\n",
            "Epoch 23/25\n",
            "31/31 [==============================] - 0s 10ms/step - loss: 0.2804 - val_loss: 14.0272\n",
            "Epoch 24/25\n",
            "31/31 [==============================] - 0s 10ms/step - loss: 0.2272 - val_loss: 13.6246\n",
            "Epoch 25/25\n",
            "31/31 [==============================] - 0s 9ms/step - loss: 0.2055 - val_loss: 13.3235\n"
          ],
          "name": "stdout"
        },
        {
          "output_type": "display_data",
          "data": {
            "image/png": "[encoded data removed]",
            "text/plain": [
              "<Figure size 432x288 with 1 Axes>"
            ]
          },
          "metadata": {
            "needs_background": "light"
          }
        }
      ]
    },
    {
      "cell_type": "code",
      "metadata": {
        "id": "wSzfmpRK1dcW",
        "colab": {
          "base_uri": "https://localhost:8080/",
          "height": 279
        },
        "outputId": "6308e95e-6d07-4c45-b3f1-3679530df136"
      },
      "source": [
        "preds_2 = model2.predict(X_train)\n",
        "\n",
        "plt.plot(y_train, color = 'black', label = 'Actual')\n",
        "plt.plot(preds_2, color = 'red', label = 'Predicted')\n",
        "plt.xlabel('Time')\n",
        "plt.ylabel('Unemployment Rate')\n",
        "plt.legend()\n",
        "plt.savefig('Model_2.jpg')\n"
      ],
      "execution_count": null,
      "outputs": [
        {
          "output_type": "display_data",
          "data": {
            "image/png": "[encoded data removed]",
            "text/plain": [
              "<Figure size 432x288 with 1 Axes>"
            ]
          },
          "metadata": {
            "needs_background": "light"
          }
        }
      ]
    },
    {
      "cell_type": "code",
      "metadata": {
        "colab": {
          "base_uri": "https://localhost:8080/"
        },
        "id": "3l_9Bu_oELWx",
        "outputId": "8d54f1b2-fc5c-40d5-a315-13fd6a8e89d3"
      },
      "source": [
        "g=X_train[337]   # Taking the last set of 6 terms from the original data\n",
        "print(\"original shape\")\n",
        "print(g.shape)\n",
        "print(\"Modified shape\")\n",
        "g=np.reshape(g,(1, 6, 1))\n",
        "g.shape\n"
      ],
      "execution_count": null,
      "outputs": [
        {
          "output_type": "stream",
          "text": [
            "original shape\n",
            "(6, 1)\n",
            "Modified shape\n"
          ],
          "name": "stdout"
        },
        {
          "output_type": "execute_result",
          "data": {
            "text/plain": [
              "(1, 6, 1)"
            ]
          },
          "metadata": {},
          "execution_count": 7
        }
      ]
    },
    {
      "cell_type": "code",
      "metadata": {
        "colab": {
          "base_uri": "https://localhost:8080/"
        },
        "id": "53PDyEcVFAfi",
        "outputId": "447aa04a-5364-47f8-bc40-bc57b778244b"
      },
      "source": [
        "g"
      ],
      "execution_count": null,
      "outputs": [
        {
          "output_type": "execute_result",
          "data": {
            "text/plain": [
              "array([[[ 7.22],\n",
              "        [ 7.76],\n",
              "        [ 8.75],\n",
              "        [23.52],\n",
              "        [23.48],\n",
              "        [10.99]]])"
            ]
          },
          "metadata": {},
          "execution_count": 8
        }
      ]
    },
    {
      "cell_type": "code",
      "metadata": {
        "id": "DLwJmrpCNxPB"
      },
      "source": [
        "i=1\n",
        "future=[]\n",
        "while i<=17:             # from August 2020 to December 2021 there are 17 months\n",
        "  t=model2.predict(g)\n",
        "  future=np.append(future,t)\n",
        "  g=np.reshape(g,(1,-1))\n",
        "  g= np.delete(g, 0)\n",
        "  g=np.append(g,t)\n",
        "  g=np.reshape(g,(1,6,1))\n",
        "  i=i+1\n",
        "\n"
      ],
      "execution_count": null,
      "outputs": []
    },
    {
      "cell_type": "code",
      "metadata": {
        "colab": {
          "base_uri": "https://localhost:8080/"
        },
        "id": "txLEXuy1VbS0",
        "outputId": "9096116a-7e9a-4674-ae01-d290258b7956"
      },
      "source": [
        "print(\"From AUGUST 2020 to DECEMBER 2021\")\n",
        "future"
      ],
      "execution_count": null,
      "outputs": [
        {
          "output_type": "stream",
          "text": [
            "From AUGUST 2020 to DECEMBER 2021\n"
          ],
          "name": "stdout"
        },
        {
          "output_type": "execute_result",
          "data": {
            "text/plain": [
              "array([6.9661665 , 6.87858486, 6.80577707, 6.74631453, 6.69770336,\n",
              "       6.65783834, 6.62567425, 6.59982109, 6.57908773, 6.56251287,\n",
              "       6.5493412 , 6.5389123 , 6.5306673 , 6.52416897, 6.5190649 ,\n",
              "       6.51506186, 6.51192904])"
            ]
          },
          "metadata": {},
          "execution_count": 12
        }
      ]
    },
    {
      "cell_type": "code",
      "metadata": {
        "id": "0vtvt-2LfeCk",
        "colab": {
          "base_uri": "https://localhost:8080/"
        },
        "outputId": "b5e43e3a-7b18-40be-d77f-b0db1c7805bc"
      },
      "source": [
        "future[-13:]"
      ],
      "execution_count": null,
      "outputs": [
        {
          "output_type": "execute_result",
          "data": {
            "text/plain": [
              "array([6.69770336, 6.65783834, 6.62567425, 6.59982109, 6.57908773,\n",
              "       6.56251287, 6.5493412 , 6.5389123 , 6.5306673 , 6.52416897,\n",
              "       6.5190649 , 6.51506186, 6.51192904])"
            ]
          },
          "metadata": {},
          "execution_count": 16
        }
      ]
    },
    {
      "cell_type": "code",
      "metadata": {
        "id": "Sjw8fjlNQ7qP"
      },
      "source": [
        ""
      ],
      "execution_count": null,
      "outputs": []
    }
  ]
}