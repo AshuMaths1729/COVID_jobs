{
  "nbformat": 4,
  "nbformat_minor": 0,
  "metadata": {
    "colab": {
      "name": "SVR.ipynb",
      "provenance": [],
      "collapsed_sections": [],
      "authorship_tag": "ABX9TyMy6Oe+btmlq/u4lAvIcsjw",
      "include_colab_link": true
    },
    "kernelspec": {
      "name": "python3",
      "display_name": "Python 3"
    },
    "language_info": {
      "name": "python"
    }
  },
  "cells": [
    {
      "cell_type": "markdown",
      "metadata": {
        "id": "view-in-github",
        "colab_type": "text"
      },
      "source": [
        "<a href=\"https://colab.research.google.com/github/AshuMaths1729/COVID_jobs/blob/main/SVR.ipynb\" target=\"_parent\"><img src=\"https://colab.research.google.com/assets/colab-badge.svg\" alt=\"Open In Colab\"/></a>"
      ]
    },
    {
      "cell_type": "code",
      "metadata": {
        "colab": {
          "base_uri": "https://localhost:8080/",
          "height": 388
        },
        "id": "T6lOKsH3Oz9t",
        "outputId": "9aa15b0a-2667-4d67-ff57-a887707e3c38"
      },
      "source": [
        "from sklearn.svm import SVR\n",
        "import pandas as pd \n",
        "import datetime\n",
        "import numpy as np \n",
        "from matplotlib import style\n",
        "import matplotlib.dates as mdates\n",
        "import matplotlib.pyplot as plt\n",
        "import os\n",
        "\n",
        "\n",
        "fd = ['30-06-2019','31-07-2019','31-08-2019','30-09-2019','31-10-2019',\\\n",
        "  '30-11-2019','31-12-2019','31-01-2020','29-02-2020','31-03-2020','30-04-2020',\\\n",
        "    '31-05-2020','30-06-2020','31-07-2020','31-08-2020','30-09-2020','31-10-2020','30-11-2020',\n",
        "    '31-12-2020','31-01-2021','28-02-2021','31-03-2021', '30-04-2021','31-05-2021',\\\n",
        "    '30-06-2021','31-07-2021','31-08-2021','30-09-2021','31-10-2021','30-11-2021','31-12-2021']\n",
        "future_df = pd.DataFrame(fd, columns=['ds'])\n",
        "future_df = future_df.reset_index()\n",
        "future_df['ds'] = future_df['ds'].map(pd.to_datetime)\n",
        "future_df['ds'] = future_df['ds'].map(mdates.date2num)\n",
        "future_df = future_df['ds'].values\n",
        "future_df = np.reshape(future_df, (len(future_df), 1))\n",
        "\n",
        "\n",
        "fd = ['31-12-2020','31-01-2021','28-02-2021','31-03-2021', '30-04-2021','31-05-2021',\\\n",
        "    '30-06-2021','31-07-2021','31-08-2021','30-09-2021','31-10-2021','30-11-2021','31-12-2021']\n",
        "unseen_df = pd.DataFrame(fd, columns=['ds'])\n",
        "unseen_df = unseen_df.reset_index()\n",
        "unseen_df['ds'] = unseen_df['ds'].map(pd.to_datetime)\n",
        "unseen_df['ds'] = unseen_df['ds'].map(mdates.date2num)\n",
        "unseen_df = unseen_df['ds'].values\n",
        "unseen_df = np.reshape(unseen_df, (len(unseen_df), 1))\n",
        "\n",
        "\n",
        "### Model\n",
        "new_df2 = pd.read_csv('Monthly_Unemployment_1991-2020.csv')\n",
        "new_df2['ds'] = pd.to_datetime(new_df2['ds'], yearfirst=True)\n",
        "\n",
        "# change the dates into ints for training \n",
        "dates_df = new_df2.copy()\n",
        "dates_df = dates_df.reset_index()\n",
        "\n",
        "# Store the original dates for plotting the predicitons\n",
        "org_dates = dates_df['ds']\n",
        "\n",
        "# convert to ints\n",
        "dates_df['ds'] = dates_df['ds'].map(mdates.date2num)\n",
        "\n",
        "dates_df.tail()\n",
        "\n",
        "dates = dates_df['ds'].values\n",
        "unemp_rates = new_df2['y'].values\n",
        "\n",
        "#Convert to 1d Vector\n",
        "dates = np.reshape(dates, (len(dates), 1))\n",
        "unemp_rates = np.reshape(unemp_rates, (len(unemp_rates), 1))\n",
        "\n",
        "svr = SVR(kernel= 'rbf', C=50, gamma=0.07)\n",
        "svr.fit(dates, unemp_rates.ravel())\n",
        "\n",
        "preds = svr.predict(unseen_df)\n",
        "\n",
        "plt.figure(figsize = (12,6))\n",
        "plt.plot(dates, unemp_rates, '.-b', label= 'Original')\n",
        "plt.plot(unseen_df, preds, '-r', label= 'Predicted') \n",
        "plt.xlabel('Date')\n",
        "plt.ylabel('Unemployment Rate')\n",
        "plt.legend()\n",
        "plt.savefig(\"SVR_result.pdf\")\n"
      ],
      "execution_count": null,
      "outputs": [
        {
          "output_type": "display_data",
          "data": {
            "image/png": "[encoded data removed]",
            "text/plain": [
              "<Figure size 864x432 with 1 Axes>"
            ]
          },
          "metadata": {
            "needs_background": "light"
          }
        }
      ]
    },
    {
      "cell_type": "code",
      "metadata": {
        "colab": {
          "base_uri": "https://localhost:8080/"
        },
        "id": "uYDOZzLfPR6m",
        "outputId": "e2ea53f7-d1f3-4912-aec4-193e423bbcf3"
      },
      "source": [
        "preds"
      ],
      "execution_count": null,
      "outputs": [
        {
          "output_type": "execute_result",
          "data": {
            "text/plain": [
              "array([5.95513196, 5.95513196, 5.95513196, 5.95513196, 5.95513196,\n",
              "       5.95513196, 5.95513196, 5.95513196, 5.95513196, 5.95513196,\n",
              "       5.95513196, 5.95513196, 5.95513196])"
            ]
          },
          "metadata": {},
          "execution_count": 8
        }
      ]
    },
    {
      "cell_type": "code",
      "metadata": {
        "id": "IaSrqOTtPbnl"
      },
      "source": [
        ""
      ],
      "execution_count": null,
      "outputs": []
    }
  ]
}