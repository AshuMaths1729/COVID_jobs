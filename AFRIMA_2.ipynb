{
  "nbformat": 4,
  "nbformat_minor": 0,
  "metadata": {
    "colab": {
      "name": "Copy of AFRIMA.ipynb",
      "provenance": [],
      "collapsed_sections": [],
      "include_colab_link": true
    },
    "kernelspec": {
      "display_name": "Python 3",
      "name": "python3"
    },
    "language_info": {
      "name": "python"
    }
  },
  "cells": [
    {
      "cell_type": "markdown",
      "metadata": {
        "id": "view-in-github",
        "colab_type": "text"
      },
      "source": [
        "<a href=\"https://colab.research.google.com/github/AshuMaths1729/COVID_jobs/blob/main/AFRIMA_2.ipynb\" target=\"_parent\"><img src=\"https://colab.research.google.com/assets/colab-badge.svg\" alt=\"Open In Colab\"/></a>"
      ]
    },
    {
      "cell_type": "code",
      "metadata": {
        "colab": {
          "base_uri": "https://localhost:8080/"
        },
        "id": "o_W7TKycf0j5",
        "outputId": "5bba2a3b-24cf-4fc9-a965-13eee2ef263c"
      },
      "source": [
        " \n",
        "import math\n",
        "import numpy as np\n",
        "import pandas as pd\n",
        " \n",
        "import statsmodels.tsa.stattools as st\n",
        " \n",
        "from statsmodels.graphics.tsaplots import plot_acf\n",
        "from statsmodels.graphics.tsaplots import plot_pacf\n",
        "import statsmodels.formula.api as smf\n",
        "import statsmodels.tsa.api as smt\n",
        "from statsmodels.tsa.stattools import adfuller\n",
        " \n",
        "#plotting libraries\n",
        "from matplotlib import cm\n",
        "from matplotlib import gridspec\n",
        "from matplotlib import pyplot as plt\n",
        " \n",
        "import seaborn as sns\n",
        " \n",
        "#Initialize figure size (in inches)\n",
        "plt.rcParams['figure.figsize'] = [10,5]\n",
        " \n",
        "#pd.options.display.max_rows = 10\n",
        "#pd.options.display.float_format = '{:.1f}'.format\n",
        " \n",
        "import os"
      ],
      "execution_count": null,
      "outputs": [
        {
          "name": "stderr",
          "output_type": "stream",
          "text": [
            "/usr/local/lib/python3.7/dist-packages/statsmodels/tools/_testing.py:19: FutureWarning: pandas.util.testing is deprecated. Use the functions in the public API at pandas.testing instead.\n",
            "  import pandas.util.testing as tm\n"
          ]
        }
      ]
    },
    {
      "cell_type": "code",
      "metadata": {
        "id": "LGCoicqBfgRw"
      },
      "source": [
        " \n",
        "\"\"\"Computes the weights for our fractionally differenced features up to a given threshold\n",
        "   requirement for fixed-window fractional differencing. \n",
        "    Args:\n",
        "        d: A float representing the differencing factor\n",
        "        length: An int length of series to be differenced\n",
        "        threshold: A float representing the minimum threshold to include weights for\n",
        "    Returns:\n",
        "        A numpy array containing the weights to be applied to our time series\n",
        "\"\"\"\n",
        "def findWeights_FFD(d, length, threshold):\n",
        "    #set first weight to be 1 and k to be 1\n",
        "    w, k = [1.], 1\n",
        "    w_curr = 1\n",
        "    \n",
        "    #while we still have more weights to process, do the following:\n",
        "    while(k < length):\n",
        "        \n",
        "        w_curr = (-w[-1]*(d-k+1))/k\n",
        "        \n",
        "        #if the current weight is below threshold, exit loop\n",
        "        if(abs(w_curr) <= threshold):\n",
        "            \n",
        "            break\n",
        "            \n",
        "        #append coefficient to list if it passes above threshold condition\n",
        "        w.append(w_curr)\n",
        "        \n",
        "        #increment k\n",
        "        k += 1\n",
        "        \n",
        "    #make sure to convert it into a numpy array and reshape from a single row to a single\n",
        "    #column so they can be applied to time-series values easier\n",
        "    w = np.array(w[::-1]).reshape(-1,1)\n",
        "    \n",
        "    return w"
      ],
      "execution_count": null,
      "outputs": []
    },
    {
      "cell_type": "code",
      "metadata": {
        "id": "FY6Um1eCgKjr"
      },
      "source": [
        "\"\"\"Computes fractionally differenced series \n",
        "    Args:\n",
        "        d: A float representing the differencing factor (any positive fractional)\n",
        "        series: A pandas dataframe with one or more columns of time-series values to be differenced\n",
        "        threshold: Threshold value past which we ignore weights \n",
        "            (cutoff weight for window)\n",
        "    Returns: \n",
        "        diff_series: A numpy array of differenced series by d. \n",
        "\"\"\"\n",
        "def fracDiff(series, d, threshold = 1e-5):\n",
        "    #compute weights using function above\n",
        "    weights = findWeights_FFD(d, len(series), threshold)\n",
        "    width = len(weights) - 1\n",
        "    \n",
        "    df = {}\n",
        "    #for each series to be differenced, apply weights to appropriate prices and save \n",
        "    for name in series.columns:\n",
        "        \n",
        "        #forward fill through unavailable prices and create a temporary series to hold values\n",
        "        curr_series = series[[name]].fillna(method='ffill').dropna()\n",
        "        df_temp = pd.Series()\n",
        "        \n",
        "        #loop through all values that fall into range to be fractionally differenced\n",
        "        for iloc1 in range(width, curr_series.shape[0]):\n",
        "            \n",
        "            #set values for first and last time-series point to be used in current pass of fractional\n",
        "                #difference\n",
        "            loc0 = curr_series.index[iloc1-width]\n",
        "            loc1 = curr_series.index[iloc1]\n",
        "            \n",
        "            #make sure current value is valid\n",
        "            if not np.isfinite(curr_series.loc[loc1,name]):\n",
        "                continue\n",
        "            \n",
        "            #dot product of weights with values from first and last indices\n",
        "            df_temp[loc1]= np.dot(weights.T, curr_series.loc[loc0:loc1])[0,0]\n",
        "            \n",
        "        df[name] = df_temp.copy(deep=True)\n",
        "    df = pd.concat(df, axis=1)\n",
        "            \n",
        "    return df"
      ],
      "execution_count": null,
      "outputs": []
    },
    {
      "cell_type": "code",
      "metadata": {
        "id": "Nz3IEO-QgPbj"
      },
      "source": [
        "df=pd.read_csv('/content/Monthly_Unemployment_1991-2020.csv')"
      ],
      "execution_count": null,
      "outputs": []
    },
    {
      "cell_type": "code",
      "metadata": {
        "id": "o3Vun6bgYtbK"
      },
      "source": [
        "from google.colab import drive\n",
        "drive.mount('/content/drive')"
      ],
      "execution_count": null,
      "outputs": []
    },
    {
      "cell_type": "code",
      "metadata": {
        "id": "TJl03T0ggq02"
      },
      "source": [
        "df['ds']=pd.to_datetime(df['ds'])"
      ],
      "execution_count": null,
      "outputs": []
    },
    {
      "cell_type": "code",
      "metadata": {
        "id": "zu-689b6gy9t"
      },
      "source": [
        "df.set_index('ds',inplace=True)"
      ],
      "execution_count": null,
      "outputs": []
    },
    {
      "cell_type": "code",
      "metadata": {
        "colab": {
          "base_uri": "https://localhost:8080/",
          "height": 234
        },
        "id": "riYpAs1qhObo",
        "outputId": "3d894feb-a3ec-4ea5-fe15-486f1014057d"
      },
      "source": [
        "df.head()"
      ],
      "execution_count": null,
      "outputs": [
        {
          "data": {
            "text/html": [
              "<div>\n",
              "<style scoped>\n",
              "    .dataframe tbody tr th:only-of-type {\n",
              "        vertical-align: middle;\n",
              "    }\n",
              "\n",
              "    .dataframe tbody tr th {\n",
              "        vertical-align: top;\n",
              "    }\n",
              "\n",
              "    .dataframe thead th {\n",
              "        text-align: right;\n",
              "    }\n",
              "</style>\n",
              "<table border=\"1\" class=\"dataframe\">\n",
              "  <thead>\n",
              "    <tr style=\"text-align: right;\">\n",
              "      <th></th>\n",
              "      <th>y</th>\n",
              "    </tr>\n",
              "    <tr>\n",
              "      <th>ds</th>\n",
              "      <th></th>\n",
              "    </tr>\n",
              "  </thead>\n",
              "  <tbody>\n",
              "    <tr>\n",
              "      <th>1991-12-31</th>\n",
              "      <td>5.450000</td>\n",
              "    </tr>\n",
              "    <tr>\n",
              "      <th>1992-01-31</th>\n",
              "      <td>5.454167</td>\n",
              "    </tr>\n",
              "    <tr>\n",
              "      <th>1992-02-29</th>\n",
              "      <td>5.458333</td>\n",
              "    </tr>\n",
              "    <tr>\n",
              "      <th>1992-03-31</th>\n",
              "      <td>5.462500</td>\n",
              "    </tr>\n",
              "    <tr>\n",
              "      <th>1992-04-30</th>\n",
              "      <td>5.466667</td>\n",
              "    </tr>\n",
              "  </tbody>\n",
              "</table>\n",
              "</div>"
            ],
            "text/plain": [
              "                   y\n",
              "ds                  \n",
              "1991-12-31  5.450000\n",
              "1992-01-31  5.454167\n",
              "1992-02-29  5.458333\n",
              "1992-03-31  5.462500\n",
              "1992-04-30  5.466667"
            ]
          },
          "execution_count": 8,
          "metadata": {},
          "output_type": "execute_result"
        }
      ]
    },
    {
      "cell_type": "code",
      "metadata": {
        "colab": {
          "base_uri": "https://localhost:8080/",
          "height": 447
        },
        "id": "kKBWCpEDZwJf",
        "outputId": "6fe824a5-0c73-47e9-f360-ed46c65e9b32"
      },
      "source": [
        "df[['y']]"
      ],
      "execution_count": null,
      "outputs": [
        {
          "data": {
            "text/html": [
              "<div>\n",
              "<style scoped>\n",
              "    .dataframe tbody tr th:only-of-type {\n",
              "        vertical-align: middle;\n",
              "    }\n",
              "\n",
              "    .dataframe tbody tr th {\n",
              "        vertical-align: top;\n",
              "    }\n",
              "\n",
              "    .dataframe thead th {\n",
              "        text-align: right;\n",
              "    }\n",
              "</style>\n",
              "<table border=\"1\" class=\"dataframe\">\n",
              "  <thead>\n",
              "    <tr style=\"text-align: right;\">\n",
              "      <th></th>\n",
              "      <th>y</th>\n",
              "    </tr>\n",
              "    <tr>\n",
              "      <th>ds</th>\n",
              "      <th></th>\n",
              "    </tr>\n",
              "  </thead>\n",
              "  <tbody>\n",
              "    <tr>\n",
              "      <th>1991-12-31</th>\n",
              "      <td>5.450000</td>\n",
              "    </tr>\n",
              "    <tr>\n",
              "      <th>1992-01-31</th>\n",
              "      <td>5.454167</td>\n",
              "    </tr>\n",
              "    <tr>\n",
              "      <th>1992-02-29</th>\n",
              "      <td>5.458333</td>\n",
              "    </tr>\n",
              "    <tr>\n",
              "      <th>1992-03-31</th>\n",
              "      <td>5.462500</td>\n",
              "    </tr>\n",
              "    <tr>\n",
              "      <th>1992-04-30</th>\n",
              "      <td>5.466667</td>\n",
              "    </tr>\n",
              "    <tr>\n",
              "      <th>...</th>\n",
              "      <td>...</td>\n",
              "    </tr>\n",
              "    <tr>\n",
              "      <th>2020-03-31</th>\n",
              "      <td>8.750000</td>\n",
              "    </tr>\n",
              "    <tr>\n",
              "      <th>2020-04-30</th>\n",
              "      <td>23.520000</td>\n",
              "    </tr>\n",
              "    <tr>\n",
              "      <th>2020-05-31</th>\n",
              "      <td>23.480000</td>\n",
              "    </tr>\n",
              "    <tr>\n",
              "      <th>2020-06-30</th>\n",
              "      <td>10.990000</td>\n",
              "    </tr>\n",
              "    <tr>\n",
              "      <th>2020-07-31</th>\n",
              "      <td>7.430000</td>\n",
              "    </tr>\n",
              "  </tbody>\n",
              "</table>\n",
              "<p>344 rows × 1 columns</p>\n",
              "</div>"
            ],
            "text/plain": [
              "                    y\n",
              "ds                   \n",
              "1991-12-31   5.450000\n",
              "1992-01-31   5.454167\n",
              "1992-02-29   5.458333\n",
              "1992-03-31   5.462500\n",
              "1992-04-30   5.466667\n",
              "...               ...\n",
              "2020-03-31   8.750000\n",
              "2020-04-30  23.520000\n",
              "2020-05-31  23.480000\n",
              "2020-06-30  10.990000\n",
              "2020-07-31   7.430000\n",
              "\n",
              "[344 rows x 1 columns]"
            ]
          },
          "execution_count": 9,
          "metadata": {},
          "output_type": "execute_result"
        }
      ]
    },
    {
      "cell_type": "code",
      "metadata": {
        "colab": {
          "base_uri": "https://localhost:8080/",
          "height": 454
        },
        "id": "f9wW4cCdbbzU",
        "outputId": "d2595ba6-e127-4bec-e6f8-68f07ef9aa53"
      },
      "source": [
        "test_series = df[['y']]\n",
        "fracDiff(test_series, 0.1, 1e-3)"
      ],
      "execution_count": null,
      "outputs": [
        {
          "name": "stderr",
          "output_type": "stream",
          "text": [
            "/usr/local/lib/python3.7/dist-packages/ipykernel_launcher.py:21: DeprecationWarning: The default dtype for empty Series will be 'object' instead of 'float64' in a future version. Specify a dtype explicitly to silence this warning.\n"
          ]
        },
        {
          "data": {
            "text/html": [
              "<div>\n",
              "<style scoped>\n",
              "    .dataframe tbody tr th:only-of-type {\n",
              "        vertical-align: middle;\n",
              "    }\n",
              "\n",
              "    .dataframe tbody tr th {\n",
              "        vertical-align: top;\n",
              "    }\n",
              "\n",
              "    .dataframe thead th {\n",
              "        text-align: right;\n",
              "    }\n",
              "</style>\n",
              "<table border=\"1\" class=\"dataframe\">\n",
              "  <thead>\n",
              "    <tr style=\"text-align: right;\">\n",
              "      <th></th>\n",
              "      <th>y</th>\n",
              "    </tr>\n",
              "  </thead>\n",
              "  <tbody>\n",
              "    <tr>\n",
              "      <th>1997-01-31</th>\n",
              "      <td>3.507789</td>\n",
              "    </tr>\n",
              "    <tr>\n",
              "      <th>1997-02-28</th>\n",
              "      <td>3.506590</td>\n",
              "    </tr>\n",
              "    <tr>\n",
              "      <th>1997-03-31</th>\n",
              "      <td>3.505475</td>\n",
              "    </tr>\n",
              "    <tr>\n",
              "      <th>1997-04-30</th>\n",
              "      <td>3.504416</td>\n",
              "    </tr>\n",
              "    <tr>\n",
              "      <th>1997-05-31</th>\n",
              "      <td>3.503399</td>\n",
              "    </tr>\n",
              "    <tr>\n",
              "      <th>...</th>\n",
              "      <td>...</td>\n",
              "    </tr>\n",
              "    <tr>\n",
              "      <th>2020-03-31</th>\n",
              "      <td>6.031879</td>\n",
              "    </tr>\n",
              "    <tr>\n",
              "      <th>2020-04-30</th>\n",
              "      <td>20.679634</td>\n",
              "    </tr>\n",
              "    <tr>\n",
              "      <th>2020-05-31</th>\n",
              "      <td>19.101697</td>\n",
              "    </tr>\n",
              "    <tr>\n",
              "      <th>2020-06-30</th>\n",
              "      <td>5.909658</td>\n",
              "    </tr>\n",
              "    <tr>\n",
              "      <th>2020-07-31</th>\n",
              "      <td>3.147793</td>\n",
              "    </tr>\n",
              "  </tbody>\n",
              "</table>\n",
              "<p>283 rows × 1 columns</p>\n",
              "</div>"
            ],
            "text/plain": [
              "                    y\n",
              "1997-01-31   3.507789\n",
              "1997-02-28   3.506590\n",
              "1997-03-31   3.505475\n",
              "1997-04-30   3.504416\n",
              "1997-05-31   3.503399\n",
              "...               ...\n",
              "2020-03-31   6.031879\n",
              "2020-04-30  20.679634\n",
              "2020-05-31  19.101697\n",
              "2020-06-30   5.909658\n",
              "2020-07-31   3.147793\n",
              "\n",
              "[283 rows x 1 columns]"
            ]
          },
          "execution_count": 10,
          "metadata": {},
          "output_type": "execute_result"
        }
      ]
    },
    {
      "cell_type": "code",
      "metadata": {
        "colab": {
          "base_uri": "https://localhost:8080/",
          "height": 454
        },
        "id": "GfLWCrMZg2bW",
        "outputId": "d29ecbab-9e01-4f4e-8d96-5040eb7f8654"
      },
      "source": [
        " \n",
        "test_series = df[['y']]\n",
        " \n",
        "df_result = fracDiff(test_series, 0.8, 1e-3)\n",
        " \n",
        "df_result"
      ],
      "execution_count": null,
      "outputs": [
        {
          "name": "stderr",
          "output_type": "stream",
          "text": [
            "/usr/local/lib/python3.7/dist-packages/ipykernel_launcher.py:21: DeprecationWarning: The default dtype for empty Series will be 'object' instead of 'float64' in a future version. Specify a dtype explicitly to silence this warning.\n"
          ]
        },
        {
          "data": {
            "text/html": [
              "<div>\n",
              "<style scoped>\n",
              "    .dataframe tbody tr th:only-of-type {\n",
              "        vertical-align: middle;\n",
              "    }\n",
              "\n",
              "    .dataframe tbody tr th {\n",
              "        vertical-align: top;\n",
              "    }\n",
              "\n",
              "    .dataframe thead th {\n",
              "        text-align: right;\n",
              "    }\n",
              "</style>\n",
              "<table border=\"1\" class=\"dataframe\">\n",
              "  <thead>\n",
              "    <tr style=\"text-align: right;\">\n",
              "      <th></th>\n",
              "      <th>y</th>\n",
              "    </tr>\n",
              "  </thead>\n",
              "  <tbody>\n",
              "    <tr>\n",
              "      <th>1993-05-31</th>\n",
              "      <td>0.137839</td>\n",
              "    </tr>\n",
              "    <tr>\n",
              "      <th>1993-06-30</th>\n",
              "      <td>0.138228</td>\n",
              "    </tr>\n",
              "    <tr>\n",
              "      <th>1993-07-31</th>\n",
              "      <td>0.138578</td>\n",
              "    </tr>\n",
              "    <tr>\n",
              "      <th>1993-08-31</th>\n",
              "      <td>0.138898</td>\n",
              "    </tr>\n",
              "    <tr>\n",
              "      <th>1993-09-30</th>\n",
              "      <td>0.139196</td>\n",
              "    </tr>\n",
              "    <tr>\n",
              "      <th>...</th>\n",
              "      <td>...</td>\n",
              "    </tr>\n",
              "    <tr>\n",
              "      <th>2020-03-31</th>\n",
              "      <td>1.233382</td>\n",
              "    </tr>\n",
              "    <tr>\n",
              "      <th>2020-04-30</th>\n",
              "      <td>15.177558</td>\n",
              "    </tr>\n",
              "    <tr>\n",
              "      <th>2020-05-31</th>\n",
              "      <td>3.229615</td>\n",
              "    </tr>\n",
              "    <tr>\n",
              "      <th>2020-06-30</th>\n",
              "      <td>-10.448231</td>\n",
              "    </tr>\n",
              "    <tr>\n",
              "      <th>2020-07-31</th>\n",
              "      <td>-4.507437</td>\n",
              "    </tr>\n",
              "  </tbody>\n",
              "</table>\n",
              "<p>327 rows × 1 columns</p>\n",
              "</div>"
            ],
            "text/plain": [
              "                    y\n",
              "1993-05-31   0.137839\n",
              "1993-06-30   0.138228\n",
              "1993-07-31   0.138578\n",
              "1993-08-31   0.138898\n",
              "1993-09-30   0.139196\n",
              "...               ...\n",
              "2020-03-31   1.233382\n",
              "2020-04-30  15.177558\n",
              "2020-05-31   3.229615\n",
              "2020-06-30 -10.448231\n",
              "2020-07-31  -4.507437\n",
              "\n",
              "[327 rows x 1 columns]"
            ]
          },
          "execution_count": 95,
          "metadata": {},
          "output_type": "execute_result"
        }
      ]
    },
    {
      "cell_type": "code",
      "metadata": {
        "colab": {
          "base_uri": "https://localhost:8080/",
          "height": 279
        },
        "id": "w3ly2qa6hVZ6",
        "outputId": "f53879bf-9743-4d2b-a9bf-b88f1f2a8f6d"
      },
      "source": [
        "fig, ax1 = plt.subplots()\n",
        " \n",
        "color = 'tab:red'\n",
        "ax1.set_xlabel('Date')\n",
        "ax1.set_ylabel('Fractional Differenced ', color=color)\n",
        "ax1.plot( df_result['y'], color=color)\n",
        " \n",
        "ax2 = ax1.twinx()\n",
        " \n",
        "color = 'tab:blue'\n",
        "ax2.set_ylabel('Unemployment Rate', color = color)\n",
        "ax2.plot(df['y'], color=color)\n",
        " \n",
        "plt.show()"
      ],
      "execution_count": null,
      "outputs": [
        {
          "data": {
            "image/png": "[encoded data removed]",
            "text/plain": [
              "<Figure size 432x288 with 2 Axes>"
            ]
          },
          "metadata": {},
          "output_type": "display_data"
        }
      ]
    },
    {
      "cell_type": "code",
      "metadata": {
        "id": "8jovzraUg8tn"
      },
      "source": [
        "### Testing For Stationarity\n",
        "\n",
        "from statsmodels.tsa.stattools import adfuller"
      ],
      "execution_count": null,
      "outputs": []
    },
    {
      "cell_type": "code",
      "metadata": {
        "colab": {
          "base_uri": "https://localhost:8080/"
        },
        "id": "LfHDwbNzg9gQ",
        "outputId": "996d1bc4-c1fe-4a67-c722-dc7efce5ba60"
      },
      "source": [
        "test_result=adfuller(df_result['y'])\n",
        "test_result"
      ],
      "execution_count": null,
      "outputs": [
        {
          "data": {
            "text/plain": [
              "(-2.3687359414271896,\n",
              " 0.15075554817938552,\n",
              " 13,\n",
              " 313,\n",
              " {'1%': -3.4514162625887037,\n",
              "  '10%': -2.5717136883095675,\n",
              "  '5%': -2.8708187088091406},\n",
              " 796.9376788615439)"
            ]
          },
          "execution_count": 98,
          "metadata": {},
          "output_type": "execute_result"
        }
      ]
    },
    {
      "cell_type": "code",
      "metadata": {
        "id": "vx0m2S8khNcG"
      },
      "source": [
        "#Ho: It is not stationary\n",
        "#H1: It is stationary\n",
        "\n",
        "def adfuller_test(y):\n",
        "    result=adfuller(y)\n",
        "    labels = ['ADF Test Statistic','p-value','#Lags Used','Number of Observations Used']\n",
        "    for value,label in zip(result,labels):\n",
        "        print(label+' : '+str(value) )\n",
        "    if result[1] <= 0.05:\n",
        "        print(\"strong evidence against the null hypothesis(Ho), reject the null hypothesis. Data has no unit root and is stationary\")\n",
        "    else:\n",
        "        print(\"weak evidence against null hypothesis, time series has a unit root, indicating it is non-stationary \")"
      ],
      "execution_count": null,
      "outputs": []
    },
    {
      "cell_type": "code",
      "metadata": {
        "colab": {
          "base_uri": "https://localhost:8080/"
        },
        "id": "Q2b3zslihOCI",
        "outputId": "81d17991-787e-45a4-c627-d9a6d933892a"
      },
      "source": [
        "adfuller_test(df_result['y'])"
      ],
      "execution_count": null,
      "outputs": [
        {
          "name": "stdout",
          "output_type": "stream",
          "text": [
            "ADF Test Statistic : -2.3687359414271896\n",
            "p-value : 0.15075554817938552\n",
            "#Lags Used : 13\n",
            "Number of Observations Used : 313\n",
            "weak evidence against null hypothesis, time series has a unit root, indicating it is non-stationary \n"
          ]
        }
      ]
    },
    {
      "cell_type": "code",
      "metadata": {
        "id": "6lhL5b8Zhakr"
      },
      "source": [
        "df_result['y First Difference'] = df_result['y'] - df_result['y'].shift(1)"
      ],
      "execution_count": null,
      "outputs": []
    },
    {
      "cell_type": "code",
      "metadata": {
        "colab": {
          "base_uri": "https://localhost:8080/"
        },
        "id": "jqJTnrKhh5oN",
        "outputId": "7d038204-d6b0-46ed-e4f5-b98ec5e2cd85"
      },
      "source": [
        "## Again test dickey fuller test\n",
        "adfuller_test(df_result['y First Difference'].dropna())"
      ],
      "execution_count": null,
      "outputs": [
        {
          "name": "stdout",
          "output_type": "stream",
          "text": [
            "ADF Test Statistic : -5.950916267271725\n",
            "p-value : 2.1482928248807832e-07\n",
            "#Lags Used : 17\n",
            "Number of Observations Used : 308\n",
            "strong evidence against the null hypothesis(Ho), reject the null hypothesis. Data has no unit root and is stationary\n"
          ]
        }
      ]
    },
    {
      "cell_type": "code",
      "metadata": {
        "colab": {
          "base_uri": "https://localhost:8080/",
          "height": 284
        },
        "id": "YkVC_mX1iHw1",
        "outputId": "7c22b74e-ce41-4046-d1ec-33240697f21b"
      },
      "source": [
        "df_result['y First Difference'].plot()"
      ],
      "execution_count": null,
      "outputs": [
        {
          "data": {
            "text/plain": [
              "<matplotlib.axes._subplots.AxesSubplot at 0x7f323f4fccd0>"
            ]
          },
          "execution_count": 103,
          "metadata": {},
          "output_type": "execute_result"
        },
        {
          "data": {
            "image/png": "[encoded data removed]",
            "text/plain": [
              "<Figure size 432x288 with 1 Axes>"
            ]
          },
          "metadata": {},
          "output_type": "display_data"
        }
      ]
    },
    {
      "cell_type": "code",
      "metadata": {
        "id": "jfrPfLOnidyE"
      },
      "source": [
        "from statsmodels.graphics.tsaplots import plot_acf,plot_pacf"
      ],
      "execution_count": null,
      "outputs": []
    },
    {
      "cell_type": "code",
      "metadata": {
        "id": "mUWOSpu1lT-e"
      },
      "source": [
        "# For non-seasonal data\n",
        "#p=1, d=1, q=0 or 1\n",
        "from statsmodels.tsa.arima_model import ARIMA"
      ],
      "execution_count": null,
      "outputs": []
    },
    {
      "cell_type": "code",
      "metadata": {
        "colab": {
          "base_uri": "https://localhost:8080/"
        },
        "id": "Cskt4b2hlWEl",
        "outputId": "5c60b383-bd5e-48d5-e2b9-0aea634820af"
      },
      "source": [
        "model=ARIMA(df_result['y'],order=(1,1,1))\n",
        "model_fit=model.fit()"
      ],
      "execution_count": null,
      "outputs": [
        {
          "name": "stderr",
          "output_type": "stream",
          "text": [
            "/usr/local/lib/python3.7/dist-packages/statsmodels/tsa/base/tsa_model.py:165: ValueWarning: No frequency information was provided, so inferred frequency M will be used.\n",
            "  % freq, ValueWarning)\n",
            "/usr/local/lib/python3.7/dist-packages/statsmodels/tsa/base/tsa_model.py:165: ValueWarning: No frequency information was provided, so inferred frequency M will be used.\n",
            "  % freq, ValueWarning)\n"
          ]
        }
      ]
    },
    {
      "cell_type": "code",
      "metadata": {
        "colab": {
          "base_uri": "https://localhost:8080/",
          "height": 341
        },
        "id": "k0WSuKyIlYub",
        "outputId": "81995fb0-eebd-4af5-f0dd-f22bed369120"
      },
      "source": [
        "model_fit.summary()"
      ],
      "execution_count": null,
      "outputs": [
        {
          "data": {
            "text/html": [
              "<table class=\"simpletable\">\n",
              "<caption>ARIMA Model Results</caption>\n",
              "<tr>\n",
              "  <th>Dep. Variable:</th>        <td>D.y</td>       <th>  No. Observations:  </th>    <td>326</td>  \n",
              "</tr>\n",
              "<tr>\n",
              "  <th>Model:</th>          <td>ARIMA(1, 1, 1)</td>  <th>  Log Likelihood     </th> <td>-490.971</td>\n",
              "</tr>\n",
              "<tr>\n",
              "  <th>Method:</th>             <td>css-mle</td>     <th>  S.D. of innovations</th>   <td>1.082</td> \n",
              "</tr>\n",
              "<tr>\n",
              "  <th>Date:</th>          <td>Mon, 23 Aug 2021</td> <th>  AIC                </th>  <td>989.942</td>\n",
              "</tr>\n",
              "<tr>\n",
              "  <th>Time:</th>              <td>15:32:51</td>     <th>  BIC                </th> <td>1005.090</td>\n",
              "</tr>\n",
              "<tr>\n",
              "  <th>Sample:</th>           <td>06-30-1993</td>    <th>  HQIC               </th>  <td>995.987</td>\n",
              "</tr>\n",
              "<tr>\n",
              "  <th></th>                 <td>- 07-31-2020</td>   <th>                     </th>     <td> </td>   \n",
              "</tr>\n",
              "</table>\n",
              "<table class=\"simpletable\">\n",
              "<tr>\n",
              "      <td></td>         <th>coef</th>     <th>std err</th>      <th>z</th>      <th>P>|z|</th>  <th>[0.025</th>    <th>0.975]</th>  \n",
              "</tr>\n",
              "<tr>\n",
              "  <th>const</th>     <td>    0.0003</td> <td>    0.001</td> <td>    0.395</td> <td> 0.693</td> <td>   -0.001</td> <td>    0.002</td>\n",
              "</tr>\n",
              "<tr>\n",
              "  <th>ar.L1.D.y</th> <td>    0.2198</td> <td>    0.056</td> <td>    3.940</td> <td> 0.000</td> <td>    0.110</td> <td>    0.329</td>\n",
              "</tr>\n",
              "<tr>\n",
              "  <th>ma.L1.D.y</th> <td>   -1.0000</td> <td>    0.008</td> <td> -129.921</td> <td> 0.000</td> <td>   -1.015</td> <td>   -0.985</td>\n",
              "</tr>\n",
              "</table>\n",
              "<table class=\"simpletable\">\n",
              "<caption>Roots</caption>\n",
              "<tr>\n",
              "    <td></td>   <th>            Real</th>  <th>         Imaginary</th> <th>         Modulus</th>  <th>        Frequency</th>\n",
              "</tr>\n",
              "<tr>\n",
              "  <th>AR.1</th> <td>           4.5495</td> <td>          +0.0000j</td> <td>           4.5495</td> <td>           0.0000</td>\n",
              "</tr>\n",
              "<tr>\n",
              "  <th>MA.1</th> <td>           1.0000</td> <td>          +0.0000j</td> <td>           1.0000</td> <td>           0.0000</td>\n",
              "</tr>\n",
              "</table>"
            ],
            "text/plain": [
              "<class 'statsmodels.iolib.summary.Summary'>\n",
              "\"\"\"\n",
              "                             ARIMA Model Results                              \n",
              "==============================================================================\n",
              "Dep. Variable:                    D.y   No. Observations:                  326\n",
              "Model:                 ARIMA(1, 1, 1)   Log Likelihood                -490.971\n",
              "Method:                       css-mle   S.D. of innovations              1.082\n",
              "Date:                Mon, 23 Aug 2021   AIC                            989.942\n",
              "Time:                        15:32:51   BIC                           1005.090\n",
              "Sample:                    06-30-1993   HQIC                           995.987\n",
              "                         - 07-31-2020                                         \n",
              "==============================================================================\n",
              "                 coef    std err          z      P>|z|      [0.025      0.975]\n",
              "------------------------------------------------------------------------------\n",
              "const          0.0003      0.001      0.395      0.693      -0.001       0.002\n",
              "ar.L1.D.y      0.2198      0.056      3.940      0.000       0.110       0.329\n",
              "ma.L1.D.y     -1.0000      0.008   -129.921      0.000      -1.015      -0.985\n",
              "                                    Roots                                    \n",
              "=============================================================================\n",
              "                  Real          Imaginary           Modulus         Frequency\n",
              "-----------------------------------------------------------------------------\n",
              "AR.1            4.5495           +0.0000j            4.5495            0.0000\n",
              "MA.1            1.0000           +0.0000j            1.0000            0.0000\n",
              "-----------------------------------------------------------------------------\n",
              "\"\"\""
            ]
          },
          "execution_count": 106,
          "metadata": {},
          "output_type": "execute_result"
        }
      ]
    },
    {
      "cell_type": "code",
      "metadata": {
        "colab": {
          "base_uri": "https://localhost:8080/",
          "height": 265
        },
        "id": "J3xeVT9KlfTG",
        "outputId": "7f90e3b2-bbbe-4f6c-f984-175948cd9a49"
      },
      "source": [
        "df_result['forecast']=model_fit.predict(start=90,end=344,dynamic=True)\n",
        "df_result[['y','forecast']].plot(figsize=(6,4))\n",
        "plt.savefig(\"filename3.pdf\")"
      ],
      "execution_count": null,
      "outputs": [
        {
          "data": {
            "image/png": "[encoded data removed]",
            "text/plain": [
              "<Figure size 432x288 with 1 Axes>"
            ]
          },
          "metadata": {},
          "output_type": "display_data"
        }
      ]
    },
    {
      "cell_type": "code",
      "metadata": {
        "id": "yWZGyY5BlqKQ"
      },
      "source": [
        "from pandas.tseries.offsets import DateOffset\n",
        "future_dates=[df.index[-1]+ DateOffset(months=x)for x in range(0,18)]"
      ],
      "execution_count": null,
      "outputs": []
    },
    {
      "cell_type": "code",
      "metadata": {
        "id": "wNlM0Rr3l06a"
      },
      "source": [
        "future_datest_df=pd.DataFrame(index=future_dates[1:],columns=df_result.columns)"
      ],
      "execution_count": null,
      "outputs": []
    },
    {
      "cell_type": "code",
      "metadata": {
        "colab": {
          "base_uri": "https://localhost:8080/",
          "height": 573
        },
        "id": "HxQxvaC5mF6K",
        "outputId": "71608e91-23db-4440-b7fb-548432b9ead2"
      },
      "source": [
        "future_datest_df"
      ],
      "execution_count": null,
      "outputs": [
        {
          "data": {
            "text/html": [
              "<div>\n",
              "<style scoped>\n",
              "    .dataframe tbody tr th:only-of-type {\n",
              "        vertical-align: middle;\n",
              "    }\n",
              "\n",
              "    .dataframe tbody tr th {\n",
              "        vertical-align: top;\n",
              "    }\n",
              "\n",
              "    .dataframe thead th {\n",
              "        text-align: right;\n",
              "    }\n",
              "</style>\n",
              "<table border=\"1\" class=\"dataframe\">\n",
              "  <thead>\n",
              "    <tr style=\"text-align: right;\">\n",
              "      <th></th>\n",
              "      <th>y</th>\n",
              "      <th>y First Difference</th>\n",
              "      <th>forecast</th>\n",
              "    </tr>\n",
              "  </thead>\n",
              "  <tbody>\n",
              "    <tr>\n",
              "      <th>2020-08-31</th>\n",
              "      <td>NaN</td>\n",
              "      <td>NaN</td>\n",
              "      <td>NaN</td>\n",
              "    </tr>\n",
              "    <tr>\n",
              "      <th>2020-09-30</th>\n",
              "      <td>NaN</td>\n",
              "      <td>NaN</td>\n",
              "      <td>NaN</td>\n",
              "    </tr>\n",
              "    <tr>\n",
              "      <th>2020-10-31</th>\n",
              "      <td>NaN</td>\n",
              "      <td>NaN</td>\n",
              "      <td>NaN</td>\n",
              "    </tr>\n",
              "    <tr>\n",
              "      <th>2020-11-30</th>\n",
              "      <td>NaN</td>\n",
              "      <td>NaN</td>\n",
              "      <td>NaN</td>\n",
              "    </tr>\n",
              "    <tr>\n",
              "      <th>2020-12-31</th>\n",
              "      <td>NaN</td>\n",
              "      <td>NaN</td>\n",
              "      <td>NaN</td>\n",
              "    </tr>\n",
              "    <tr>\n",
              "      <th>2021-01-31</th>\n",
              "      <td>NaN</td>\n",
              "      <td>NaN</td>\n",
              "      <td>NaN</td>\n",
              "    </tr>\n",
              "    <tr>\n",
              "      <th>2021-02-28</th>\n",
              "      <td>NaN</td>\n",
              "      <td>NaN</td>\n",
              "      <td>NaN</td>\n",
              "    </tr>\n",
              "    <tr>\n",
              "      <th>2021-03-31</th>\n",
              "      <td>NaN</td>\n",
              "      <td>NaN</td>\n",
              "      <td>NaN</td>\n",
              "    </tr>\n",
              "    <tr>\n",
              "      <th>2021-04-30</th>\n",
              "      <td>NaN</td>\n",
              "      <td>NaN</td>\n",
              "      <td>NaN</td>\n",
              "    </tr>\n",
              "    <tr>\n",
              "      <th>2021-05-31</th>\n",
              "      <td>NaN</td>\n",
              "      <td>NaN</td>\n",
              "      <td>NaN</td>\n",
              "    </tr>\n",
              "    <tr>\n",
              "      <th>2021-06-30</th>\n",
              "      <td>NaN</td>\n",
              "      <td>NaN</td>\n",
              "      <td>NaN</td>\n",
              "    </tr>\n",
              "    <tr>\n",
              "      <th>2021-07-31</th>\n",
              "      <td>NaN</td>\n",
              "      <td>NaN</td>\n",
              "      <td>NaN</td>\n",
              "    </tr>\n",
              "    <tr>\n",
              "      <th>2021-08-31</th>\n",
              "      <td>NaN</td>\n",
              "      <td>NaN</td>\n",
              "      <td>NaN</td>\n",
              "    </tr>\n",
              "    <tr>\n",
              "      <th>2021-09-30</th>\n",
              "      <td>NaN</td>\n",
              "      <td>NaN</td>\n",
              "      <td>NaN</td>\n",
              "    </tr>\n",
              "    <tr>\n",
              "      <th>2021-10-31</th>\n",
              "      <td>NaN</td>\n",
              "      <td>NaN</td>\n",
              "      <td>NaN</td>\n",
              "    </tr>\n",
              "    <tr>\n",
              "      <th>2021-11-30</th>\n",
              "      <td>NaN</td>\n",
              "      <td>NaN</td>\n",
              "      <td>NaN</td>\n",
              "    </tr>\n",
              "    <tr>\n",
              "      <th>2021-12-31</th>\n",
              "      <td>NaN</td>\n",
              "      <td>NaN</td>\n",
              "      <td>NaN</td>\n",
              "    </tr>\n",
              "  </tbody>\n",
              "</table>\n",
              "</div>"
            ],
            "text/plain": [
              "              y y First Difference forecast\n",
              "2020-08-31  NaN                NaN      NaN\n",
              "2020-09-30  NaN                NaN      NaN\n",
              "2020-10-31  NaN                NaN      NaN\n",
              "2020-11-30  NaN                NaN      NaN\n",
              "2020-12-31  NaN                NaN      NaN\n",
              "2021-01-31  NaN                NaN      NaN\n",
              "2021-02-28  NaN                NaN      NaN\n",
              "2021-03-31  NaN                NaN      NaN\n",
              "2021-04-30  NaN                NaN      NaN\n",
              "2021-05-31  NaN                NaN      NaN\n",
              "2021-06-30  NaN                NaN      NaN\n",
              "2021-07-31  NaN                NaN      NaN\n",
              "2021-08-31  NaN                NaN      NaN\n",
              "2021-09-30  NaN                NaN      NaN\n",
              "2021-10-31  NaN                NaN      NaN\n",
              "2021-11-30  NaN                NaN      NaN\n",
              "2021-12-31  NaN                NaN      NaN"
            ]
          },
          "execution_count": 113,
          "metadata": {},
          "output_type": "execute_result"
        }
      ]
    },
    {
      "cell_type": "code",
      "metadata": {
        "colab": {
          "background_save": true
        },
        "id": "wOMgloBRmOia"
      },
      "source": [
        "future_df=pd.concat([df_result,future_datest_df])"
      ],
      "execution_count": null,
      "outputs": []
    },
    {
      "cell_type": "code",
      "metadata": {
        "colab": {
          "base_uri": "https://localhost:8080/",
          "height": 265
        },
        "id": "5RPb9ahQmUNv",
        "outputId": "27d27229-103e-42dc-98ad-d1393c3a67de"
      },
      "source": [
        "future_df['forecast'] = model_fit.predict(start = 104, end = 361, dynamic= True)  \n",
        "future_df[['y', 'forecast']].plot(figsize=(6,4))\n",
        "plt.savefig(\"filename7.pdf\")"
      ],
      "execution_count": null,
      "outputs": [
        {
          "data": {
            "image/png": "[encoded data removed]",
            "text/plain": [
              "<Figure size 432x288 with 1 Axes>"
            ]
          },
          "metadata": {},
          "output_type": "display_data"
        }
      ]
    },
    {
      "cell_type": "code",
      "metadata": {
        "colab": {
          "base_uri": "https://localhost:8080/",
          "height": 418
        },
        "id": "l84PJWQ2mdHP",
        "outputId": "a63a656c-a224-4051-a0a8-f235ef640076"
      },
      "source": [
        "df_result[-12:]"
      ],
      "execution_count": null,
      "outputs": [
        {
          "data": {
            "text/html": [
              "<div>\n",
              "<style scoped>\n",
              "    .dataframe tbody tr th:only-of-type {\n",
              "        vertical-align: middle;\n",
              "    }\n",
              "\n",
              "    .dataframe tbody tr th {\n",
              "        vertical-align: top;\n",
              "    }\n",
              "\n",
              "    .dataframe thead th {\n",
              "        text-align: right;\n",
              "    }\n",
              "</style>\n",
              "<table border=\"1\" class=\"dataframe\">\n",
              "  <thead>\n",
              "    <tr style=\"text-align: right;\">\n",
              "      <th></th>\n",
              "      <th>y</th>\n",
              "      <th>y First Difference</th>\n",
              "      <th>forecast</th>\n",
              "    </tr>\n",
              "  </thead>\n",
              "  <tbody>\n",
              "    <tr>\n",
              "      <th>2019-08-31</th>\n",
              "      <td>1.016257</td>\n",
              "      <td>1.205470</td>\n",
              "      <td>0.00032</td>\n",
              "    </tr>\n",
              "    <tr>\n",
              "      <th>2019-09-30</th>\n",
              "      <td>-0.680344</td>\n",
              "      <td>-1.696601</td>\n",
              "      <td>0.00032</td>\n",
              "    </tr>\n",
              "    <tr>\n",
              "      <th>2019-10-31</th>\n",
              "      <td>1.015272</td>\n",
              "      <td>1.695616</td>\n",
              "      <td>0.00032</td>\n",
              "    </tr>\n",
              "    <tr>\n",
              "      <th>2019-11-30</th>\n",
              "      <td>-0.554433</td>\n",
              "      <td>-1.569706</td>\n",
              "      <td>0.00032</td>\n",
              "    </tr>\n",
              "    <tr>\n",
              "      <th>2019-12-31</th>\n",
              "      <td>0.451829</td>\n",
              "      <td>1.006263</td>\n",
              "      <td>0.00032</td>\n",
              "    </tr>\n",
              "    <tr>\n",
              "      <th>2020-01-31</th>\n",
              "      <td>-0.178615</td>\n",
              "      <td>-0.630445</td>\n",
              "      <td>0.00032</td>\n",
              "    </tr>\n",
              "    <tr>\n",
              "      <th>2020-02-29</th>\n",
              "      <td>0.650286</td>\n",
              "      <td>0.828901</td>\n",
              "      <td>0.00032</td>\n",
              "    </tr>\n",
              "    <tr>\n",
              "      <th>2020-03-31</th>\n",
              "      <td>1.233382</td>\n",
              "      <td>0.583096</td>\n",
              "      <td>0.00032</td>\n",
              "    </tr>\n",
              "    <tr>\n",
              "      <th>2020-04-30</th>\n",
              "      <td>15.177558</td>\n",
              "      <td>13.944176</td>\n",
              "      <td>0.00032</td>\n",
              "    </tr>\n",
              "    <tr>\n",
              "      <th>2020-05-31</th>\n",
              "      <td>3.229615</td>\n",
              "      <td>-11.947943</td>\n",
              "      <td>0.00032</td>\n",
              "    </tr>\n",
              "    <tr>\n",
              "      <th>2020-06-30</th>\n",
              "      <td>-10.448231</td>\n",
              "      <td>-13.677845</td>\n",
              "      <td>0.00032</td>\n",
              "    </tr>\n",
              "    <tr>\n",
              "      <th>2020-07-31</th>\n",
              "      <td>-4.507437</td>\n",
              "      <td>5.940793</td>\n",
              "      <td>0.00032</td>\n",
              "    </tr>\n",
              "  </tbody>\n",
              "</table>\n",
              "</div>"
            ],
            "text/plain": [
              "                    y  y First Difference  forecast\n",
              "2019-08-31   1.016257            1.205470   0.00032\n",
              "2019-09-30  -0.680344           -1.696601   0.00032\n",
              "2019-10-31   1.015272            1.695616   0.00032\n",
              "2019-11-30  -0.554433           -1.569706   0.00032\n",
              "2019-12-31   0.451829            1.006263   0.00032\n",
              "2020-01-31  -0.178615           -0.630445   0.00032\n",
              "2020-02-29   0.650286            0.828901   0.00032\n",
              "2020-03-31   1.233382            0.583096   0.00032\n",
              "2020-04-30  15.177558           13.944176   0.00032\n",
              "2020-05-31   3.229615          -11.947943   0.00032\n",
              "2020-06-30 -10.448231          -13.677845   0.00032\n",
              "2020-07-31  -4.507437            5.940793   0.00032"
            ]
          },
          "execution_count": 112,
          "metadata": {},
          "output_type": "execute_result"
        }
      ]
    },
    {
      "cell_type": "code",
      "metadata": {
        "id": "k_8T66-jnCQT"
      },
      "source": [
        ""
      ],
      "execution_count": null,
      "outputs": []
    }
  ]
}