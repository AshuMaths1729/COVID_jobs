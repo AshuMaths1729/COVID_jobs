{
  "nbformat": 4,
  "nbformat_minor": 0,
  "metadata": {
    "colab": {
      "name": "AFRIMA.ipynb",
      "provenance": [],
      "collapsed_sections": [],
      "include_colab_link": true
    },
    "kernelspec": {
      "name": "python3",
      "display_name": "Python 3"
    },
    "language_info": {
      "name": "python"
    }
  },
  "cells": [
    {
      "cell_type": "markdown",
      "metadata": {
        "id": "view-in-github",
        "colab_type": "text"
      },
      "source": [
        "<a href=\"https://colab.research.google.com/github/AshuMaths1729/COVID_jobs/blob/main/AFRIMA.ipynb\" target=\"_parent\"><img src=\"https://colab.research.google.com/assets/colab-badge.svg\" alt=\"Open In Colab\"/></a>"
      ]
    },
    {
      "cell_type": "code",
      "metadata": {
        "colab": {
          "base_uri": "https://localhost:8080/"
        },
        "id": "o_W7TKycf0j5",
        "outputId": "189392cd-28f8-4f89-b637-28004cd27864"
      },
      "source": [
        " \n",
        "import math\n",
        "import numpy as np\n",
        "import pandas as pd\n",
        " \n",
        "import statsmodels.tsa.stattools as st\n",
        " \n",
        "from statsmodels.graphics.tsaplots import plot_acf\n",
        "from statsmodels.graphics.tsaplots import plot_pacf\n",
        "import statsmodels.formula.api as smf\n",
        "import statsmodels.tsa.api as smt\n",
        "from statsmodels.tsa.stattools import adfuller\n",
        " \n",
        "#plotting libraries\n",
        "from matplotlib import cm\n",
        "from matplotlib import gridspec\n",
        "from matplotlib import pyplot as plt\n",
        " \n",
        "import seaborn as sns\n",
        " \n",
        "#Initialize figure size (in inches)\n",
        "plt.rcParams['figure.figsize'] = [10,5]\n",
        " \n",
        "#pd.options.display.max_rows = 10\n",
        "#pd.options.display.float_format = '{:.1f}'.format\n",
        " \n",
        "import os"
      ],
      "execution_count": null,
      "outputs": [
        {
          "output_type": "stream",
          "text": [
            "/usr/local/lib/python3.7/dist-packages/statsmodels/tools/_testing.py:19: FutureWarning: pandas.util.testing is deprecated. Use the functions in the public API at pandas.testing instead.\n",
            "  import pandas.util.testing as tm\n"
          ],
          "name": "stderr"
        }
      ]
    },
    {
      "cell_type": "code",
      "metadata": {
        "id": "LGCoicqBfgRw"
      },
      "source": [
        " \n",
        "\"\"\"Computes the weights for our fractionally differenced features up to a given threshold\n",
        "   requirement for fixed-window fractional differencing. \n",
        "    Args:\n",
        "        d: A float representing the differencing factor\n",
        "        length: An int length of series to be differenced\n",
        "        threshold: A float representing the minimum threshold to include weights for\n",
        "    Returns:\n",
        "        A numpy array containing the weights to be applied to our time series\n",
        "\"\"\"\n",
        "def findWeights_FFD(d, length, threshold):\n",
        "    #set first weight to be 1 and k to be 1\n",
        "    w, k = [1.], 1\n",
        "    w_curr = 1\n",
        "    \n",
        "    #while we still have more weights to process, do the following:\n",
        "    while(k < length):\n",
        "        \n",
        "        w_curr = (-w[-1]*(d-k+1))/k\n",
        "        \n",
        "        #if the current weight is below threshold, exit loop\n",
        "        if(abs(w_curr) <= threshold):\n",
        "            \n",
        "            break\n",
        "            \n",
        "        #append coefficient to list if it passes above threshold condition\n",
        "        w.append(w_curr)\n",
        "        \n",
        "        #increment k\n",
        "        k += 1\n",
        "        \n",
        "    #make sure to convert it into a numpy array and reshape from a single row to a single\n",
        "    #column so they can be applied to time-series values easier\n",
        "    w = np.array(w[::-1]).reshape(-1,1)\n",
        "    \n",
        "    return w"
      ],
      "execution_count": null,
      "outputs": []
    },
    {
      "cell_type": "code",
      "metadata": {
        "id": "FY6Um1eCgKjr"
      },
      "source": [
        "\"\"\"Computes fractionally differenced series \n",
        "    Args:\n",
        "        d: A float representing the differencing factor (any positive fractional)\n",
        "        series: A pandas dataframe with one or more columns of time-series values to be differenced\n",
        "        threshold: Threshold value past which we ignore weights \n",
        "            (cutoff weight for window)\n",
        "    Returns: \n",
        "        diff_series: A numpy array of differenced series by d. \n",
        "\"\"\"\n",
        "def fracDiff(series, d, threshold = 1e-5):\n",
        "    #compute weights using function above\n",
        "    weights = findWeights_FFD(d, len(series), threshold)\n",
        "    width = len(weights) - 1\n",
        "    \n",
        "    df = {}\n",
        "    #for each series to be differenced, apply weights to appropriate prices and save \n",
        "    for name in series.columns:\n",
        "        \n",
        "        #forward fill through unavailable prices and create a temporary series to hold values\n",
        "        curr_series = series[[name]].fillna(method='ffill').dropna()\n",
        "        df_temp = pd.Series()\n",
        "        \n",
        "        #loop through all values that fall into range to be fractionally differenced\n",
        "        for iloc1 in range(width, curr_series.shape[0]):\n",
        "            \n",
        "            #set values for first and last time-series point to be used in current pass of fractional\n",
        "                #difference\n",
        "            loc0 = curr_series.index[iloc1-width]\n",
        "            loc1 = curr_series.index[iloc1]\n",
        "            \n",
        "            #make sure current value is valid\n",
        "            if not np.isfinite(curr_series.loc[loc1,name]):\n",
        "                continue\n",
        "            \n",
        "            #dot product of weights with values from first and last indices\n",
        "            df_temp[loc1]= np.dot(weights.T, curr_series.loc[loc0:loc1])[0,0]\n",
        "            \n",
        "        df[name] = df_temp.copy(deep=True)\n",
        "    df = pd.concat(df, axis=1)\n",
        "            \n",
        "    return df"
      ],
      "execution_count": null,
      "outputs": []
    },
    {
      "cell_type": "code",
      "metadata": {
        "id": "Nz3IEO-QgPbj"
      },
      "source": [
        "df=pd.read_csv('/content/drive/MyDrive/COVID_Jobs/Data/Monthly_Unemployment_1991-2020.csv')"
      ],
      "execution_count": null,
      "outputs": []
    },
    {
      "cell_type": "code",
      "metadata": {
        "colab": {
          "base_uri": "https://localhost:8080/"
        },
        "id": "o3Vun6bgYtbK",
        "outputId": "7f6615fa-debb-4e21-f333-c54fb75043b9"
      },
      "source": [
        "from google.colab import drive\n",
        "drive.mount('/content/drive')"
      ],
      "execution_count": null,
      "outputs": [
        {
          "output_type": "stream",
          "text": [
            "Mounted at /content/drive\n"
          ],
          "name": "stdout"
        }
      ]
    },
    {
      "cell_type": "code",
      "metadata": {
        "id": "TJl03T0ggq02"
      },
      "source": [
        "df['ds']=pd.to_datetime(df['ds'])"
      ],
      "execution_count": null,
      "outputs": []
    },
    {
      "cell_type": "code",
      "metadata": {
        "id": "zu-689b6gy9t"
      },
      "source": [
        "df.set_index('ds',inplace=True)"
      ],
      "execution_count": null,
      "outputs": []
    },
    {
      "cell_type": "code",
      "metadata": {
        "colab": {
          "base_uri": "https://localhost:8080/",
          "height": 236
        },
        "id": "riYpAs1qhObo",
        "outputId": "ed261804-5f26-4b41-9e85-6cb0b0d6b9c4"
      },
      "source": [
        "df.head()"
      ],
      "execution_count": null,
      "outputs": [
        {
          "output_type": "execute_result",
          "data": {
            "text/html": [
              "<div>\n",
              "<style scoped>\n",
              "    .dataframe tbody tr th:only-of-type {\n",
              "        vertical-align: middle;\n",
              "    }\n",
              "\n",
              "    .dataframe tbody tr th {\n",
              "        vertical-align: top;\n",
              "    }\n",
              "\n",
              "    .dataframe thead th {\n",
              "        text-align: right;\n",
              "    }\n",
              "</style>\n",
              "<table border=\"1\" class=\"dataframe\">\n",
              "  <thead>\n",
              "    <tr style=\"text-align: right;\">\n",
              "      <th></th>\n",
              "      <th>y</th>\n",
              "    </tr>\n",
              "    <tr>\n",
              "      <th>ds</th>\n",
              "      <th></th>\n",
              "    </tr>\n",
              "  </thead>\n",
              "  <tbody>\n",
              "    <tr>\n",
              "      <th>1991-12-31</th>\n",
              "      <td>5.450000</td>\n",
              "    </tr>\n",
              "    <tr>\n",
              "      <th>1992-01-31</th>\n",
              "      <td>5.454167</td>\n",
              "    </tr>\n",
              "    <tr>\n",
              "      <th>1992-02-29</th>\n",
              "      <td>5.458333</td>\n",
              "    </tr>\n",
              "    <tr>\n",
              "      <th>1992-03-31</th>\n",
              "      <td>5.462500</td>\n",
              "    </tr>\n",
              "    <tr>\n",
              "      <th>1992-04-30</th>\n",
              "      <td>5.466667</td>\n",
              "    </tr>\n",
              "  </tbody>\n",
              "</table>\n",
              "</div>"
            ],
            "text/plain": [
              "                   y\n",
              "ds                  \n",
              "1991-12-31  5.450000\n",
              "1992-01-31  5.454167\n",
              "1992-02-29  5.458333\n",
              "1992-03-31  5.462500\n",
              "1992-04-30  5.466667"
            ]
          },
          "metadata": {},
          "execution_count": 9
        }
      ]
    },
    {
      "cell_type": "code",
      "metadata": {
        "colab": {
          "base_uri": "https://localhost:8080/",
          "height": 452
        },
        "id": "kKBWCpEDZwJf",
        "outputId": "ef0990a1-e9e6-44e1-b8b5-4e0a64efb5c0"
      },
      "source": [
        "df[['y']]"
      ],
      "execution_count": null,
      "outputs": [
        {
          "output_type": "execute_result",
          "data": {
            "text/html": [
              "<div>\n",
              "<style scoped>\n",
              "    .dataframe tbody tr th:only-of-type {\n",
              "        vertical-align: middle;\n",
              "    }\n",
              "\n",
              "    .dataframe tbody tr th {\n",
              "        vertical-align: top;\n",
              "    }\n",
              "\n",
              "    .dataframe thead th {\n",
              "        text-align: right;\n",
              "    }\n",
              "</style>\n",
              "<table border=\"1\" class=\"dataframe\">\n",
              "  <thead>\n",
              "    <tr style=\"text-align: right;\">\n",
              "      <th></th>\n",
              "      <th>y</th>\n",
              "    </tr>\n",
              "    <tr>\n",
              "      <th>ds</th>\n",
              "      <th></th>\n",
              "    </tr>\n",
              "  </thead>\n",
              "  <tbody>\n",
              "    <tr>\n",
              "      <th>1991-12-31</th>\n",
              "      <td>5.450000</td>\n",
              "    </tr>\n",
              "    <tr>\n",
              "      <th>1992-01-31</th>\n",
              "      <td>5.454167</td>\n",
              "    </tr>\n",
              "    <tr>\n",
              "      <th>1992-02-29</th>\n",
              "      <td>5.458333</td>\n",
              "    </tr>\n",
              "    <tr>\n",
              "      <th>1992-03-31</th>\n",
              "      <td>5.462500</td>\n",
              "    </tr>\n",
              "    <tr>\n",
              "      <th>1992-04-30</th>\n",
              "      <td>5.466667</td>\n",
              "    </tr>\n",
              "    <tr>\n",
              "      <th>...</th>\n",
              "      <td>...</td>\n",
              "    </tr>\n",
              "    <tr>\n",
              "      <th>2020-07-31</th>\n",
              "      <td>7.430000</td>\n",
              "    </tr>\n",
              "    <tr>\n",
              "      <th>2020-08-31</th>\n",
              "      <td>8.350000</td>\n",
              "    </tr>\n",
              "    <tr>\n",
              "      <th>2020-09-30</th>\n",
              "      <td>6.670000</td>\n",
              "    </tr>\n",
              "    <tr>\n",
              "      <th>2020-10-31</th>\n",
              "      <td>6.980000</td>\n",
              "    </tr>\n",
              "    <tr>\n",
              "      <th>2020-11-30</th>\n",
              "      <td>6.600000</td>\n",
              "    </tr>\n",
              "  </tbody>\n",
              "</table>\n",
              "<p>348 rows × 1 columns</p>\n",
              "</div>"
            ],
            "text/plain": [
              "                   y\n",
              "ds                  \n",
              "1991-12-31  5.450000\n",
              "1992-01-31  5.454167\n",
              "1992-02-29  5.458333\n",
              "1992-03-31  5.462500\n",
              "1992-04-30  5.466667\n",
              "...              ...\n",
              "2020-07-31  7.430000\n",
              "2020-08-31  8.350000\n",
              "2020-09-30  6.670000\n",
              "2020-10-31  6.980000\n",
              "2020-11-30  6.600000\n",
              "\n",
              "[348 rows x 1 columns]"
            ]
          },
          "metadata": {},
          "execution_count": 12
        }
      ]
    },
    {
      "cell_type": "code",
      "metadata": {
        "colab": {
          "base_uri": "https://localhost:8080/",
          "height": 458
        },
        "id": "f9wW4cCdbbzU",
        "outputId": "27ddd868-93db-4cf2-83cc-afa0af73b485"
      },
      "source": [
        "test_series = df[['y']]\n",
        "fracDiff(test_series, 0.1, 1e-3)"
      ],
      "execution_count": null,
      "outputs": [
        {
          "output_type": "stream",
          "text": [
            "/usr/local/lib/python3.7/dist-packages/ipykernel_launcher.py:21: DeprecationWarning: The default dtype for empty Series will be 'object' instead of 'float64' in a future version. Specify a dtype explicitly to silence this warning.\n"
          ],
          "name": "stderr"
        },
        {
          "output_type": "execute_result",
          "data": {
            "text/html": [
              "<div>\n",
              "<style scoped>\n",
              "    .dataframe tbody tr th:only-of-type {\n",
              "        vertical-align: middle;\n",
              "    }\n",
              "\n",
              "    .dataframe tbody tr th {\n",
              "        vertical-align: top;\n",
              "    }\n",
              "\n",
              "    .dataframe thead th {\n",
              "        text-align: right;\n",
              "    }\n",
              "</style>\n",
              "<table border=\"1\" class=\"dataframe\">\n",
              "  <thead>\n",
              "    <tr style=\"text-align: right;\">\n",
              "      <th></th>\n",
              "      <th>y</th>\n",
              "    </tr>\n",
              "  </thead>\n",
              "  <tbody>\n",
              "    <tr>\n",
              "      <th>1997-01-31</th>\n",
              "      <td>3.507789</td>\n",
              "    </tr>\n",
              "    <tr>\n",
              "      <th>1997-02-28</th>\n",
              "      <td>3.506590</td>\n",
              "    </tr>\n",
              "    <tr>\n",
              "      <th>1997-03-31</th>\n",
              "      <td>3.505475</td>\n",
              "    </tr>\n",
              "    <tr>\n",
              "      <th>1997-04-30</th>\n",
              "      <td>3.504416</td>\n",
              "    </tr>\n",
              "    <tr>\n",
              "      <th>1997-05-31</th>\n",
              "      <td>3.503399</td>\n",
              "    </tr>\n",
              "    <tr>\n",
              "      <th>...</th>\n",
              "      <td>...</td>\n",
              "    </tr>\n",
              "    <tr>\n",
              "      <th>2020-07-31</th>\n",
              "      <td>3.147793</td>\n",
              "    </tr>\n",
              "    <tr>\n",
              "      <th>2020-08-31</th>\n",
              "      <td>4.655877</td>\n",
              "    </tr>\n",
              "    <tr>\n",
              "      <th>2020-09-30</th>\n",
              "      <td>3.140790</td>\n",
              "    </tr>\n",
              "    <tr>\n",
              "      <th>2020-10-31</th>\n",
              "      <td>3.723933</td>\n",
              "    </tr>\n",
              "    <tr>\n",
              "      <th>2020-11-30</th>\n",
              "      <td>3.456731</td>\n",
              "    </tr>\n",
              "  </tbody>\n",
              "</table>\n",
              "<p>287 rows × 1 columns</p>\n",
              "</div>"
            ],
            "text/plain": [
              "                   y\n",
              "1997-01-31  3.507789\n",
              "1997-02-28  3.506590\n",
              "1997-03-31  3.505475\n",
              "1997-04-30  3.504416\n",
              "1997-05-31  3.503399\n",
              "...              ...\n",
              "2020-07-31  3.147793\n",
              "2020-08-31  4.655877\n",
              "2020-09-30  3.140790\n",
              "2020-10-31  3.723933\n",
              "2020-11-30  3.456731\n",
              "\n",
              "[287 rows x 1 columns]"
            ]
          },
          "metadata": {},
          "execution_count": 20
        }
      ]
    },
    {
      "cell_type": "code",
      "metadata": {
        "colab": {
          "base_uri": "https://localhost:8080/",
          "height": 458
        },
        "id": "GfLWCrMZg2bW",
        "outputId": "ddcd14f4-b664-4c00-cb7b-2048324ebb66"
      },
      "source": [
        " \n",
        "test_series = df[['y']]\n",
        " \n",
        "df_result = fracDiff(test_series, 0.1, 1e-3)\n",
        " \n",
        "df_result"
      ],
      "execution_count": null,
      "outputs": [
        {
          "output_type": "stream",
          "text": [
            "/usr/local/lib/python3.7/dist-packages/ipykernel_launcher.py:21: DeprecationWarning: The default dtype for empty Series will be 'object' instead of 'float64' in a future version. Specify a dtype explicitly to silence this warning.\n"
          ],
          "name": "stderr"
        },
        {
          "output_type": "execute_result",
          "data": {
            "text/html": [
              "<div>\n",
              "<style scoped>\n",
              "    .dataframe tbody tr th:only-of-type {\n",
              "        vertical-align: middle;\n",
              "    }\n",
              "\n",
              "    .dataframe tbody tr th {\n",
              "        vertical-align: top;\n",
              "    }\n",
              "\n",
              "    .dataframe thead th {\n",
              "        text-align: right;\n",
              "    }\n",
              "</style>\n",
              "<table border=\"1\" class=\"dataframe\">\n",
              "  <thead>\n",
              "    <tr style=\"text-align: right;\">\n",
              "      <th></th>\n",
              "      <th>y</th>\n",
              "    </tr>\n",
              "  </thead>\n",
              "  <tbody>\n",
              "    <tr>\n",
              "      <th>1997-01-31</th>\n",
              "      <td>3.507789</td>\n",
              "    </tr>\n",
              "    <tr>\n",
              "      <th>1997-02-28</th>\n",
              "      <td>3.506590</td>\n",
              "    </tr>\n",
              "    <tr>\n",
              "      <th>1997-03-31</th>\n",
              "      <td>3.505475</td>\n",
              "    </tr>\n",
              "    <tr>\n",
              "      <th>1997-04-30</th>\n",
              "      <td>3.504416</td>\n",
              "    </tr>\n",
              "    <tr>\n",
              "      <th>1997-05-31</th>\n",
              "      <td>3.503399</td>\n",
              "    </tr>\n",
              "    <tr>\n",
              "      <th>...</th>\n",
              "      <td>...</td>\n",
              "    </tr>\n",
              "    <tr>\n",
              "      <th>2020-07-31</th>\n",
              "      <td>3.147793</td>\n",
              "    </tr>\n",
              "    <tr>\n",
              "      <th>2020-08-31</th>\n",
              "      <td>4.655877</td>\n",
              "    </tr>\n",
              "    <tr>\n",
              "      <th>2020-09-30</th>\n",
              "      <td>3.140790</td>\n",
              "    </tr>\n",
              "    <tr>\n",
              "      <th>2020-10-31</th>\n",
              "      <td>3.723933</td>\n",
              "    </tr>\n",
              "    <tr>\n",
              "      <th>2020-11-30</th>\n",
              "      <td>3.456731</td>\n",
              "    </tr>\n",
              "  </tbody>\n",
              "</table>\n",
              "<p>287 rows × 1 columns</p>\n",
              "</div>"
            ],
            "text/plain": [
              "                   y\n",
              "1997-01-31  3.507789\n",
              "1997-02-28  3.506590\n",
              "1997-03-31  3.505475\n",
              "1997-04-30  3.504416\n",
              "1997-05-31  3.503399\n",
              "...              ...\n",
              "2020-07-31  3.147793\n",
              "2020-08-31  4.655877\n",
              "2020-09-30  3.140790\n",
              "2020-10-31  3.723933\n",
              "2020-11-30  3.456731\n",
              "\n",
              "[287 rows x 1 columns]"
            ]
          },
          "metadata": {},
          "execution_count": 21
        }
      ]
    },
    {
      "cell_type": "code",
      "metadata": {
        "colab": {
          "base_uri": "https://localhost:8080/",
          "height": 211
        },
        "id": "w3ly2qa6hVZ6",
        "outputId": "f8677b08-05c0-459d-a628-6c16795e6a73"
      },
      "source": [
        "fig, ax1 = plt.subplots()\n",
        " \n",
        "color = 'tab:red'\n",
        "ax1.set_xlabel('Date')\n",
        "ax1.set_ylabel('Fractional Differenced ', color=color)\n",
        "ax1.plot( df_result['y'], color=color)\n",
        " \n",
        "ax2 = ax1.twinx()\n",
        " \n",
        "color = 'tab:blue'\n",
        "ax2.set_ylabel('Unemployment Rate', color = color)\n",
        "ax2.plot(df['y'], color=color)\n",
        " \n",
        "plt.show()"
      ],
      "execution_count": null,
      "outputs": [
        {
          "output_type": "display_data",
          "data": {
            "image/png": "[encoded data removed]",
            "text/plain": [
              "<Figure size 432x288 with 2 Axes>"
            ]
          },
          "metadata": {
            "needs_background": "light"
          }
        }
      ]
    },
    {
      "cell_type": "code",
      "metadata": {
        "id": "GSRDvPOAkl6c"
      },
      "source": [
        ""
      ],
      "execution_count": null,
      "outputs": []
    }
  ]
}