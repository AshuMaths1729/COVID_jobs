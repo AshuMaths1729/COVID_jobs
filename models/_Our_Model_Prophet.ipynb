{
 "cells": [
  {
   "cell_type": "markdown",
   "source": [
    "**COVID Jobs Paper**\n",
    "\n",
    "By:\n",
    "1. Ashutosh Agrahari\n",
    "2. Ankur Veer\n",
    "3. Pawan Singh\n",
    "4. Anshuman Singh"
   ],
   "metadata": {
    "id": "Z6RKBqFrnpCs"
   }
  },
  {
   "cell_type": "markdown",
   "source": [
    "\n",
    "1. Make two data - 1) 1991-2019 and 2) 1991- Jul 2020\n",
    "2. Train model on two data. Let trained models be M1 and M2.\n",
    "3. Make a dataframe with one column 'ds' with values from Jun 2019 to Jul 2020.\n",
    "4. Generate predictions from the two trained models on this dataframe. Let them be P1 and P2.\n",
    "5. The actual values for Jun 2019 to Jul 2020 are with us. Let it be C.\n",
    "6. Combine the preds of two models as, \n",
    "    aP1 + bP2\n",
    "7. Minimize the difference between actual and predicted values.\n",
    "8. Minimize the expression, aP1 + bP2 - C, and find values of a and b using least squares approximation.\n",
    "9. Use the calculated a and b to combine predictions on further timelines, from Aug 2020 onwards.\n",
    "\n",
    "\n",
    "---\n",
    "\n"
   ],
   "metadata": {
    "id": "3jfhClK0Ifys"
   }
  },
  {
   "cell_type": "code",
   "execution_count": 1,
   "source": [
    "import pandas as pd\r\n",
    "import datetime\r\n",
    "from fbprophet import Prophet\r\n",
    "import os\r\n",
    "os.chdir('/content/drive/MyDrive/COVID_Jobs')"
   ],
   "outputs": [],
   "metadata": {
    "id": "AaXrs9EJCkQl"
   }
  },
  {
   "cell_type": "code",
   "execution_count": 2,
   "source": [
    "# Make future dataframe\r\n",
    "\"\"\"\r\n",
    "fd = ['30-06-2019','31-07-2019','31-08-2019','30-09-2019','31-10-2019',\\\r\n",
    "  '30-11-2019','31-12-2019','31-01-2020','29-02-2020','31-03-2020','30-04-2020',\\\r\n",
    "    '31-05-2020','30-06-2020','31-07-2020','31-08-2020','30-09-2020','31-10-2020','30-11-2020']\r\n",
    "\"\"\"\r\n"
   ],
   "outputs": [
    {
     "output_type": "execute_result",
     "data": {
      "text/plain": [
       "\"\\nfd = ['30-06-2019','31-07-2019','31-08-2019','30-09-2019','31-10-2019',  '30-11-2019','31-12-2019','31-01-2020','29-02-2020','31-03-2020','30-04-2020',    '31-05-2020','30-06-2020','31-07-2020','31-08-2020','30-09-2020','31-10-2020','30-11-2020']\\n\""
      ],
      "application/vnd.google.colaboratory.intrinsic+json": {
       "type": "string"
      }
     },
     "metadata": {
      "tags": []
     },
     "execution_count": 2
    }
   ],
   "metadata": {
    "colab": {
     "base_uri": "https://localhost:8080/",
     "height": 52
    },
    "id": "dKxVckPAUkJb",
    "outputId": "6bf924af-355b-4ca9-81d0-31ab39d415de"
   }
  },
  {
   "cell_type": "markdown",
   "source": [
    "**Model 2** without COVID pattern"
   ],
   "metadata": {
    "id": "NaKRjJixnAvj"
   }
  },
  {
   "cell_type": "code",
   "execution_count": 3,
   "source": [
    "### Model 2\r\n",
    "new_df2 = pd.read_csv('Data/Monthly_Unemployment_1991-2020.csv')\r\n",
    "new_df2['ds'] = pd.to_datetime(new_df2['ds'], yearfirst=True)\r\n",
    "\r\n",
    "# Train M2\r\n",
    "m2 = Prophet(seasonality_mode='additive')\r\n",
    "m2.fit(new_df2)\r\n",
    "\r\n",
    "future = m2.make_future_dataframe(periods=0, freq='M')\r\n",
    "\r\n",
    "# Preds 2\r\n",
    "P2 = m2.predict(future)[['ds', 'yhat']]\r\n"
   ],
   "outputs": [
    {
     "output_type": "stream",
     "name": "stderr",
     "text": [
      "INFO:numexpr.utils:NumExpr defaulting to 2 threads.\n",
      "INFO:fbprophet:Disabling weekly seasonality. Run prophet with weekly_seasonality=True to override this.\n",
      "INFO:fbprophet:Disabling daily seasonality. Run prophet with daily_seasonality=True to override this.\n"
     ]
    }
   ],
   "metadata": {
    "colab": {
     "base_uri": "https://localhost:8080/"
    },
    "id": "hHTV9FGSC4IZ",
    "outputId": "64149545-823b-400e-d1ee-1845b3e88145"
   }
  },
  {
   "cell_type": "code",
   "execution_count": 4,
   "source": [
    "future"
   ],
   "outputs": [
    {
     "output_type": "execute_result",
     "data": {
      "text/plain": [
       "            ds\n",
       "0   1991-12-31\n",
       "1   1992-01-31\n",
       "2   1992-02-29\n",
       "3   1992-03-31\n",
       "4   1992-04-30\n",
       "..         ...\n",
       "343 2020-07-31\n",
       "344 2020-08-31\n",
       "345 2020-09-30\n",
       "346 2020-10-31\n",
       "347 2020-11-30\n",
       "\n",
       "[348 rows x 1 columns]"
      ],
      "text/html": [
       "<div>\n",
       "<style scoped>\n",
       "    .dataframe tbody tr th:only-of-type {\n",
       "        vertical-align: middle;\n",
       "    }\n",
       "\n",
       "    .dataframe tbody tr th {\n",
       "        vertical-align: top;\n",
       "    }\n",
       "\n",
       "    .dataframe thead th {\n",
       "        text-align: right;\n",
       "    }\n",
       "</style>\n",
       "<table border=\"1\" class=\"dataframe\">\n",
       "  <thead>\n",
       "    <tr style=\"text-align: right;\">\n",
       "      <th></th>\n",
       "      <th>ds</th>\n",
       "    </tr>\n",
       "  </thead>\n",
       "  <tbody>\n",
       "    <tr>\n",
       "      <th>0</th>\n",
       "      <td>1991-12-31</td>\n",
       "    </tr>\n",
       "    <tr>\n",
       "      <th>1</th>\n",
       "      <td>1992-01-31</td>\n",
       "    </tr>\n",
       "    <tr>\n",
       "      <th>2</th>\n",
       "      <td>1992-02-29</td>\n",
       "    </tr>\n",
       "    <tr>\n",
       "      <th>3</th>\n",
       "      <td>1992-03-31</td>\n",
       "    </tr>\n",
       "    <tr>\n",
       "      <th>4</th>\n",
       "      <td>1992-04-30</td>\n",
       "    </tr>\n",
       "    <tr>\n",
       "      <th>...</th>\n",
       "      <td>...</td>\n",
       "    </tr>\n",
       "    <tr>\n",
       "      <th>343</th>\n",
       "      <td>2020-07-31</td>\n",
       "    </tr>\n",
       "    <tr>\n",
       "      <th>344</th>\n",
       "      <td>2020-08-31</td>\n",
       "    </tr>\n",
       "    <tr>\n",
       "      <th>345</th>\n",
       "      <td>2020-09-30</td>\n",
       "    </tr>\n",
       "    <tr>\n",
       "      <th>346</th>\n",
       "      <td>2020-10-31</td>\n",
       "    </tr>\n",
       "    <tr>\n",
       "      <th>347</th>\n",
       "      <td>2020-11-30</td>\n",
       "    </tr>\n",
       "  </tbody>\n",
       "</table>\n",
       "<p>348 rows × 1 columns</p>\n",
       "</div>"
      ]
     },
     "metadata": {
      "tags": []
     },
     "execution_count": 4
    }
   ],
   "metadata": {
    "colab": {
     "base_uri": "https://localhost:8080/",
     "height": 402
    },
    "id": "SWgVYnAkVONJ",
    "outputId": "15ace0c1-4f94-43cc-9d4e-0ddc67e345bc"
   }
  },
  {
   "cell_type": "markdown",
   "source": [
    "**Model 1** with COVID pattern"
   ],
   "metadata": {
    "id": "4bTIBUw0nGCp"
   }
  },
  {
   "cell_type": "code",
   "execution_count": 5,
   "source": [
    "### Model 1\r\n",
    "d1 = pd.read_excel('Data/Unemployment_Rate_India_1991-2019.xlsx')\r\n",
    "df1 = d1.rename(columns = {\"Year\": \"ds\", \"Unemployment Rate\":\"y\"})\r\n",
    "df1['ds'] = pd.to_datetime(df1['ds'], yearfirst=True)\r\n",
    "\r\n",
    "# interpolate data to get it for months\r\n",
    "new_df1 = df1.set_index('ds').resample('M').interpolate(method='linear', axis=0, limit=None, inplace=False,\\\r\n",
    "         limit_direction='forward', limit_area=None, downcast=None).reset_index()\r\n",
    "\r\n",
    "# Train M1\r\n",
    "m1 = Prophet(seasonality_mode='multiplicative')\r\n",
    "m1.fit(new_df1)\r\n",
    "\r\n",
    "# Preds 1\r\n",
    "P1 = m1.predict(future)[['ds', 'yhat']]"
   ],
   "outputs": [
    {
     "output_type": "stream",
     "name": "stderr",
     "text": [
      "INFO:fbprophet:Disabling weekly seasonality. Run prophet with weekly_seasonality=True to override this.\n",
      "INFO:fbprophet:Disabling daily seasonality. Run prophet with daily_seasonality=True to override this.\n"
     ]
    }
   ],
   "metadata": {
    "colab": {
     "base_uri": "https://localhost:8080/"
    },
    "id": "9zNTZzEMC7Tc",
    "outputId": "b150d9c7-f5aa-4961-bce5-bf49842a7e53"
   }
  },
  {
   "cell_type": "code",
   "execution_count": 6,
   "source": [
    "p, q = new_df1.shape[0], new_df2.shape[0]\r\n",
    "p_ratio = p/(p+q)\r\n",
    "q_ratio = q/(p + q)\r\n",
    "p_ratio, q_ratio"
   ],
   "outputs": [
    {
     "output_type": "execute_result",
     "data": {
      "text/plain": [
       "(0.491970802919708, 0.5080291970802919)"
      ]
     },
     "metadata": {
      "tags": []
     },
     "execution_count": 6
    }
   ],
   "metadata": {
    "colab": {
     "base_uri": "https://localhost:8080/"
    },
    "id": "TJ8r7NBs34wW",
    "outputId": "8ba0bd3c-c69f-4a4c-b6bf-e26483082bbd"
   }
  },
  {
   "cell_type": "code",
   "execution_count": 7,
   "source": [
    "### Original Values (C)\r\n",
    "C = new_df2['y']"
   ],
   "outputs": [],
   "metadata": {
    "id": "nj_SJ3kxDBVM"
   }
  },
  {
   "cell_type": "code",
   "execution_count": 8,
   "source": [
    "# Import modules\r\n",
    "import sys\r\n",
    "import numpy as np\r\n",
    "import matplotlib.pyplot as plt\r\n",
    "%matplotlib inline"
   ],
   "outputs": [],
   "metadata": {
    "id": "oDIXMBLLDeO-"
   }
  },
  {
   "cell_type": "markdown",
   "source": [
    "**Least Squares Approximation**\n",
    "\n",
    "to estimate a and b, so as to combine results from models trained on both patterns."
   ],
   "metadata": {
    "id": "sYS4sfzgnTxS"
   }
  },
  {
   "cell_type": "code",
   "execution_count": 9,
   "source": [
    "## Now implementing Least Squares Approximation\r\n",
    "from scipy.optimize import leastsq\r\n",
    "\r\n",
    "xdata = np.transpose(np.array([P1['yhat'],P2['yhat']]))\r\n",
    "ydata = np.transpose(np.array(C))"
   ],
   "outputs": [],
   "metadata": {
    "id": "1fTKt3KJaqPW"
   }
  },
  {
   "cell_type": "code",
   "execution_count": 10,
   "source": [
    "def func(params, xdata, ydata):\r\n",
    "    return (ydata - np.dot(xdata, params))"
   ],
   "outputs": [],
   "metadata": {
    "id": "pcgROvRUleMS"
   }
  },
  {
   "cell_type": "code",
   "execution_count": 11,
   "source": [
    "params = leastsq(func, [0,0], args=(xdata, ydata))\r\n",
    "a, b = params[0]\r\n",
    "a_, b_ = a*p_ratio, b*q_ratio\r\n",
    "a_1, b_1 = a*q_ratio, b*p_ratio\r\n",
    "params1, params2, params3 = (a, b) , (a_, b_), (a_1, b_1)\r\n",
    "params1, params2, params3"
   ],
   "outputs": [
    {
     "output_type": "execute_result",
     "data": {
      "text/plain": [
       "((-0.11130116629378912, 1.1055010136369792),\n",
       " (-0.05475692414745538, 0.5616267923294433),\n",
       " (-0.05654424214633374, 0.5438742213075357))"
      ]
     },
     "metadata": {
      "tags": []
     },
     "execution_count": 11
    }
   ],
   "metadata": {
    "colab": {
     "base_uri": "https://localhost:8080/"
    },
    "id": "E51ullKGl0Lx",
    "outputId": "7ee40048-301e-4b78-d20d-9a1384edfe9f"
   }
  },
  {
   "cell_type": "markdown",
   "source": [
    "so now **a = -13.344894120968593** and **b = 10.07420211311749**, as calculated using least squares approximation\n",
    "\n",
    "Now we can use equation, aP1 + bP2 to combine predictions from both models.\n",
    "\n",
    "\n",
    "---\n",
    "\n",
    "\n",
    "\n",
    "---\n",
    "\n"
   ],
   "metadata": {
    "id": "q3kBtdR_nlrw"
   }
  },
  {
   "cell_type": "code",
   "execution_count": 12,
   "source": [
    "# Combined Predictions as per LSA and params1\r\n",
    "res = np.dot(xdata, params1)\r\n",
    "res_df = pd.DataFrame(res, columns=['yhat'])\r\n",
    "LSA_preds1 = pd.concat([future, res_df], axis=1)\r\n",
    "LSA_preds1"
   ],
   "outputs": [
    {
     "output_type": "execute_result",
     "data": {
      "text/plain": [
       "            ds      yhat\n",
       "0   1991-12-31  5.330541\n",
       "1   1992-01-31  5.688630\n",
       "2   1992-02-29  5.426846\n",
       "3   1992-03-31  5.318257\n",
       "4   1992-04-30  6.440369\n",
       "..         ...       ...\n",
       "343 2020-07-31  7.765284\n",
       "344 2020-08-31  8.160171\n",
       "345 2020-09-30  8.177875\n",
       "346 2020-10-31  8.223710\n",
       "347 2020-11-30  8.238524\n",
       "\n",
       "[348 rows x 2 columns]"
      ],
      "text/html": [
       "<div>\n",
       "<style scoped>\n",
       "    .dataframe tbody tr th:only-of-type {\n",
       "        vertical-align: middle;\n",
       "    }\n",
       "\n",
       "    .dataframe tbody tr th {\n",
       "        vertical-align: top;\n",
       "    }\n",
       "\n",
       "    .dataframe thead th {\n",
       "        text-align: right;\n",
       "    }\n",
       "</style>\n",
       "<table border=\"1\" class=\"dataframe\">\n",
       "  <thead>\n",
       "    <tr style=\"text-align: right;\">\n",
       "      <th></th>\n",
       "      <th>ds</th>\n",
       "      <th>yhat</th>\n",
       "    </tr>\n",
       "  </thead>\n",
       "  <tbody>\n",
       "    <tr>\n",
       "      <th>0</th>\n",
       "      <td>1991-12-31</td>\n",
       "      <td>5.330541</td>\n",
       "    </tr>\n",
       "    <tr>\n",
       "      <th>1</th>\n",
       "      <td>1992-01-31</td>\n",
       "      <td>5.688630</td>\n",
       "    </tr>\n",
       "    <tr>\n",
       "      <th>2</th>\n",
       "      <td>1992-02-29</td>\n",
       "      <td>5.426846</td>\n",
       "    </tr>\n",
       "    <tr>\n",
       "      <th>3</th>\n",
       "      <td>1992-03-31</td>\n",
       "      <td>5.318257</td>\n",
       "    </tr>\n",
       "    <tr>\n",
       "      <th>4</th>\n",
       "      <td>1992-04-30</td>\n",
       "      <td>6.440369</td>\n",
       "    </tr>\n",
       "    <tr>\n",
       "      <th>...</th>\n",
       "      <td>...</td>\n",
       "      <td>...</td>\n",
       "    </tr>\n",
       "    <tr>\n",
       "      <th>343</th>\n",
       "      <td>2020-07-31</td>\n",
       "      <td>7.765284</td>\n",
       "    </tr>\n",
       "    <tr>\n",
       "      <th>344</th>\n",
       "      <td>2020-08-31</td>\n",
       "      <td>8.160171</td>\n",
       "    </tr>\n",
       "    <tr>\n",
       "      <th>345</th>\n",
       "      <td>2020-09-30</td>\n",
       "      <td>8.177875</td>\n",
       "    </tr>\n",
       "    <tr>\n",
       "      <th>346</th>\n",
       "      <td>2020-10-31</td>\n",
       "      <td>8.223710</td>\n",
       "    </tr>\n",
       "    <tr>\n",
       "      <th>347</th>\n",
       "      <td>2020-11-30</td>\n",
       "      <td>8.238524</td>\n",
       "    </tr>\n",
       "  </tbody>\n",
       "</table>\n",
       "<p>348 rows × 2 columns</p>\n",
       "</div>"
      ]
     },
     "metadata": {
      "tags": []
     },
     "execution_count": 12
    }
   ],
   "metadata": {
    "colab": {
     "base_uri": "https://localhost:8080/",
     "height": 402
    },
    "id": "jy3A4J0hqdRh",
    "outputId": "03a44355-babb-49a5-8537-4016754fbde1"
   }
  },
  {
   "cell_type": "code",
   "execution_count": 13,
   "source": [
    "# Combined Predictions as per LSA and params2\r\n",
    "res = np.dot(xdata, params2)\r\n",
    "res_df = pd.DataFrame(res, columns=['yhat'])\r\n",
    "LSA_preds2 = pd.concat([future, res_df], axis=1)\r\n",
    "LSA_preds2"
   ],
   "outputs": [
    {
     "output_type": "execute_result",
     "data": {
      "text/plain": [
       "            ds      yhat\n",
       "0   1991-12-31  2.717809\n",
       "1   1992-01-31  2.899733\n",
       "2   1992-02-29  2.766749\n",
       "3   1992-03-31  2.711588\n",
       "4   1992-04-30  3.281660\n",
       "..         ...       ...\n",
       "343 2020-07-31  3.954406\n",
       "344 2020-08-31  4.155012\n",
       "345 2020-09-30  4.163998\n",
       "346 2020-10-31  4.187275\n",
       "347 2020-11-30  4.194792\n",
       "\n",
       "[348 rows x 2 columns]"
      ],
      "text/html": [
       "<div>\n",
       "<style scoped>\n",
       "    .dataframe tbody tr th:only-of-type {\n",
       "        vertical-align: middle;\n",
       "    }\n",
       "\n",
       "    .dataframe tbody tr th {\n",
       "        vertical-align: top;\n",
       "    }\n",
       "\n",
       "    .dataframe thead th {\n",
       "        text-align: right;\n",
       "    }\n",
       "</style>\n",
       "<table border=\"1\" class=\"dataframe\">\n",
       "  <thead>\n",
       "    <tr style=\"text-align: right;\">\n",
       "      <th></th>\n",
       "      <th>ds</th>\n",
       "      <th>yhat</th>\n",
       "    </tr>\n",
       "  </thead>\n",
       "  <tbody>\n",
       "    <tr>\n",
       "      <th>0</th>\n",
       "      <td>1991-12-31</td>\n",
       "      <td>2.717809</td>\n",
       "    </tr>\n",
       "    <tr>\n",
       "      <th>1</th>\n",
       "      <td>1992-01-31</td>\n",
       "      <td>2.899733</td>\n",
       "    </tr>\n",
       "    <tr>\n",
       "      <th>2</th>\n",
       "      <td>1992-02-29</td>\n",
       "      <td>2.766749</td>\n",
       "    </tr>\n",
       "    <tr>\n",
       "      <th>3</th>\n",
       "      <td>1992-03-31</td>\n",
       "      <td>2.711588</td>\n",
       "    </tr>\n",
       "    <tr>\n",
       "      <th>4</th>\n",
       "      <td>1992-04-30</td>\n",
       "      <td>3.281660</td>\n",
       "    </tr>\n",
       "    <tr>\n",
       "      <th>...</th>\n",
       "      <td>...</td>\n",
       "      <td>...</td>\n",
       "    </tr>\n",
       "    <tr>\n",
       "      <th>343</th>\n",
       "      <td>2020-07-31</td>\n",
       "      <td>3.954406</td>\n",
       "    </tr>\n",
       "    <tr>\n",
       "      <th>344</th>\n",
       "      <td>2020-08-31</td>\n",
       "      <td>4.155012</td>\n",
       "    </tr>\n",
       "    <tr>\n",
       "      <th>345</th>\n",
       "      <td>2020-09-30</td>\n",
       "      <td>4.163998</td>\n",
       "    </tr>\n",
       "    <tr>\n",
       "      <th>346</th>\n",
       "      <td>2020-10-31</td>\n",
       "      <td>4.187275</td>\n",
       "    </tr>\n",
       "    <tr>\n",
       "      <th>347</th>\n",
       "      <td>2020-11-30</td>\n",
       "      <td>4.194792</td>\n",
       "    </tr>\n",
       "  </tbody>\n",
       "</table>\n",
       "<p>348 rows × 2 columns</p>\n",
       "</div>"
      ]
     },
     "metadata": {
      "tags": []
     },
     "execution_count": 13
    }
   ],
   "metadata": {
    "colab": {
     "base_uri": "https://localhost:8080/",
     "height": 402
    },
    "id": "PevYH3p55EeG",
    "outputId": "388b1e4c-81e9-4718-f717-f3b543a8e8cb"
   }
  },
  {
   "cell_type": "code",
   "execution_count": 14,
   "source": [
    "# Combined Predictions as per LSA and params2\r\n",
    "res = np.dot(xdata, params3)\r\n",
    "res_df = pd.DataFrame(res, columns=['yhat'])\r\n",
    "LSA_preds3 = pd.concat([future, res_df], axis=1)\r\n",
    "LSA_preds3"
   ],
   "outputs": [
    {
     "output_type": "execute_result",
     "data": {
      "text/plain": [
       "            ds      yhat\n",
       "0   1991-12-31  2.612732\n",
       "1   1992-01-31  2.788897\n",
       "2   1992-02-29  2.660097\n",
       "3   1992-03-31  2.606668\n",
       "4   1992-04-30  3.158709\n",
       "..         ...       ...\n",
       "343 2020-07-31  3.810878\n",
       "344 2020-08-31  4.005159\n",
       "345 2020-09-30  4.013877\n",
       "346 2020-10-31  4.036435\n",
       "347 2020-11-30  4.043731\n",
       "\n",
       "[348 rows x 2 columns]"
      ],
      "text/html": [
       "<div>\n",
       "<style scoped>\n",
       "    .dataframe tbody tr th:only-of-type {\n",
       "        vertical-align: middle;\n",
       "    }\n",
       "\n",
       "    .dataframe tbody tr th {\n",
       "        vertical-align: top;\n",
       "    }\n",
       "\n",
       "    .dataframe thead th {\n",
       "        text-align: right;\n",
       "    }\n",
       "</style>\n",
       "<table border=\"1\" class=\"dataframe\">\n",
       "  <thead>\n",
       "    <tr style=\"text-align: right;\">\n",
       "      <th></th>\n",
       "      <th>ds</th>\n",
       "      <th>yhat</th>\n",
       "    </tr>\n",
       "  </thead>\n",
       "  <tbody>\n",
       "    <tr>\n",
       "      <th>0</th>\n",
       "      <td>1991-12-31</td>\n",
       "      <td>2.612732</td>\n",
       "    </tr>\n",
       "    <tr>\n",
       "      <th>1</th>\n",
       "      <td>1992-01-31</td>\n",
       "      <td>2.788897</td>\n",
       "    </tr>\n",
       "    <tr>\n",
       "      <th>2</th>\n",
       "      <td>1992-02-29</td>\n",
       "      <td>2.660097</td>\n",
       "    </tr>\n",
       "    <tr>\n",
       "      <th>3</th>\n",
       "      <td>1992-03-31</td>\n",
       "      <td>2.606668</td>\n",
       "    </tr>\n",
       "    <tr>\n",
       "      <th>4</th>\n",
       "      <td>1992-04-30</td>\n",
       "      <td>3.158709</td>\n",
       "    </tr>\n",
       "    <tr>\n",
       "      <th>...</th>\n",
       "      <td>...</td>\n",
       "      <td>...</td>\n",
       "    </tr>\n",
       "    <tr>\n",
       "      <th>343</th>\n",
       "      <td>2020-07-31</td>\n",
       "      <td>3.810878</td>\n",
       "    </tr>\n",
       "    <tr>\n",
       "      <th>344</th>\n",
       "      <td>2020-08-31</td>\n",
       "      <td>4.005159</td>\n",
       "    </tr>\n",
       "    <tr>\n",
       "      <th>345</th>\n",
       "      <td>2020-09-30</td>\n",
       "      <td>4.013877</td>\n",
       "    </tr>\n",
       "    <tr>\n",
       "      <th>346</th>\n",
       "      <td>2020-10-31</td>\n",
       "      <td>4.036435</td>\n",
       "    </tr>\n",
       "    <tr>\n",
       "      <th>347</th>\n",
       "      <td>2020-11-30</td>\n",
       "      <td>4.043731</td>\n",
       "    </tr>\n",
       "  </tbody>\n",
       "</table>\n",
       "<p>348 rows × 2 columns</p>\n",
       "</div>"
      ]
     },
     "metadata": {
      "tags": []
     },
     "execution_count": 14
    }
   ],
   "metadata": {
    "colab": {
     "base_uri": "https://localhost:8080/",
     "height": 402
    },
    "id": "kxa2xNK3Ti4r",
    "outputId": "e8beb3f2-9015-4083-b991-f7b04ec5b4b4"
   }
  },
  {
   "cell_type": "code",
   "execution_count": 15,
   "source": [
    "dfC = pd.DataFrame(ydata, columns=['Actuals'])\r\n",
    "comp_Res1 = pd.concat([LSA_preds1, dfC], axis=1)\r\n",
    "comp_Res2 = pd.concat([LSA_preds2, dfC], axis=1)\r\n",
    "comp_Res3 = pd.concat([LSA_preds3, dfC], axis=1)"
   ],
   "outputs": [],
   "metadata": {
    "id": "yOyoAqSqmZsv"
   }
  },
  {
   "cell_type": "code",
   "execution_count": 16,
   "source": [
    "plt.plot(comp_Res1['ds'], comp_Res1['yhat'], '-r')\r\n",
    "plt.plot(comp_Res1['ds'], comp_Res1['Actuals'], '-k', linestyle='dashed')\r\n",
    "plt.xticks(rotation=75)\r\n",
    "plt.legend(['LSA Preds', 'Actuals'])\r\n",
    "plt.title('Comparison of results of LSA predictions and params1')"
   ],
   "outputs": [
    {
     "output_type": "execute_result",
     "data": {
      "text/plain": [
       "Text(0.5, 1.0, 'Comparison of results of LSA predictions and params1')"
      ]
     },
     "metadata": {
      "tags": []
     },
     "execution_count": 16
    },
    {
     "output_type": "display_data",
     "data": {
      "text/plain": [
       "<Figure size 432x288 with 1 Axes>"
      ],
      "image/png": "[encoded data removed]"
     },
     "metadata": {
      "needs_background": "light",
      "tags": []
     }
    }
   ],
   "metadata": {
    "colab": {
     "base_uri": "https://localhost:8080/",
     "height": 316
    },
    "id": "xN-WBWeipvZQ",
    "outputId": "cdfdb295-f987-4b90-8984-c2da646fcbd5"
   }
  },
  {
   "cell_type": "code",
   "execution_count": 17,
   "source": [
    "plt.plot(comp_Res2['ds'], comp_Res2['yhat'], '-r')\r\n",
    "plt.plot(comp_Res2['ds'], comp_Res2['Actuals'], '-k', linestyle='dashed')\r\n",
    "plt.xticks(rotation=75)\r\n",
    "plt.legend(['LSA Preds', 'Actuals'])\r\n",
    "plt.title('Comparison of results of LSA predictions and params2')"
   ],
   "outputs": [
    {
     "output_type": "execute_result",
     "data": {
      "text/plain": [
       "Text(0.5, 1.0, 'Comparison of results of LSA predictions and params2')"
      ]
     },
     "metadata": {
      "tags": []
     },
     "execution_count": 17
    },
    {
     "output_type": "display_data",
     "data": {
      "text/plain": [
       "<Figure size 432x288 with 1 Axes>"
      ],
      "image/png": "[encoded data removed]"
     },
     "metadata": {
      "needs_background": "light",
      "tags": []
     }
    }
   ],
   "metadata": {
    "colab": {
     "base_uri": "https://localhost:8080/",
     "height": 316
    },
    "id": "_yrwdulO5haQ",
    "outputId": "9e052196-e78d-47cd-baba-12c9bb04a486"
   }
  },
  {
   "cell_type": "code",
   "execution_count": 18,
   "source": [
    "plt.plot(comp_Res3['ds'], comp_Res3['yhat'], '-r')\r\n",
    "plt.plot(comp_Res3['ds'], comp_Res3['Actuals'], '-k', linestyle='dashed')\r\n",
    "plt.xticks(rotation=75)\r\n",
    "plt.legend(['LSA Preds', 'Actuals'])\r\n",
    "plt.title('Comparison of results of LSA predictions and params3')"
   ],
   "outputs": [
    {
     "output_type": "execute_result",
     "data": {
      "text/plain": [
       "Text(0.5, 1.0, 'Comparison of results of LSA predictions and params3')"
      ]
     },
     "metadata": {
      "tags": []
     },
     "execution_count": 18
    },
    {
     "output_type": "display_data",
     "data": {
      "text/plain": [
       "<Figure size 432x288 with 1 Axes>"
      ],
      "image/png": "[encoded data removed]"
     },
     "metadata": {
      "needs_background": "light",
      "tags": []
     }
    }
   ],
   "metadata": {
    "colab": {
     "base_uri": "https://localhost:8080/",
     "height": 316
    },
    "id": "fYVtx_7wTrpY",
    "outputId": "407cf4ca-23a5-4e37-ebe0-dc4d961bd541"
   }
  },
  {
   "cell_type": "markdown",
   "source": [
    "**Predicting on future timelines**\n",
    "\n",
    "\n",
    "---\n",
    "\n"
   ],
   "metadata": {
    "id": "C988Daq1s1Vm"
   }
  },
  {
   "cell_type": "code",
   "execution_count": 19,
   "source": [
    "# Make future dataframe\r\n",
    "n_mths = 13\r\n",
    "future_timeline = m2.make_future_dataframe(periods=n_mths, freq='M', include_history=False)\r\n",
    "\r\n",
    "p1 = m1.predict(future_timeline)[['ds', 'yhat']]\r\n",
    "p2 = m2.predict(future_timeline)[['ds', 'yhat']]\r\n",
    "\r\n",
    "x = np.transpose(np.array([p1['yhat'],p2['yhat']]))\r\n",
    "res = np.dot(x, params1)\r\n",
    "final_preds1 = pd.DataFrame(res, columns=['yhat'])\r\n",
    "final_preds1 = pd.concat([future_timeline, final_preds1], axis=1)\r\n",
    "print(final_preds1)\r\n",
    "\r\n",
    "plt.plot(final_preds1['ds'], final_preds1['yhat'], '.-k', linestyle='dashed')\r\n",
    "plt.xticks(rotation=75)\r\n",
    "plt.title('Predictions for next %d months from Dec\\'20 v1'%(n_mths))"
   ],
   "outputs": [
    {
     "output_type": "execute_result",
     "data": {
      "text/plain": [
       "Text(0.5, 1.0, \"Predictions for next 13 months from Dec'20 v1\")"
      ]
     },
     "metadata": {
      "tags": []
     },
     "execution_count": 19
    },
    {
     "output_type": "display_data",
     "data": {
      "text/plain": [
       "<Figure size 432x288 with 1 Axes>"
      ],
      "image/png": "[encoded data removed]"
     },
     "metadata": {
      "needs_background": "light",
      "tags": []
     }
    }
   ],
   "metadata": {
    "colab": {
     "base_uri": "https://localhost:8080/",
     "height": 331
    },
    "id": "eKvrDan1rgFO",
    "outputId": "4d79ba27-ff86-422b-9865-a60667e9a9bc"
   }
  },
  {
   "cell_type": "code",
   "execution_count": 20,
   "source": [
    "# Make future dataframe\r\n",
    "n_mths = 13\r\n",
    "future_timeline = m2.make_future_dataframe(periods=n_mths, freq='M', include_history=False)\r\n",
    "\r\n",
    "p1 = m1.predict(future_timeline)[['ds', 'yhat']]\r\n",
    "p2 = m2.predict(future_timeline)[['ds', 'yhat']]\r\n",
    "\r\n",
    "x = np.transpose(np.array([p1['yhat'],p2['yhat']]))\r\n",
    "res = np.dot(x, params2)\r\n",
    "final_preds2 = pd.DataFrame(res, columns=['yhat'])\r\n",
    "final_preds2 = pd.concat([future_timeline, final_preds2], axis=1)\r\n",
    "print(final_preds2)\r\n",
    "\r\n",
    "plt.plot(final_preds2['ds'], final_preds2['yhat'], '.-k', linestyle='dashed')\r\n",
    "plt.xticks(rotation=75)\r\n",
    "plt.title('Predictions for next %d months from Dec\\'20 v2'%(n_mths))"
   ],
   "outputs": [
    {
     "output_type": "stream",
     "name": "stdout",
     "text": [
      "           ds      yhat\n",
      "0  2020-12-31  4.238638\n",
      "1  2021-01-31  4.148815\n",
      "2  2021-02-28  4.242774\n",
      "3  2021-03-31  4.248942\n",
      "4  2021-04-30  4.632475\n",
      "5  2021-05-31  4.648727\n",
      "6  2021-06-30  4.334426\n",
      "7  2021-07-31  4.247103\n",
      "8  2021-08-31  4.375362\n",
      "9  2021-09-30  4.344875\n",
      "10 2021-10-31  4.363874\n",
      "11 2021-11-30  4.347955\n",
      "12 2021-12-31  4.398026\n"
     ]
    },
    {
     "output_type": "execute_result",
     "data": {
      "text/plain": [
       "Text(0.5, 1.0, \"Predictions for next 13 months from Dec'20 v2\")"
      ]
     },
     "metadata": {
      "tags": []
     },
     "execution_count": 20
    },
    {
     "output_type": "display_data",
     "data": {
      "text/plain": [
       "<Figure size 432x288 with 1 Axes>"
      ],
      "image/png": "[encoded data removed]"
     },
     "metadata": {
      "needs_background": "light",
      "tags": []
     }
    }
   ],
   "metadata": {
    "colab": {
     "base_uri": "https://localhost:8080/",
     "height": 566
    },
    "id": "kkN4668luMqY",
    "outputId": "311fd4e1-1c22-4556-c62c-014acd7672fe"
   }
  },
  {
   "cell_type": "code",
   "execution_count": 21,
   "source": [
    "# Make future dataframe\r\n",
    "n_mths = 13\r\n",
    "future_timeline = m2.make_future_dataframe(periods=n_mths, freq='M', include_history=False)\r\n",
    "\r\n",
    "p1 = m1.predict(future_timeline)[['ds', 'yhat']]\r\n",
    "p2 = m2.predict(future_timeline)[['ds', 'yhat']]\r\n",
    "\r\n",
    "x = np.transpose(np.array([p1['yhat'],p2['yhat']]))\r\n",
    "res = np.dot(x, params3)\r\n",
    "final_preds3 = pd.DataFrame(res, columns=['yhat'])\r\n",
    "final_preds3 = pd.concat([future_timeline, final_preds3], axis=1)\r\n",
    "print(final_preds3)\r\n",
    "\r\n",
    "plt.plot(final_preds3['ds'], final_preds3['yhat'], '.-k', linestyle='dashed')\r\n",
    "plt.xticks(rotation=75)\r\n",
    "plt.title('Predictions for next %d months from Dec\\'20 v3'%(n_mths))\r\n"
   ],
   "outputs": [
    {
     "output_type": "stream",
     "name": "stdout",
     "text": [
      "           ds      yhat\n",
      "0  2020-12-31  4.086212\n",
      "1  2021-01-31  3.999250\n",
      "2  2021-02-28  4.090251\n",
      "3  2021-03-31  4.096246\n",
      "4  2021-04-30  4.467678\n",
      "5  2021-05-31  4.483437\n",
      "6  2021-06-30  4.179089\n",
      "7  2021-07-31  4.094544\n",
      "8  2021-08-31  4.218766\n",
      "9  2021-09-30  4.189260\n",
      "10 2021-10-31  4.207674\n",
      "11 2021-11-30  4.192274\n",
      "12 2021-12-31  4.240778\n"
     ]
    },
    {
     "output_type": "execute_result",
     "data": {
      "text/plain": [
       "Text(0.5, 1.0, \"Predictions for next 13 months from Dec'20 v3\")"
      ]
     },
     "metadata": {
      "tags": []
     },
     "execution_count": 21
    },
    {
     "output_type": "display_data",
     "data": {
      "text/plain": [
       "<Figure size 432x288 with 1 Axes>"
      ],
      "image/png": "[encoded data removed]"
     },
     "metadata": {
      "needs_background": "light",
      "tags": []
     }
    }
   ],
   "metadata": {
    "colab": {
     "base_uri": "https://localhost:8080/",
     "height": 566
    },
    "id": "abWyOute58Li",
    "outputId": "b3878ef9-f132-4e48-f05f-c2b47895b8c6"
   }
  },
  {
   "cell_type": "code",
   "execution_count": 21,
   "source": [],
   "outputs": [],
   "metadata": {
    "id": "bL1K6jzQVjSD"
   }
  }
 ],
 "metadata": {
  "colab": {
   "collapsed_sections": [],
   "name": "Prophet_fullPipeline.ipynb",
   "provenance": []
  },
  "kernelspec": {
   "display_name": "Python 3",
   "language": "python",
   "name": "python3"
  },
  "language_info": {
   "codemirror_mode": {
    "name": "ipython",
    "version": 3
   },
   "file_extension": ".py",
   "mimetype": "text/x-python",
   "name": "python",
   "nbconvert_exporter": "python",
   "pygments_lexer": "ipython3",
   "version": "3.8.3"
  }
 },
 "nbformat": 4,
 "nbformat_minor": 1
}