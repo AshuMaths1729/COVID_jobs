{
  "nbformat": 4,
  "nbformat_minor": 0,
  "metadata": {
    "colab": {
      "name": "ARIMA.ipynb",
      "provenance": [],
      "collapsed_sections": [],
      "include_colab_link": true
    },
    "kernelspec": {
      "name": "python3",
      "display_name": "Python 3"
    },
    "accelerator": "GPU"
  },
  "cells": [
    {
      "cell_type": "markdown",
      "metadata": {
        "id": "view-in-github",
        "colab_type": "text"
      },
      "source": [
        "<a href=\"https://colab.research.google.com/github/AshuMaths1729/COVID_jobs/blob/main/ARIMA.ipynb\" target=\"_parent\"><img src=\"https://colab.research.google.com/assets/colab-badge.svg\" alt=\"Open In Colab\"/></a>"
      ]
    },
    {
      "cell_type": "code",
      "metadata": {
        "id": "hdk3JwMvre71"
      },
      "source": [
        "import pandas as pd\n",
        "import numpy as np\n",
        "import matplotlib.pyplot as plt\n",
        "%matplotlib inline"
      ],
      "execution_count": null,
      "outputs": []
    },
    {
      "cell_type": "code",
      "metadata": {
        "id": "c1ya-eczrDCT"
      },
      "source": [
        "# from google.colab import drive\n",
        "# drive.mount('/content/drive')"
      ],
      "execution_count": null,
      "outputs": []
    },
    {
      "cell_type": "code",
      "metadata": {
        "id": "3czSN__wrwHc"
      },
      "source": [
        "df=pd.read_csv('Monthly_Unemployment_1991-2020.csv')"
      ],
      "execution_count": null,
      "outputs": []
    },
    {
      "cell_type": "code",
      "metadata": {
        "id": "Ff2rQadur-U_",
        "colab": {
          "base_uri": "https://localhost:8080/",
          "height": 204
        },
        "outputId": "63120af4-ef68-406e-d2c3-1c6ffd9369c9"
      },
      "source": [
        "df.tail()"
      ],
      "execution_count": null,
      "outputs": [
        {
          "output_type": "execute_result",
          "data": {
            "text/html": [
              "<div>\n",
              "<style scoped>\n",
              "    .dataframe tbody tr th:only-of-type {\n",
              "        vertical-align: middle;\n",
              "    }\n",
              "\n",
              "    .dataframe tbody tr th {\n",
              "        vertical-align: top;\n",
              "    }\n",
              "\n",
              "    .dataframe thead th {\n",
              "        text-align: right;\n",
              "    }\n",
              "</style>\n",
              "<table border=\"1\" class=\"dataframe\">\n",
              "  <thead>\n",
              "    <tr style=\"text-align: right;\">\n",
              "      <th></th>\n",
              "      <th>ds</th>\n",
              "      <th>y</th>\n",
              "    </tr>\n",
              "  </thead>\n",
              "  <tbody>\n",
              "    <tr>\n",
              "      <th>339</th>\n",
              "      <td>31-03-2020</td>\n",
              "      <td>8.75</td>\n",
              "    </tr>\n",
              "    <tr>\n",
              "      <th>340</th>\n",
              "      <td>30-04-2020</td>\n",
              "      <td>23.52</td>\n",
              "    </tr>\n",
              "    <tr>\n",
              "      <th>341</th>\n",
              "      <td>31-05-2020</td>\n",
              "      <td>23.48</td>\n",
              "    </tr>\n",
              "    <tr>\n",
              "      <th>342</th>\n",
              "      <td>30-06-2020</td>\n",
              "      <td>10.99</td>\n",
              "    </tr>\n",
              "    <tr>\n",
              "      <th>343</th>\n",
              "      <td>31-07-2020</td>\n",
              "      <td>7.43</td>\n",
              "    </tr>\n",
              "  </tbody>\n",
              "</table>\n",
              "</div>"
            ],
            "text/plain": [
              "             ds      y\n",
              "339  31-03-2020   8.75\n",
              "340  30-04-2020  23.52\n",
              "341  31-05-2020  23.48\n",
              "342  30-06-2020  10.99\n",
              "343  31-07-2020   7.43"
            ]
          },
          "metadata": {},
          "execution_count": 110
        }
      ]
    },
    {
      "cell_type": "code",
      "metadata": {
        "id": "W9X7u1lYsAxz"
      },
      "source": [
        "df['ds']=pd.to_datetime(df['ds'])"
      ],
      "execution_count": null,
      "outputs": []
    },
    {
      "cell_type": "code",
      "metadata": {
        "id": "-kKYCCy-sMSg"
      },
      "source": [
        "df.set_index('ds',inplace=True)"
      ],
      "execution_count": null,
      "outputs": []
    },
    {
      "cell_type": "code",
      "metadata": {
        "id": "hIblPER6sSMI",
        "colab": {
          "base_uri": "https://localhost:8080/",
          "height": 235
        },
        "outputId": "f34c806f-afa7-4a0f-8924-ca353bd87abd"
      },
      "source": [
        "df.head()"
      ],
      "execution_count": null,
      "outputs": [
        {
          "output_type": "execute_result",
          "data": {
            "text/html": [
              "<div>\n",
              "<style scoped>\n",
              "    .dataframe tbody tr th:only-of-type {\n",
              "        vertical-align: middle;\n",
              "    }\n",
              "\n",
              "    .dataframe tbody tr th {\n",
              "        vertical-align: top;\n",
              "    }\n",
              "\n",
              "    .dataframe thead th {\n",
              "        text-align: right;\n",
              "    }\n",
              "</style>\n",
              "<table border=\"1\" class=\"dataframe\">\n",
              "  <thead>\n",
              "    <tr style=\"text-align: right;\">\n",
              "      <th></th>\n",
              "      <th>y</th>\n",
              "    </tr>\n",
              "    <tr>\n",
              "      <th>ds</th>\n",
              "      <th></th>\n",
              "    </tr>\n",
              "  </thead>\n",
              "  <tbody>\n",
              "    <tr>\n",
              "      <th>1991-12-31</th>\n",
              "      <td>5.450000</td>\n",
              "    </tr>\n",
              "    <tr>\n",
              "      <th>1992-01-31</th>\n",
              "      <td>5.454167</td>\n",
              "    </tr>\n",
              "    <tr>\n",
              "      <th>1992-02-29</th>\n",
              "      <td>5.458333</td>\n",
              "    </tr>\n",
              "    <tr>\n",
              "      <th>1992-03-31</th>\n",
              "      <td>5.462500</td>\n",
              "    </tr>\n",
              "    <tr>\n",
              "      <th>1992-04-30</th>\n",
              "      <td>5.466667</td>\n",
              "    </tr>\n",
              "  </tbody>\n",
              "</table>\n",
              "</div>"
            ],
            "text/plain": [
              "                   y\n",
              "ds                  \n",
              "1991-12-31  5.450000\n",
              "1992-01-31  5.454167\n",
              "1992-02-29  5.458333\n",
              "1992-03-31  5.462500\n",
              "1992-04-30  5.466667"
            ]
          },
          "metadata": {},
          "execution_count": 113
        }
      ]
    },
    {
      "cell_type": "markdown",
      "metadata": {
        "id": "DJNY6sblsa_I"
      },
      "source": [
        "Visualize the data"
      ]
    },
    {
      "cell_type": "code",
      "metadata": {
        "id": "6gWYxkF4sUDd",
        "colab": {
          "base_uri": "https://localhost:8080/",
          "height": 279
        },
        "outputId": "f2013bbd-dc93-48cc-9a63-f82abeefdef3"
      },
      "source": [
        "df.plot()\n",
        "plt.savefig(\"filename.pdf\")"
      ],
      "execution_count": null,
      "outputs": [
        {
          "output_type": "display_data",
          "data": {
            "image/png": "[encoded data removed]",
            "text/plain": [
              "<Figure size 432x288 with 1 Axes>"
            ]
          },
          "metadata": {
            "tags": [],
            "needs_background": "light"
          }
        }
      ]
    },
    {
      "cell_type": "code",
      "metadata": {
        "id": "Lmp1dydrsfO-",
        "colab": {
          "base_uri": "https://localhost:8080/"
        },
        "outputId": "457ed2fb-0c2e-453a-8bf7-35466a4b1141"
      },
      "source": [
        "### Testing For Stationarity\n",
        "\n",
        "from statsmodels.tsa.stattools import adfuller"
      ],
      "execution_count": null,
      "outputs": [
        {
          "output_type": "stream",
          "text": [
            "/usr/local/lib/python3.7/dist-packages/statsmodels/tools/_testing.py:19: FutureWarning: pandas.util.testing is deprecated. Use the functions in the public API at pandas.testing instead.\n",
            "  import pandas.util.testing as tm\n"
          ],
          "name": "stderr"
        }
      ]
    },
    {
      "cell_type": "code",
      "metadata": {
        "id": "VMtbVyZPslYh"
      },
      "source": [
        "test_result=adfuller(df['y'])"
      ],
      "execution_count": null,
      "outputs": []
    },
    {
      "cell_type": "code",
      "metadata": {
        "colab": {
          "base_uri": "https://localhost:8080/"
        },
        "id": "lozh9zcA1BWG",
        "outputId": "cf9cc206-c5d5-4bfe-e7d1-5e17b563ec83"
      },
      "source": [
        "test_result"
      ],
      "execution_count": null,
      "outputs": [
        {
          "output_type": "execute_result",
          "data": {
            "text/plain": [
              "(1.6140751023700315,\n",
              " 0.9978991940624297,\n",
              " 13,\n",
              " 330,\n",
              " {'1%': -3.4503224123605194,\n",
              "  '10%': -2.571457612488522,\n",
              "  '5%': -2.870338478726661},\n",
              " 820.0793583093202)"
            ]
          },
          "metadata": {},
          "execution_count": 10
        }
      ]
    },
    {
      "cell_type": "code",
      "metadata": {
        "id": "W_XncNmVsrix"
      },
      "source": [
        "#Ho: It is not stationary\n",
        "#H1: It is stationary\n",
        "\n",
        "def adfuller_test(y):\n",
        "    result=adfuller(y)\n",
        "    labels = ['ADF Test Statistic','p-value','#Lags Used','Number of Observations Used']\n",
        "    for value,label in zip(result,labels):\n",
        "        print(label+' : '+str(value) )\n",
        "    if result[1] <= 0.05:\n",
        "        print(\"strong evidence against the null hypothesis(Ho), reject the null hypothesis. Data has no unit root and is stationary\")\n",
        "    else:\n",
        "        print(\"weak evidence against null hypothesis, time series has a unit root, indicating it is non-stationary \")"
      ],
      "execution_count": null,
      "outputs": []
    },
    {
      "cell_type": "code",
      "metadata": {
        "id": "Bc_SytSZs-_L",
        "colab": {
          "base_uri": "https://localhost:8080/"
        },
        "outputId": "4f5b6490-cabe-49f2-c60a-8235164e3331"
      },
      "source": [
        "adfuller_test(df['y'])"
      ],
      "execution_count": null,
      "outputs": [
        {
          "output_type": "stream",
          "text": [
            "ADF Test Statistic : 1.6140751023700315\n",
            "p-value : 0.9978991940624297\n",
            "#Lags Used : 13\n",
            "Number of Observations Used : 330\n",
            "weak evidence against null hypothesis, time series has a unit root, indicating it is non-stationary \n"
          ],
          "name": "stdout"
        }
      ]
    },
    {
      "cell_type": "markdown",
      "metadata": {
        "id": "qTUeER9ItM6S"
      },
      "source": [
        "Differencing to make data stationary for arima"
      ]
    },
    {
      "cell_type": "code",
      "metadata": {
        "id": "ns44sYAItDmp"
      },
      "source": [
        "df['y First Difference'] = df['y'] - df['y'].shift(1)"
      ],
      "execution_count": null,
      "outputs": []
    },
    {
      "cell_type": "code",
      "metadata": {
        "id": "EKWsDftItVyr",
        "colab": {
          "base_uri": "https://localhost:8080/"
        },
        "outputId": "1699e557-c664-451d-ad26-55fe00e47735"
      },
      "source": [
        "df['y'].shift(1)"
      ],
      "execution_count": null,
      "outputs": [
        {
          "output_type": "execute_result",
          "data": {
            "text/plain": [
              "ds\n",
              "1991-12-31          NaN\n",
              "1992-01-31     5.450000\n",
              "1992-02-29     5.454167\n",
              "1992-03-31     5.458333\n",
              "1992-04-30     5.462500\n",
              "                ...    \n",
              "2020-03-31     7.760000\n",
              "2020-04-30     8.750000\n",
              "2020-05-31    23.520000\n",
              "2020-06-30    23.480000\n",
              "2020-07-31    10.990000\n",
              "Name: y, Length: 344, dtype: float64"
            ]
          },
          "metadata": {},
          "execution_count": 14
        }
      ]
    },
    {
      "cell_type": "code",
      "metadata": {
        "id": "orSQKZ5vtbOL"
      },
      "source": [
        "df['Seasonal First Difference']=df['y']-df['y'].shift(12)"
      ],
      "execution_count": null,
      "outputs": []
    },
    {
      "cell_type": "code",
      "metadata": {
        "id": "403lRAVGtjem",
        "colab": {
          "base_uri": "https://localhost:8080/",
          "height": 545
        },
        "outputId": "02aad322-6d40-42f8-e6cc-cf6b07024498"
      },
      "source": [
        "df.head(15)"
      ],
      "execution_count": null,
      "outputs": [
        {
          "output_type": "execute_result",
          "data": {
            "text/html": [
              "<div>\n",
              "<style scoped>\n",
              "    .dataframe tbody tr th:only-of-type {\n",
              "        vertical-align: middle;\n",
              "    }\n",
              "\n",
              "    .dataframe tbody tr th {\n",
              "        vertical-align: top;\n",
              "    }\n",
              "\n",
              "    .dataframe thead th {\n",
              "        text-align: right;\n",
              "    }\n",
              "</style>\n",
              "<table border=\"1\" class=\"dataframe\">\n",
              "  <thead>\n",
              "    <tr style=\"text-align: right;\">\n",
              "      <th></th>\n",
              "      <th>y</th>\n",
              "      <th>y First Difference</th>\n",
              "      <th>Seasonal First Difference</th>\n",
              "    </tr>\n",
              "    <tr>\n",
              "      <th>ds</th>\n",
              "      <th></th>\n",
              "      <th></th>\n",
              "      <th></th>\n",
              "    </tr>\n",
              "  </thead>\n",
              "  <tbody>\n",
              "    <tr>\n",
              "      <th>1991-12-31</th>\n",
              "      <td>5.450000</td>\n",
              "      <td>NaN</td>\n",
              "      <td>NaN</td>\n",
              "    </tr>\n",
              "    <tr>\n",
              "      <th>1992-01-31</th>\n",
              "      <td>5.454167</td>\n",
              "      <td>0.004167</td>\n",
              "      <td>NaN</td>\n",
              "    </tr>\n",
              "    <tr>\n",
              "      <th>1992-02-29</th>\n",
              "      <td>5.458333</td>\n",
              "      <td>0.004167</td>\n",
              "      <td>NaN</td>\n",
              "    </tr>\n",
              "    <tr>\n",
              "      <th>1992-03-31</th>\n",
              "      <td>5.462500</td>\n",
              "      <td>0.004167</td>\n",
              "      <td>NaN</td>\n",
              "    </tr>\n",
              "    <tr>\n",
              "      <th>1992-04-30</th>\n",
              "      <td>5.466667</td>\n",
              "      <td>0.004167</td>\n",
              "      <td>NaN</td>\n",
              "    </tr>\n",
              "    <tr>\n",
              "      <th>1992-05-31</th>\n",
              "      <td>5.470833</td>\n",
              "      <td>0.004167</td>\n",
              "      <td>NaN</td>\n",
              "    </tr>\n",
              "    <tr>\n",
              "      <th>1992-06-30</th>\n",
              "      <td>5.475000</td>\n",
              "      <td>0.004167</td>\n",
              "      <td>NaN</td>\n",
              "    </tr>\n",
              "    <tr>\n",
              "      <th>1992-07-31</th>\n",
              "      <td>5.479167</td>\n",
              "      <td>0.004167</td>\n",
              "      <td>NaN</td>\n",
              "    </tr>\n",
              "    <tr>\n",
              "      <th>1992-08-31</th>\n",
              "      <td>5.483333</td>\n",
              "      <td>0.004167</td>\n",
              "      <td>NaN</td>\n",
              "    </tr>\n",
              "    <tr>\n",
              "      <th>1992-09-30</th>\n",
              "      <td>5.487500</td>\n",
              "      <td>0.004167</td>\n",
              "      <td>NaN</td>\n",
              "    </tr>\n",
              "    <tr>\n",
              "      <th>1992-10-31</th>\n",
              "      <td>5.491667</td>\n",
              "      <td>0.004167</td>\n",
              "      <td>NaN</td>\n",
              "    </tr>\n",
              "    <tr>\n",
              "      <th>1992-11-30</th>\n",
              "      <td>5.495833</td>\n",
              "      <td>0.004167</td>\n",
              "      <td>NaN</td>\n",
              "    </tr>\n",
              "    <tr>\n",
              "      <th>1992-12-31</th>\n",
              "      <td>5.500000</td>\n",
              "      <td>0.004167</td>\n",
              "      <td>0.050</td>\n",
              "    </tr>\n",
              "    <tr>\n",
              "      <th>1993-01-31</th>\n",
              "      <td>5.509167</td>\n",
              "      <td>0.009167</td>\n",
              "      <td>0.055</td>\n",
              "    </tr>\n",
              "    <tr>\n",
              "      <th>1993-02-28</th>\n",
              "      <td>5.518333</td>\n",
              "      <td>0.009167</td>\n",
              "      <td>0.060</td>\n",
              "    </tr>\n",
              "  </tbody>\n",
              "</table>\n",
              "</div>"
            ],
            "text/plain": [
              "                   y  y First Difference  Seasonal First Difference\n",
              "ds                                                                 \n",
              "1991-12-31  5.450000                 NaN                        NaN\n",
              "1992-01-31  5.454167            0.004167                        NaN\n",
              "1992-02-29  5.458333            0.004167                        NaN\n",
              "1992-03-31  5.462500            0.004167                        NaN\n",
              "1992-04-30  5.466667            0.004167                        NaN\n",
              "1992-05-31  5.470833            0.004167                        NaN\n",
              "1992-06-30  5.475000            0.004167                        NaN\n",
              "1992-07-31  5.479167            0.004167                        NaN\n",
              "1992-08-31  5.483333            0.004167                        NaN\n",
              "1992-09-30  5.487500            0.004167                        NaN\n",
              "1992-10-31  5.491667            0.004167                        NaN\n",
              "1992-11-30  5.495833            0.004167                        NaN\n",
              "1992-12-31  5.500000            0.004167                      0.050\n",
              "1993-01-31  5.509167            0.009167                      0.055\n",
              "1993-02-28  5.518333            0.009167                      0.060"
            ]
          },
          "metadata": {},
          "execution_count": 129
        }
      ]
    },
    {
      "cell_type": "code",
      "metadata": {
        "id": "piaNiClTtm76",
        "colab": {
          "base_uri": "https://localhost:8080/"
        },
        "outputId": "d4fca4d5-775c-498f-87e2-4f0b696126a4"
      },
      "source": [
        "## Again test dickey fuller test\n",
        "adfuller_test(df['Seasonal First Difference'].dropna())"
      ],
      "execution_count": null,
      "outputs": [
        {
          "output_type": "stream",
          "text": [
            "ADF Test Statistic : -0.44064376895079777\n",
            "p-value : 0.9030883684623376\n",
            "#Lags Used : 15\n",
            "Number of Observations Used : 316\n",
            "weak evidence against null hypothesis, time series has a unit root, indicating it is non-stationary \n"
          ],
          "name": "stdout"
        }
      ]
    },
    {
      "cell_type": "code",
      "metadata": {
        "id": "btblfP7Et0RN"
      },
      "source": [
        "df['Seasonal second Difference'] = df['Seasonal First Difference'] - df['Seasonal First Difference'].shift(12)"
      ],
      "execution_count": null,
      "outputs": []
    },
    {
      "cell_type": "code",
      "metadata": {
        "id": "Vo2p51o2u1Ft",
        "colab": {
          "base_uri": "https://localhost:8080/"
        },
        "outputId": "7b8e8df1-3c2d-486f-a1fa-aeb4f751760c"
      },
      "source": [
        "## Again test dickey fuller test\n",
        "adfuller_test(df['Seasonal second Difference'].dropna())"
      ],
      "execution_count": null,
      "outputs": [
        {
          "output_type": "stream",
          "text": [
            "ADF Test Statistic : -4.078858573963981\n",
            "p-value : 0.0010494597514596376\n",
            "#Lags Used : 17\n",
            "Number of Observations Used : 302\n",
            "strong evidence against the null hypothesis(Ho), reject the null hypothesis. Data has no unit root and is stationary\n"
          ],
          "name": "stdout"
        }
      ]
    },
    {
      "cell_type": "code",
      "metadata": {
        "id": "oG1isAW5vLwq",
        "colab": {
          "base_uri": "https://localhost:8080/",
          "height": 279
        },
        "outputId": "33dcf2bb-1e67-44e1-e89a-b4b7f85a9388"
      },
      "source": [
        "df['Seasonal second Difference'].plot()\n",
        "plt.savefig(\"filename1.pdf\")"
      ],
      "execution_count": null,
      "outputs": [
        {
          "output_type": "display_data",
          "data": {
            "image/png": "[encoded data removed]",
            "text/plain": [
              "<Figure size 432x288 with 1 Axes>"
            ]
          },
          "metadata": {
            "needs_background": "light"
          }
        }
      ]
    },
    {
      "cell_type": "markdown",
      "metadata": {
        "id": "apXkuoravWZW"
      },
      "source": [
        "Auto Regressive Model"
      ]
    },
    {
      "cell_type": "code",
      "metadata": {
        "id": "vuAYg2ZVvTFn",
        "colab": {
          "base_uri": "https://localhost:8080/",
          "height": 212
        },
        "outputId": "c4471058-0b8a-4f09-93a9-2ff1f0363082"
      },
      "source": [
        "from pandas.plotting import autocorrelation_plot4\n",
        "autocorrelation_plot(df['y'])\n",
        "plt.show()\n",
        "plt.savefig(\"filename2.pdf\")"
      ],
      "execution_count": null,
      "outputs": [
        {
          "output_type": "error",
          "ename": "NameError",
          "evalue": "ignored",
          "traceback": [
            "\u001b[0;31m---------------------------------------------------------------------------\u001b[0m",
            "\u001b[0;31mNameError\u001b[0m                                 Traceback (most recent call last)",
            "\u001b[0;32m<ipython-input-1-4f3076621d69>\u001b[0m in \u001b[0;36m<module>\u001b[0;34m()\u001b[0m\n\u001b[1;32m      1\u001b[0m \u001b[0;32mfrom\u001b[0m \u001b[0mpandas\u001b[0m\u001b[0;34m.\u001b[0m\u001b[0mplotting\u001b[0m \u001b[0;32mimport\u001b[0m \u001b[0mautocorrelation_plot\u001b[0m\u001b[0;34m\u001b[0m\u001b[0;34m\u001b[0m\u001b[0m\n\u001b[0;32m----> 2\u001b[0;31m \u001b[0mautocorrelation_plot\u001b[0m\u001b[0;34m(\u001b[0m\u001b[0mdf\u001b[0m\u001b[0;34m[\u001b[0m\u001b[0;34m'y'\u001b[0m\u001b[0;34m]\u001b[0m\u001b[0;34m)\u001b[0m\u001b[0;34m\u001b[0m\u001b[0;34m\u001b[0m\u001b[0m\n\u001b[0m\u001b[1;32m      3\u001b[0m \u001b[0mplt\u001b[0m\u001b[0;34m.\u001b[0m\u001b[0mshow\u001b[0m\u001b[0;34m(\u001b[0m\u001b[0;34m)\u001b[0m\u001b[0;34m\u001b[0m\u001b[0;34m\u001b[0m\u001b[0m\n\u001b[1;32m      4\u001b[0m \u001b[0mplt\u001b[0m\u001b[0;34m.\u001b[0m\u001b[0msavefig\u001b[0m\u001b[0;34m(\u001b[0m\u001b[0;34m\"filename2.pdf\"\u001b[0m\u001b[0;34m)\u001b[0m\u001b[0;34m\u001b[0m\u001b[0;34m\u001b[0m\u001b[0m\n",
            "\u001b[0;31mNameError\u001b[0m: name 'df' is not defined"
          ]
        }
      ]
    },
    {
      "cell_type": "code",
      "metadata": {
        "id": "aPjCsEkmvce6"
      },
      "source": [
        "from statsmodels.graphics.tsaplots import plot_acf,plot_pacf"
      ],
      "execution_count": null,
      "outputs": []
    },
    {
      "cell_type": "code",
      "metadata": {
        "id": "EJVqETUOwCQj"
      },
      "source": [
        "# For non-seasonal data\n",
        "#p=1, d=1, q=0 or 1\n",
        "from statsmodels.tsa.arima_model import ARIMA"
      ],
      "execution_count": null,
      "outputs": []
    },
    {
      "cell_type": "code",
      "metadata": {
        "id": "kSpbjF49wekc",
        "colab": {
          "base_uri": "https://localhost:8080/"
        },
        "outputId": "26610c93-fda7-47c6-bd44-3849b90e5995"
      },
      "source": [
        "model=ARIMA(df['y'],order=(1,1,1))\n",
        "model_fit=model.fit()"
      ],
      "execution_count": null,
      "outputs": [
        {
          "output_type": "stream",
          "text": [
            "/usr/local/lib/python3.7/dist-packages/statsmodels/tsa/base/tsa_model.py:165: ValueWarning: No frequency information was provided, so inferred frequency M will be used.\n",
            "  % freq, ValueWarning)\n",
            "/usr/local/lib/python3.7/dist-packages/statsmodels/tsa/base/tsa_model.py:165: ValueWarning: No frequency information was provided, so inferred frequency M will be used.\n",
            "  % freq, ValueWarning)\n"
          ],
          "name": "stderr"
        }
      ]
    },
    {
      "cell_type": "code",
      "metadata": {
        "id": "ApUd_bMawkqN",
        "colab": {
          "base_uri": "https://localhost:8080/",
          "height": 351
        },
        "outputId": "2aefbd72-1672-458b-9cb4-cbc78b1f8499"
      },
      "source": [
        "model_fit.summary()"
      ],
      "execution_count": null,
      "outputs": [
        {
          "output_type": "execute_result",
          "data": {
            "text/html": [
              "<table class=\"simpletable\">\n",
              "<caption>ARIMA Model Results</caption>\n",
              "<tr>\n",
              "  <th>Dep. Variable:</th>        <td>D.y</td>       <th>  No. Observations:  </th>    <td>343</td>  \n",
              "</tr>\n",
              "<tr>\n",
              "  <th>Model:</th>          <td>ARIMA(1, 1, 1)</td>  <th>  Log Likelihood     </th> <td>-502.805</td>\n",
              "</tr>\n",
              "<tr>\n",
              "  <th>Method:</th>             <td>css-mle</td>     <th>  S.D. of innovations</th>   <td>1.048</td> \n",
              "</tr>\n",
              "<tr>\n",
              "  <th>Date:</th>          <td>Mon, 23 Aug 2021</td> <th>  AIC                </th> <td>1013.611</td>\n",
              "</tr>\n",
              "<tr>\n",
              "  <th>Time:</th>              <td>14:00:58</td>     <th>  BIC                </th> <td>1028.962</td>\n",
              "</tr>\n",
              "<tr>\n",
              "  <th>Sample:</th>           <td>01-31-1992</td>    <th>  HQIC               </th> <td>1019.725</td>\n",
              "</tr>\n",
              "<tr>\n",
              "  <th></th>                 <td>- 07-31-2020</td>   <th>                     </th>     <td> </td>   \n",
              "</tr>\n",
              "</table>\n",
              "<table class=\"simpletable\">\n",
              "<tr>\n",
              "      <td></td>         <th>coef</th>     <th>std err</th>      <th>z</th>      <th>P>|z|</th>  <th>[0.025</th>    <th>0.975]</th>  \n",
              "</tr>\n",
              "<tr>\n",
              "  <th>const</th>     <td>    0.0063</td> <td>    0.070</td> <td>    0.089</td> <td> 0.929</td> <td>   -0.131</td> <td>    0.143</td>\n",
              "</tr>\n",
              "<tr>\n",
              "  <th>ar.L1.D.y</th> <td>   -0.3027</td> <td>    0.090</td> <td>   -3.378</td> <td> 0.001</td> <td>   -0.478</td> <td>   -0.127</td>\n",
              "</tr>\n",
              "<tr>\n",
              "  <th>ma.L1.D.y</th> <td>    0.6118</td> <td>    0.066</td> <td>    9.320</td> <td> 0.000</td> <td>    0.483</td> <td>    0.741</td>\n",
              "</tr>\n",
              "</table>\n",
              "<table class=\"simpletable\">\n",
              "<caption>Roots</caption>\n",
              "<tr>\n",
              "    <td></td>   <th>            Real</th>  <th>         Imaginary</th> <th>         Modulus</th>  <th>        Frequency</th>\n",
              "</tr>\n",
              "<tr>\n",
              "  <th>AR.1</th> <td>          -3.3040</td> <td>          +0.0000j</td> <td>           3.3040</td> <td>           0.5000</td>\n",
              "</tr>\n",
              "<tr>\n",
              "  <th>MA.1</th> <td>          -1.6344</td> <td>          +0.0000j</td> <td>           1.6344</td> <td>           0.5000</td>\n",
              "</tr>\n",
              "</table>"
            ],
            "text/plain": [
              "<class 'statsmodels.iolib.summary.Summary'>\n",
              "\"\"\"\n",
              "                             ARIMA Model Results                              \n",
              "==============================================================================\n",
              "Dep. Variable:                    D.y   No. Observations:                  343\n",
              "Model:                 ARIMA(1, 1, 1)   Log Likelihood                -502.805\n",
              "Method:                       css-mle   S.D. of innovations              1.048\n",
              "Date:                Mon, 23 Aug 2021   AIC                           1013.611\n",
              "Time:                        14:00:58   BIC                           1028.962\n",
              "Sample:                    01-31-1992   HQIC                          1019.725\n",
              "                         - 07-31-2020                                         \n",
              "==============================================================================\n",
              "                 coef    std err          z      P>|z|      [0.025      0.975]\n",
              "------------------------------------------------------------------------------\n",
              "const          0.0063      0.070      0.089      0.929      -0.131       0.143\n",
              "ar.L1.D.y     -0.3027      0.090     -3.378      0.001      -0.478      -0.127\n",
              "ma.L1.D.y      0.6118      0.066      9.320      0.000       0.483       0.741\n",
              "                                    Roots                                    \n",
              "=============================================================================\n",
              "                  Real          Imaginary           Modulus         Frequency\n",
              "-----------------------------------------------------------------------------\n",
              "AR.1           -3.3040           +0.0000j            3.3040            0.5000\n",
              "MA.1           -1.6344           +0.0000j            1.6344            0.5000\n",
              "-----------------------------------------------------------------------------\n",
              "\"\"\""
            ]
          },
          "metadata": {},
          "execution_count": 59
        }
      ]
    },
    {
      "cell_type": "code",
      "metadata": {
        "colab": {
          "base_uri": "https://localhost:8080/"
        },
        "id": "g_6ceos_UTwx",
        "outputId": "5d4372af-6980-4af9-81d2-759167c26248"
      },
      "source": [
        "len(df)"
      ],
      "execution_count": null,
      "outputs": [
        {
          "output_type": "execute_result",
          "data": {
            "text/plain": [
              "344"
            ]
          },
          "metadata": {},
          "execution_count": 63
        }
      ]
    },
    {
      "cell_type": "code",
      "metadata": {
        "id": "pzRw8uy2woIQ",
        "colab": {
          "base_uri": "https://localhost:8080/",
          "height": 279
        },
        "outputId": "b614698a-c265-4a73-e3a1-ea64335148a6"
      },
      "source": [
        "df['forecast']=model_fit.predict(start=90,end=344,dynamic=True)\n",
        "df[['y','forecast']].plot(figsize=(6,4))\n",
        "plt.savefig(\"filename3.pdf\")"
      ],
      "execution_count": null,
      "outputs": [
        {
          "output_type": "display_data",
          "data": {
            "image/png": "[encoded data removed]",
            "text/plain": [
              "<Figure size 432x288 with 1 Axes>"
            ]
          },
          "metadata": {
            "needs_background": "light"
          }
        }
      ]
    },
    {
      "cell_type": "code",
      "metadata": {
        "id": "0OX2CuB8pgah",
        "colab": {
          "base_uri": "https://localhost:8080/",
          "height": 452
        },
        "outputId": "fef14ba6-7814-4617-fcc2-d3664a53067d"
      },
      "source": [
        "df[-12:]"
      ],
      "execution_count": null,
      "outputs": [
        {
          "output_type": "execute_result",
          "data": {
            "text/html": [
              "<div>\n",
              "<style scoped>\n",
              "    .dataframe tbody tr th:only-of-type {\n",
              "        vertical-align: middle;\n",
              "    }\n",
              "\n",
              "    .dataframe tbody tr th {\n",
              "        vertical-align: top;\n",
              "    }\n",
              "\n",
              "    .dataframe thead th {\n",
              "        text-align: right;\n",
              "    }\n",
              "</style>\n",
              "<table border=\"1\" class=\"dataframe\">\n",
              "  <thead>\n",
              "    <tr style=\"text-align: right;\">\n",
              "      <th></th>\n",
              "      <th>y</th>\n",
              "      <th>forecast</th>\n",
              "    </tr>\n",
              "    <tr>\n",
              "      <th>ds</th>\n",
              "      <th></th>\n",
              "      <th></th>\n",
              "    </tr>\n",
              "  </thead>\n",
              "  <tbody>\n",
              "    <tr>\n",
              "      <th>2019-08-31</th>\n",
              "      <td>8.19</td>\n",
              "      <td>6.365202</td>\n",
              "    </tr>\n",
              "    <tr>\n",
              "      <th>2019-09-30</th>\n",
              "      <td>7.16</td>\n",
              "      <td>6.370015</td>\n",
              "    </tr>\n",
              "    <tr>\n",
              "      <th>2019-10-31</th>\n",
              "      <td>8.10</td>\n",
              "      <td>6.374821</td>\n",
              "    </tr>\n",
              "    <tr>\n",
              "      <th>2019-11-30</th>\n",
              "      <td>7.23</td>\n",
              "      <td>6.379627</td>\n",
              "    </tr>\n",
              "    <tr>\n",
              "      <th>2019-12-31</th>\n",
              "      <td>7.60</td>\n",
              "      <td>6.384438</td>\n",
              "    </tr>\n",
              "    <tr>\n",
              "      <th>2020-01-31</th>\n",
              "      <td>7.22</td>\n",
              "      <td>6.382282</td>\n",
              "    </tr>\n",
              "    <tr>\n",
              "      <th>2020-02-29</th>\n",
              "      <td>7.76</td>\n",
              "      <td>6.380126</td>\n",
              "    </tr>\n",
              "    <tr>\n",
              "      <th>2020-03-31</th>\n",
              "      <td>8.75</td>\n",
              "      <td>6.377970</td>\n",
              "    </tr>\n",
              "    <tr>\n",
              "      <th>2020-04-30</th>\n",
              "      <td>23.52</td>\n",
              "      <td>6.380171</td>\n",
              "    </tr>\n",
              "    <tr>\n",
              "      <th>2020-05-31</th>\n",
              "      <td>23.48</td>\n",
              "      <td>6.385754</td>\n",
              "    </tr>\n",
              "    <tr>\n",
              "      <th>2020-06-30</th>\n",
              "      <td>10.99</td>\n",
              "      <td>6.390327</td>\n",
              "    </tr>\n",
              "    <tr>\n",
              "      <th>2020-07-31</th>\n",
              "      <td>7.43</td>\n",
              "      <td>6.395201</td>\n",
              "    </tr>\n",
              "  </tbody>\n",
              "</table>\n",
              "</div>"
            ],
            "text/plain": [
              "                y  forecast\n",
              "ds                         \n",
              "2019-08-31   8.19  6.365202\n",
              "2019-09-30   7.16  6.370015\n",
              "2019-10-31   8.10  6.374821\n",
              "2019-11-30   7.23  6.379627\n",
              "2019-12-31   7.60  6.384438\n",
              "2020-01-31   7.22  6.382282\n",
              "2020-02-29   7.76  6.380126\n",
              "2020-03-31   8.75  6.377970\n",
              "2020-04-30  23.52  6.380171\n",
              "2020-05-31  23.48  6.385754\n",
              "2020-06-30  10.99  6.390327\n",
              "2020-07-31   7.43  6.395201"
            ]
          },
          "metadata": {},
          "execution_count": 100
        }
      ]
    },
    {
      "cell_type": "code",
      "metadata": {
        "id": "BtxXwFzowxqc"
      },
      "source": [
        "import statsmodels.api as sm"
      ],
      "execution_count": null,
      "outputs": []
    },
    {
      "cell_type": "code",
      "metadata": {
        "id": "sPV12eN3w5jl",
        "colab": {
          "base_uri": "https://localhost:8080/"
        },
        "outputId": "022f2b08-b45b-422a-b8d3-e0ec8f1ffbf0"
      },
      "source": [
        "model=sm.tsa.statespace.SARIMAX(df['y'],order=(1, 1, 1),seasonal_order=(1,1,1,12))\n",
        "results=model.fit()"
      ],
      "execution_count": null,
      "outputs": [
        {
          "output_type": "stream",
          "text": [
            "/usr/local/lib/python3.7/dist-packages/statsmodels/tsa/base/tsa_model.py:165: ValueWarning: No frequency information was provided, so inferred frequency M will be used.\n",
            "  % freq, ValueWarning)\n"
          ],
          "name": "stderr"
        }
      ]
    },
    {
      "cell_type": "code",
      "metadata": {
        "id": "id9AgTfMw-8I",
        "colab": {
          "base_uri": "https://localhost:8080/",
          "height": 279
        },
        "outputId": "36c8318e-6a3e-425b-a81d-c0d397ffbd48"
      },
      "source": [
        "df['forecast']=results.predict(start=100,end=344,dynamic=True)\n",
        "df[['y','forecast']].plot(figsize=(6,4))\n",
        "plt.savefig(\"filename4.pdf\")"
      ],
      "execution_count": null,
      "outputs": [
        {
          "output_type": "display_data",
          "data": {
            "image/png": "[encoded data removed]",
            "text/plain": [
              "<Figure size 432x288 with 1 Axes>"
            ]
          },
          "metadata": {
            "needs_background": "light"
          }
        }
      ]
    },
    {
      "cell_type": "code",
      "metadata": {
        "colab": {
          "base_uri": "https://localhost:8080/",
          "height": 450
        },
        "id": "_343m2odTNUL",
        "outputId": "1c04a1f4-f4bb-46a4-a6c9-fbc0d7ecc369"
      },
      "source": [
        "df[100:]"
      ],
      "execution_count": null,
      "outputs": [
        {
          "output_type": "execute_result",
          "data": {
            "text/html": [
              "<div>\n",
              "<style scoped>\n",
              "    .dataframe tbody tr th:only-of-type {\n",
              "        vertical-align: middle;\n",
              "    }\n",
              "\n",
              "    .dataframe tbody tr th {\n",
              "        vertical-align: top;\n",
              "    }\n",
              "\n",
              "    .dataframe thead th {\n",
              "        text-align: right;\n",
              "    }\n",
              "</style>\n",
              "<table border=\"1\" class=\"dataframe\">\n",
              "  <thead>\n",
              "    <tr style=\"text-align: right;\">\n",
              "      <th></th>\n",
              "      <th>y</th>\n",
              "      <th>forecast</th>\n",
              "    </tr>\n",
              "    <tr>\n",
              "      <th>ds</th>\n",
              "      <th></th>\n",
              "      <th></th>\n",
              "    </tr>\n",
              "  </thead>\n",
              "  <tbody>\n",
              "    <tr>\n",
              "      <th>2000-04-30</th>\n",
              "      <td>5.6800</td>\n",
              "      <td>5.684479</td>\n",
              "    </tr>\n",
              "    <tr>\n",
              "      <th>2000-05-31</th>\n",
              "      <td>5.6775</td>\n",
              "      <td>5.689934</td>\n",
              "    </tr>\n",
              "    <tr>\n",
              "      <th>2000-06-30</th>\n",
              "      <td>5.6750</td>\n",
              "      <td>5.694351</td>\n",
              "    </tr>\n",
              "    <tr>\n",
              "      <th>2000-07-31</th>\n",
              "      <td>5.6725</td>\n",
              "      <td>5.699078</td>\n",
              "    </tr>\n",
              "    <tr>\n",
              "      <th>2000-08-31</th>\n",
              "      <td>5.6700</td>\n",
              "      <td>5.703713</td>\n",
              "    </tr>\n",
              "    <tr>\n",
              "      <th>...</th>\n",
              "      <td>...</td>\n",
              "      <td>...</td>\n",
              "    </tr>\n",
              "    <tr>\n",
              "      <th>2020-03-31</th>\n",
              "      <td>8.7500</td>\n",
              "      <td>6.377970</td>\n",
              "    </tr>\n",
              "    <tr>\n",
              "      <th>2020-04-30</th>\n",
              "      <td>23.5200</td>\n",
              "      <td>6.380171</td>\n",
              "    </tr>\n",
              "    <tr>\n",
              "      <th>2020-05-31</th>\n",
              "      <td>23.4800</td>\n",
              "      <td>6.385754</td>\n",
              "    </tr>\n",
              "    <tr>\n",
              "      <th>2020-06-30</th>\n",
              "      <td>10.9900</td>\n",
              "      <td>6.390327</td>\n",
              "    </tr>\n",
              "    <tr>\n",
              "      <th>2020-07-31</th>\n",
              "      <td>7.4300</td>\n",
              "      <td>6.395201</td>\n",
              "    </tr>\n",
              "  </tbody>\n",
              "</table>\n",
              "<p>244 rows × 2 columns</p>\n",
              "</div>"
            ],
            "text/plain": [
              "                  y  forecast\n",
              "ds                           \n",
              "2000-04-30   5.6800  5.684479\n",
              "2000-05-31   5.6775  5.689934\n",
              "2000-06-30   5.6750  5.694351\n",
              "2000-07-31   5.6725  5.699078\n",
              "2000-08-31   5.6700  5.703713\n",
              "...             ...       ...\n",
              "2020-03-31   8.7500  6.377970\n",
              "2020-04-30  23.5200  6.380171\n",
              "2020-05-31  23.4800  6.385754\n",
              "2020-06-30  10.9900  6.390327\n",
              "2020-07-31   7.4300  6.395201\n",
              "\n",
              "[244 rows x 2 columns]"
            ]
          },
          "metadata": {},
          "execution_count": 81
        }
      ]
    },
    {
      "cell_type": "code",
      "metadata": {
        "colab": {
          "base_uri": "https://localhost:8080/"
        },
        "id": "oOnszqrsVMd2",
        "outputId": "96aca721-ea78-417e-edf4-a471138c2573"
      },
      "source": [
        "df.index[-1]"
      ],
      "execution_count": null,
      "outputs": [
        {
          "output_type": "execute_result",
          "data": {
            "text/plain": [
              "Timestamp('2020-07-31 00:00:00')"
            ]
          },
          "metadata": {},
          "execution_count": 116
        }
      ]
    },
    {
      "cell_type": "code",
      "metadata": {
        "id": "RitNEprVxPDI"
      },
      "source": [
        "from pandas.tseries.offsets import DateOffset\n",
        "future_dates=[df.index[-1]+ DateOffset(months=x)for x in range(0,18)]\n"
      ],
      "execution_count": null,
      "outputs": []
    },
    {
      "cell_type": "code",
      "metadata": {
        "colab": {
          "base_uri": "https://localhost:8080/"
        },
        "id": "s2KEcxwoVRHD",
        "outputId": "13cd9200-f051-442a-e8be-9a345ebe1840"
      },
      "source": [
        "future_dates"
      ],
      "execution_count": null,
      "outputs": [
        {
          "output_type": "execute_result",
          "data": {
            "text/plain": [
              "[Timestamp('2020-07-31 00:00:00'),\n",
              " Timestamp('2020-08-31 00:00:00'),\n",
              " Timestamp('2020-09-30 00:00:00'),\n",
              " Timestamp('2020-10-31 00:00:00'),\n",
              " Timestamp('2020-11-30 00:00:00'),\n",
              " Timestamp('2020-12-31 00:00:00'),\n",
              " Timestamp('2021-01-31 00:00:00'),\n",
              " Timestamp('2021-02-28 00:00:00'),\n",
              " Timestamp('2021-03-31 00:00:00'),\n",
              " Timestamp('2021-04-30 00:00:00'),\n",
              " Timestamp('2021-05-31 00:00:00'),\n",
              " Timestamp('2021-06-30 00:00:00'),\n",
              " Timestamp('2021-07-31 00:00:00'),\n",
              " Timestamp('2021-08-31 00:00:00'),\n",
              " Timestamp('2021-09-30 00:00:00'),\n",
              " Timestamp('2021-10-31 00:00:00'),\n",
              " Timestamp('2021-11-30 00:00:00'),\n",
              " Timestamp('2021-12-31 00:00:00')]"
            ]
          },
          "metadata": {},
          "execution_count": 118
        }
      ]
    },
    {
      "cell_type": "code",
      "metadata": {
        "id": "wt6vcnJ8xoth"
      },
      "source": [
        "future_datest_df=pd.DataFrame(index=future_dates[1:],columns=df.columns)"
      ],
      "execution_count": null,
      "outputs": []
    },
    {
      "cell_type": "code",
      "metadata": {
        "id": "FHhVBpq2xrqw",
        "colab": {
          "base_uri": "https://localhost:8080/",
          "height": 576
        },
        "outputId": "263619ae-f4b0-4e49-eb67-0a02c9486718"
      },
      "source": [
        "future_datest_df"
      ],
      "execution_count": null,
      "outputs": [
        {
          "output_type": "execute_result",
          "data": {
            "text/html": [
              "<div>\n",
              "<style scoped>\n",
              "    .dataframe tbody tr th:only-of-type {\n",
              "        vertical-align: middle;\n",
              "    }\n",
              "\n",
              "    .dataframe tbody tr th {\n",
              "        vertical-align: top;\n",
              "    }\n",
              "\n",
              "    .dataframe thead th {\n",
              "        text-align: right;\n",
              "    }\n",
              "</style>\n",
              "<table border=\"1\" class=\"dataframe\">\n",
              "  <thead>\n",
              "    <tr style=\"text-align: right;\">\n",
              "      <th></th>\n",
              "      <th>y</th>\n",
              "    </tr>\n",
              "  </thead>\n",
              "  <tbody>\n",
              "    <tr>\n",
              "      <th>2020-08-31</th>\n",
              "      <td>NaN</td>\n",
              "    </tr>\n",
              "    <tr>\n",
              "      <th>2020-09-30</th>\n",
              "      <td>NaN</td>\n",
              "    </tr>\n",
              "    <tr>\n",
              "      <th>2020-10-31</th>\n",
              "      <td>NaN</td>\n",
              "    </tr>\n",
              "    <tr>\n",
              "      <th>2020-11-30</th>\n",
              "      <td>NaN</td>\n",
              "    </tr>\n",
              "    <tr>\n",
              "      <th>2020-12-31</th>\n",
              "      <td>NaN</td>\n",
              "    </tr>\n",
              "    <tr>\n",
              "      <th>2021-01-31</th>\n",
              "      <td>NaN</td>\n",
              "    </tr>\n",
              "    <tr>\n",
              "      <th>2021-02-28</th>\n",
              "      <td>NaN</td>\n",
              "    </tr>\n",
              "    <tr>\n",
              "      <th>2021-03-31</th>\n",
              "      <td>NaN</td>\n",
              "    </tr>\n",
              "    <tr>\n",
              "      <th>2021-04-30</th>\n",
              "      <td>NaN</td>\n",
              "    </tr>\n",
              "    <tr>\n",
              "      <th>2021-05-31</th>\n",
              "      <td>NaN</td>\n",
              "    </tr>\n",
              "    <tr>\n",
              "      <th>2021-06-30</th>\n",
              "      <td>NaN</td>\n",
              "    </tr>\n",
              "    <tr>\n",
              "      <th>2021-07-31</th>\n",
              "      <td>NaN</td>\n",
              "    </tr>\n",
              "    <tr>\n",
              "      <th>2021-08-31</th>\n",
              "      <td>NaN</td>\n",
              "    </tr>\n",
              "    <tr>\n",
              "      <th>2021-09-30</th>\n",
              "      <td>NaN</td>\n",
              "    </tr>\n",
              "    <tr>\n",
              "      <th>2021-10-31</th>\n",
              "      <td>NaN</td>\n",
              "    </tr>\n",
              "    <tr>\n",
              "      <th>2021-11-30</th>\n",
              "      <td>NaN</td>\n",
              "    </tr>\n",
              "    <tr>\n",
              "      <th>2021-12-31</th>\n",
              "      <td>NaN</td>\n",
              "    </tr>\n",
              "  </tbody>\n",
              "</table>\n",
              "</div>"
            ],
            "text/plain": [
              "              y\n",
              "2020-08-31  NaN\n",
              "2020-09-30  NaN\n",
              "2020-10-31  NaN\n",
              "2020-11-30  NaN\n",
              "2020-12-31  NaN\n",
              "2021-01-31  NaN\n",
              "2021-02-28  NaN\n",
              "2021-03-31  NaN\n",
              "2021-04-30  NaN\n",
              "2021-05-31  NaN\n",
              "2021-06-30  NaN\n",
              "2021-07-31  NaN\n",
              "2021-08-31  NaN\n",
              "2021-09-30  NaN\n",
              "2021-10-31  NaN\n",
              "2021-11-30  NaN\n",
              "2021-12-31  NaN"
            ]
          },
          "metadata": {},
          "execution_count": 120
        }
      ]
    },
    {
      "cell_type": "code",
      "metadata": {
        "id": "0iwmZBzWxueA"
      },
      "source": [
        "future_df=pd.concat([df,future_datest_df])"
      ],
      "execution_count": null,
      "outputs": []
    },
    {
      "cell_type": "code",
      "metadata": {
        "colab": {
          "base_uri": "https://localhost:8080/",
          "height": 419
        },
        "id": "6Jn3wDr5Tgcn",
        "outputId": "2c33ef69-aec3-493b-a02d-37b44e690782"
      },
      "source": [
        "future_df"
      ],
      "execution_count": null,
      "outputs": [
        {
          "output_type": "execute_result",
          "data": {
            "text/html": [
              "<div>\n",
              "<style scoped>\n",
              "    .dataframe tbody tr th:only-of-type {\n",
              "        vertical-align: middle;\n",
              "    }\n",
              "\n",
              "    .dataframe tbody tr th {\n",
              "        vertical-align: top;\n",
              "    }\n",
              "\n",
              "    .dataframe thead th {\n",
              "        text-align: right;\n",
              "    }\n",
              "</style>\n",
              "<table border=\"1\" class=\"dataframe\">\n",
              "  <thead>\n",
              "    <tr style=\"text-align: right;\">\n",
              "      <th></th>\n",
              "      <th>y</th>\n",
              "    </tr>\n",
              "  </thead>\n",
              "  <tbody>\n",
              "    <tr>\n",
              "      <th>1991-12-31</th>\n",
              "      <td>5.450000</td>\n",
              "    </tr>\n",
              "    <tr>\n",
              "      <th>1992-01-31</th>\n",
              "      <td>5.454167</td>\n",
              "    </tr>\n",
              "    <tr>\n",
              "      <th>1992-02-29</th>\n",
              "      <td>5.458333</td>\n",
              "    </tr>\n",
              "    <tr>\n",
              "      <th>1992-03-31</th>\n",
              "      <td>5.462500</td>\n",
              "    </tr>\n",
              "    <tr>\n",
              "      <th>1992-04-30</th>\n",
              "      <td>5.466667</td>\n",
              "    </tr>\n",
              "    <tr>\n",
              "      <th>...</th>\n",
              "      <td>...</td>\n",
              "    </tr>\n",
              "    <tr>\n",
              "      <th>2021-08-31</th>\n",
              "      <td>NaN</td>\n",
              "    </tr>\n",
              "    <tr>\n",
              "      <th>2021-09-30</th>\n",
              "      <td>NaN</td>\n",
              "    </tr>\n",
              "    <tr>\n",
              "      <th>2021-10-31</th>\n",
              "      <td>NaN</td>\n",
              "    </tr>\n",
              "    <tr>\n",
              "      <th>2021-11-30</th>\n",
              "      <td>NaN</td>\n",
              "    </tr>\n",
              "    <tr>\n",
              "      <th>2021-12-31</th>\n",
              "      <td>NaN</td>\n",
              "    </tr>\n",
              "  </tbody>\n",
              "</table>\n",
              "<p>361 rows × 1 columns</p>\n",
              "</div>"
            ],
            "text/plain": [
              "                   y\n",
              "1991-12-31  5.450000\n",
              "1992-01-31  5.454167\n",
              "1992-02-29  5.458333\n",
              "1992-03-31  5.462500\n",
              "1992-04-30  5.466667\n",
              "...              ...\n",
              "2021-08-31       NaN\n",
              "2021-09-30       NaN\n",
              "2021-10-31       NaN\n",
              "2021-11-30       NaN\n",
              "2021-12-31       NaN\n",
              "\n",
              "[361 rows x 1 columns]"
            ]
          },
          "metadata": {},
          "execution_count": 122
        }
      ]
    },
    {
      "cell_type": "code",
      "metadata": {
        "id": "oUIs7kGUxzBh",
        "colab": {
          "base_uri": "https://localhost:8080/",
          "height": 265
        },
        "outputId": "7345e59b-f5ed-43ec-bc83-7757bcd0bb9b"
      },
      "source": [
        "future_df['forecast'] = model_fit.predict(start = 104, end = 361, dynamic= True)  \n",
        "future_df[['y', 'forecast']].plot(figsize=(6,4))\n",
        "plt.savefig(\"filename7.pdf\")"
      ],
      "execution_count": null,
      "outputs": [
        {
          "output_type": "display_data",
          "data": {
            "image/png": "[encoded data removed]",
            "text/plain": [
              "<Figure size 432x288 with 1 Axes>"
            ]
          },
          "metadata": {
            "needs_background": "light"
          }
        }
      ]
    },
    {
      "cell_type": "code",
      "metadata": {
        "id": "P4_2Iz4vx4Lp"
      },
      "source": [
        "future_df[-13:]['forecast'].to_csv(\"ARIMA_preds.csv\")"
      ],
      "execution_count": null,
      "outputs": []
    },
    {
      "cell_type": "code",
      "metadata": {
        "id": "hs-ivC5pTr_y"
      },
      "source": [
        ""
      ],
      "execution_count": null,
      "outputs": []
    }
  ]
}